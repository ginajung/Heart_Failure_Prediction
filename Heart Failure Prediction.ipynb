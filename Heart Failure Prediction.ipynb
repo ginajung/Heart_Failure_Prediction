{
 "cells": [
  {
   "cell_type": "markdown",
   "metadata": {
    "id": "r6irAPO4rMBU"
   },
   "source": [
    "# Heart Failure correlation\n",
    "\n",
    "- To establish a model to predict heart failure \n",
    " \n",
    "\n",
    "## Data source\n",
    "\n",
    "https://www.kaggle.com/fedesoriano/heart-failure-prediction\n",
    "\n",
    "\n",
    "## Overview\n",
    "\n",
    "\n"
   ]
  },
  {
   "cell_type": "markdown",
   "metadata": {
    "id": "FuIP3UI9s9Us"
   },
   "source": [
    "# Loading libraries and data"
   ]
  },
  {
   "cell_type": "code",
   "execution_count": 3,
   "metadata": {
    "colab": {
     "base_uri": "https://localhost:8080/"
    },
    "executionInfo": {
     "elapsed": 20100,
     "status": "ok",
     "timestamp": 1639873336189,
     "user": {
      "displayName": "David Chong",
      "photoUrl": "https://lh3.googleusercontent.com/a/default-user=s64",
      "userId": "17914885425914453493"
     },
     "user_tz": 0
    },
    "id": "j_JWsQwznTsv",
    "outputId": "cd934689-e32f-4673-a56a-510413a12310"
   },
   "outputs": [],
   "source": [
    "# Data wrangling\n",
    "import numpy as np\n",
    "import pandas as pd\n",
    "\n",
    "\n",
    "# Visualization\n",
    "import matplotlib.pyplot as plt\n",
    "import seaborn as sns\n",
    "\n",
    "# Machine learning\n",
    "from sklearn.decomposition import PCA\n",
    "from sklearn.preprocessing import StandardScaler\n",
    "from sklearn.model_selection import train_test_split, GridSearchCV\n",
    "from sklearn.linear_model import LogisticRegression\n",
    "from sklearn.ensemble import RandomForestClassifier\n",
    "from sklearn.metrics import accuracy_score, confusion_matrix, precision_score, recall_score, f1_score\n",
    "from sklearn.svm import SVC\n",
    "from imblearn.over_sampling import RandomOverSampler\n"
   ]
  },
  {
   "cell_type": "markdown",
   "metadata": {},
   "source": [
    "- heart"
   ]
  },
  {
   "cell_type": "code",
   "execution_count": 32,
   "metadata": {
    "id": "bWiyh65snY61"
   },
   "outputs": [],
   "source": [
    "# Load raw data\n",
    "heart = pd.read_csv(\"heart.csv\")"
   ]
  },
  {
   "cell_type": "code",
   "execution_count": 6,
   "metadata": {},
   "outputs": [
    {
     "data": {
      "text/html": [
       "<div>\n",
       "<style scoped>\n",
       "    .dataframe tbody tr th:only-of-type {\n",
       "        vertical-align: middle;\n",
       "    }\n",
       "\n",
       "    .dataframe tbody tr th {\n",
       "        vertical-align: top;\n",
       "    }\n",
       "\n",
       "    .dataframe thead th {\n",
       "        text-align: right;\n",
       "    }\n",
       "</style>\n",
       "<table border=\"1\" class=\"dataframe\">\n",
       "  <thead>\n",
       "    <tr style=\"text-align: right;\">\n",
       "      <th></th>\n",
       "      <th>count</th>\n",
       "      <th>mean</th>\n",
       "      <th>std</th>\n",
       "      <th>min</th>\n",
       "      <th>25%</th>\n",
       "      <th>50%</th>\n",
       "      <th>75%</th>\n",
       "      <th>max</th>\n",
       "    </tr>\n",
       "  </thead>\n",
       "  <tbody>\n",
       "    <tr>\n",
       "      <th>Age</th>\n",
       "      <td>918.0</td>\n",
       "      <td>53.510893</td>\n",
       "      <td>9.432617</td>\n",
       "      <td>28.0</td>\n",
       "      <td>47.00</td>\n",
       "      <td>54.0</td>\n",
       "      <td>60.0</td>\n",
       "      <td>77.0</td>\n",
       "    </tr>\n",
       "    <tr>\n",
       "      <th>RestingBP</th>\n",
       "      <td>918.0</td>\n",
       "      <td>132.396514</td>\n",
       "      <td>18.514154</td>\n",
       "      <td>0.0</td>\n",
       "      <td>120.00</td>\n",
       "      <td>130.0</td>\n",
       "      <td>140.0</td>\n",
       "      <td>200.0</td>\n",
       "    </tr>\n",
       "    <tr>\n",
       "      <th>Cholesterol</th>\n",
       "      <td>918.0</td>\n",
       "      <td>198.799564</td>\n",
       "      <td>109.384145</td>\n",
       "      <td>0.0</td>\n",
       "      <td>173.25</td>\n",
       "      <td>223.0</td>\n",
       "      <td>267.0</td>\n",
       "      <td>603.0</td>\n",
       "    </tr>\n",
       "    <tr>\n",
       "      <th>FastingBS</th>\n",
       "      <td>918.0</td>\n",
       "      <td>0.233115</td>\n",
       "      <td>0.423046</td>\n",
       "      <td>0.0</td>\n",
       "      <td>0.00</td>\n",
       "      <td>0.0</td>\n",
       "      <td>0.0</td>\n",
       "      <td>1.0</td>\n",
       "    </tr>\n",
       "    <tr>\n",
       "      <th>MaxHR</th>\n",
       "      <td>918.0</td>\n",
       "      <td>136.809368</td>\n",
       "      <td>25.460334</td>\n",
       "      <td>60.0</td>\n",
       "      <td>120.00</td>\n",
       "      <td>138.0</td>\n",
       "      <td>156.0</td>\n",
       "      <td>202.0</td>\n",
       "    </tr>\n",
       "    <tr>\n",
       "      <th>Oldpeak</th>\n",
       "      <td>918.0</td>\n",
       "      <td>0.887364</td>\n",
       "      <td>1.066570</td>\n",
       "      <td>-2.6</td>\n",
       "      <td>0.00</td>\n",
       "      <td>0.6</td>\n",
       "      <td>1.5</td>\n",
       "      <td>6.2</td>\n",
       "    </tr>\n",
       "    <tr>\n",
       "      <th>HeartDisease</th>\n",
       "      <td>918.0</td>\n",
       "      <td>0.553377</td>\n",
       "      <td>0.497414</td>\n",
       "      <td>0.0</td>\n",
       "      <td>0.00</td>\n",
       "      <td>1.0</td>\n",
       "      <td>1.0</td>\n",
       "      <td>1.0</td>\n",
       "    </tr>\n",
       "  </tbody>\n",
       "</table>\n",
       "</div>"
      ],
      "text/plain": [
       "              count        mean         std   min     25%    50%    75%    max\n",
       "Age           918.0   53.510893    9.432617  28.0   47.00   54.0   60.0   77.0\n",
       "RestingBP     918.0  132.396514   18.514154   0.0  120.00  130.0  140.0  200.0\n",
       "Cholesterol   918.0  198.799564  109.384145   0.0  173.25  223.0  267.0  603.0\n",
       "FastingBS     918.0    0.233115    0.423046   0.0    0.00    0.0    0.0    1.0\n",
       "MaxHR         918.0  136.809368   25.460334  60.0  120.00  138.0  156.0  202.0\n",
       "Oldpeak       918.0    0.887364    1.066570  -2.6    0.00    0.6    1.5    6.2\n",
       "HeartDisease  918.0    0.553377    0.497414   0.0    0.00    1.0    1.0    1.0"
      ]
     },
     "execution_count": 6,
     "metadata": {},
     "output_type": "execute_result"
    }
   ],
   "source": [
    "heart.describe().T"
   ]
  },
  {
   "cell_type": "code",
   "execution_count": 53,
   "metadata": {},
   "outputs": [
    {
     "name": "stdout",
     "output_type": "stream",
     "text": [
      "<class 'pandas.core.frame.DataFrame'>\n",
      "RangeIndex: 918 entries, 0 to 917\n",
      "Data columns (total 12 columns):\n",
      " #   Column          Non-Null Count  Dtype  \n",
      "---  ------          --------------  -----  \n",
      " 0   Age             918 non-null    int64  \n",
      " 1   Sex             918 non-null    object \n",
      " 2   ChestPainType   918 non-null    object \n",
      " 3   RestingBP       918 non-null    int64  \n",
      " 4   Cholesterol     918 non-null    int64  \n",
      " 5   FastingBS       918 non-null    int64  \n",
      " 6   RestingECG      918 non-null    object \n",
      " 7   MaxHR           918 non-null    int64  \n",
      " 8   ExerciseAngina  918 non-null    object \n",
      " 9   Oldpeak         918 non-null    float64\n",
      " 10  ST_Slope        918 non-null    object \n",
      " 11  HeartDisease    918 non-null    int64  \n",
      "dtypes: float64(1), int64(6), object(5)\n",
      "memory usage: 86.2+ KB\n"
     ]
    }
   ],
   "source": [
    "columns = heart.columns\n",
    "heart.info()"
   ]
  },
  {
   "cell_type": "markdown",
   "metadata": {
    "id": "m05-zQiTtFia"
   },
   "source": [
    "# Exploratory Data Analysis"
   ]
  },
  {
   "cell_type": "markdown",
   "metadata": {
    "id": "UoCA4FkcuVph"
   },
   "source": [
    "- overview data type in features\n",
    "- handle object to one hot encoding\n"
   ]
  },
  {
   "cell_type": "code",
   "execution_count": 34,
   "metadata": {
    "colab": {
     "base_uri": "https://localhost:8080/",
     "height": 295
    },
    "executionInfo": {
     "elapsed": 249,
     "status": "ok",
     "timestamp": 1639843502220,
     "user": {
      "displayName": "David Chong",
      "photoUrl": "https://lh3.googleusercontent.com/a/default-user=s64",
      "userId": "17914885425914453493"
     },
     "user_tz": 0
    },
    "id": "PQX4vk9erD2Q",
    "outputId": "a0a2948f-47b9-4724-e05c-87cedacd61d1"
   },
   "outputs": [
    {
     "data": {
      "image/png": "[encoded data removed]",
      "text/plain": [
       "<Figure size 432x288 with 1 Axes>"
      ]
     },
     "metadata": {
      "needs_background": "light"
     },
     "output_type": "display_data"
    }
   ],
   "source": [
    "plt.bar([str(x) for x in heart.dtypes.value_counts().index], heart.dtypes.value_counts())\n",
    "plt.ylabel(\"Frequency\")\n",
    "plt.xlabel(\"Variable type\")\n",
    "plt.title(\"Feature data types\")\n",
    "plt.show()"
   ]
  },
  {
   "cell_type": "code",
   "execution_count": 35,
   "metadata": {},
   "outputs": [
    {
     "data": {
      "text/plain": [
       "Index(['Sex', 'ChestPainType', 'RestingECG', 'ExerciseAngina', 'ST_Slope'], dtype='object')"
      ]
     },
     "execution_count": 35,
     "metadata": {},
     "output_type": "execute_result"
    }
   ],
   "source": [
    "object_col = heart.select_dtypes(include='object').columns\n",
    "object_col\n"
   ]
  },
  {
   "cell_type": "code",
   "execution_count": 54,
   "metadata": {},
   "outputs": [
    {
     "data": {
      "text/plain": [
       "Index(['Age', 'Sex', 'ChestPainType', 'RestingBP', 'Cholesterol', 'FastingBS',\n",
       "       'RestingECG', 'MaxHR', 'ExerciseAngina', 'Oldpeak', 'ST_Slope',\n",
       "       'HeartDisease'],\n",
       "      dtype='object')"
      ]
     },
     "execution_count": 54,
     "metadata": {},
     "output_type": "execute_result"
    }
   ],
   "source": [
    "columns"
   ]
  },
  {
   "cell_type": "code",
   "execution_count": 39,
   "metadata": {},
   "outputs": [
    {
     "data": {
      "text/html": [
       "<div>\n",
       "<style scoped>\n",
       "    .dataframe tbody tr th:only-of-type {\n",
       "        vertical-align: middle;\n",
       "    }\n",
       "\n",
       "    .dataframe tbody tr th {\n",
       "        vertical-align: top;\n",
       "    }\n",
       "\n",
       "    .dataframe thead th {\n",
       "        text-align: right;\n",
       "    }\n",
       "</style>\n",
       "<table border=\"1\" class=\"dataframe\">\n",
       "  <thead>\n",
       "    <tr style=\"text-align: right;\">\n",
       "      <th></th>\n",
       "      <th>Age</th>\n",
       "      <th>RestingBP</th>\n",
       "      <th>Cholesterol</th>\n",
       "      <th>FastingBS</th>\n",
       "      <th>MaxHR</th>\n",
       "      <th>Oldpeak</th>\n",
       "      <th>HeartDisease</th>\n",
       "      <th>Sex_F</th>\n",
       "      <th>Sex_M</th>\n",
       "      <th>ChestPainType_ASY</th>\n",
       "      <th>...</th>\n",
       "      <th>ChestPainType_NAP</th>\n",
       "      <th>ChestPainType_TA</th>\n",
       "      <th>RestingECG_LVH</th>\n",
       "      <th>RestingECG_Normal</th>\n",
       "      <th>RestingECG_ST</th>\n",
       "      <th>ExerciseAngina_N</th>\n",
       "      <th>ExerciseAngina_Y</th>\n",
       "      <th>ST_Slope_Down</th>\n",
       "      <th>ST_Slope_Flat</th>\n",
       "      <th>ST_Slope_Up</th>\n",
       "    </tr>\n",
       "  </thead>\n",
       "  <tbody>\n",
       "    <tr>\n",
       "      <th>0</th>\n",
       "      <td>40</td>\n",
       "      <td>140</td>\n",
       "      <td>289</td>\n",
       "      <td>0</td>\n",
       "      <td>172</td>\n",
       "      <td>0.0</td>\n",
       "      <td>0</td>\n",
       "      <td>0</td>\n",
       "      <td>1</td>\n",
       "      <td>0</td>\n",
       "      <td>...</td>\n",
       "      <td>0</td>\n",
       "      <td>0</td>\n",
       "      <td>0</td>\n",
       "      <td>1</td>\n",
       "      <td>0</td>\n",
       "      <td>1</td>\n",
       "      <td>0</td>\n",
       "      <td>0</td>\n",
       "      <td>0</td>\n",
       "      <td>1</td>\n",
       "    </tr>\n",
       "    <tr>\n",
       "      <th>1</th>\n",
       "      <td>49</td>\n",
       "      <td>160</td>\n",
       "      <td>180</td>\n",
       "      <td>0</td>\n",
       "      <td>156</td>\n",
       "      <td>1.0</td>\n",
       "      <td>1</td>\n",
       "      <td>1</td>\n",
       "      <td>0</td>\n",
       "      <td>0</td>\n",
       "      <td>...</td>\n",
       "      <td>1</td>\n",
       "      <td>0</td>\n",
       "      <td>0</td>\n",
       "      <td>1</td>\n",
       "      <td>0</td>\n",
       "      <td>1</td>\n",
       "      <td>0</td>\n",
       "      <td>0</td>\n",
       "      <td>1</td>\n",
       "      <td>0</td>\n",
       "    </tr>\n",
       "    <tr>\n",
       "      <th>2</th>\n",
       "      <td>37</td>\n",
       "      <td>130</td>\n",
       "      <td>283</td>\n",
       "      <td>0</td>\n",
       "      <td>98</td>\n",
       "      <td>0.0</td>\n",
       "      <td>0</td>\n",
       "      <td>0</td>\n",
       "      <td>1</td>\n",
       "      <td>0</td>\n",
       "      <td>...</td>\n",
       "      <td>0</td>\n",
       "      <td>0</td>\n",
       "      <td>0</td>\n",
       "      <td>0</td>\n",
       "      <td>1</td>\n",
       "      <td>1</td>\n",
       "      <td>0</td>\n",
       "      <td>0</td>\n",
       "      <td>0</td>\n",
       "      <td>1</td>\n",
       "    </tr>\n",
       "    <tr>\n",
       "      <th>3</th>\n",
       "      <td>48</td>\n",
       "      <td>138</td>\n",
       "      <td>214</td>\n",
       "      <td>0</td>\n",
       "      <td>108</td>\n",
       "      <td>1.5</td>\n",
       "      <td>1</td>\n",
       "      <td>1</td>\n",
       "      <td>0</td>\n",
       "      <td>1</td>\n",
       "      <td>...</td>\n",
       "      <td>0</td>\n",
       "      <td>0</td>\n",
       "      <td>0</td>\n",
       "      <td>1</td>\n",
       "      <td>0</td>\n",
       "      <td>0</td>\n",
       "      <td>1</td>\n",
       "      <td>0</td>\n",
       "      <td>1</td>\n",
       "      <td>0</td>\n",
       "    </tr>\n",
       "    <tr>\n",
       "      <th>4</th>\n",
       "      <td>54</td>\n",
       "      <td>150</td>\n",
       "      <td>195</td>\n",
       "      <td>0</td>\n",
       "      <td>122</td>\n",
       "      <td>0.0</td>\n",
       "      <td>0</td>\n",
       "      <td>0</td>\n",
       "      <td>1</td>\n",
       "      <td>0</td>\n",
       "      <td>...</td>\n",
       "      <td>1</td>\n",
       "      <td>0</td>\n",
       "      <td>0</td>\n",
       "      <td>1</td>\n",
       "      <td>0</td>\n",
       "      <td>1</td>\n",
       "      <td>0</td>\n",
       "      <td>0</td>\n",
       "      <td>0</td>\n",
       "      <td>1</td>\n",
       "    </tr>\n",
       "    <tr>\n",
       "      <th>...</th>\n",
       "      <td>...</td>\n",
       "      <td>...</td>\n",
       "      <td>...</td>\n",
       "      <td>...</td>\n",
       "      <td>...</td>\n",
       "      <td>...</td>\n",
       "      <td>...</td>\n",
       "      <td>...</td>\n",
       "      <td>...</td>\n",
       "      <td>...</td>\n",
       "      <td>...</td>\n",
       "      <td>...</td>\n",
       "      <td>...</td>\n",
       "      <td>...</td>\n",
       "      <td>...</td>\n",
       "      <td>...</td>\n",
       "      <td>...</td>\n",
       "      <td>...</td>\n",
       "      <td>...</td>\n",
       "      <td>...</td>\n",
       "      <td>...</td>\n",
       "    </tr>\n",
       "    <tr>\n",
       "      <th>913</th>\n",
       "      <td>45</td>\n",
       "      <td>110</td>\n",
       "      <td>264</td>\n",
       "      <td>0</td>\n",
       "      <td>132</td>\n",
       "      <td>1.2</td>\n",
       "      <td>1</td>\n",
       "      <td>0</td>\n",
       "      <td>1</td>\n",
       "      <td>0</td>\n",
       "      <td>...</td>\n",
       "      <td>0</td>\n",
       "      <td>1</td>\n",
       "      <td>0</td>\n",
       "      <td>1</td>\n",
       "      <td>0</td>\n",
       "      <td>1</td>\n",
       "      <td>0</td>\n",
       "      <td>0</td>\n",
       "      <td>1</td>\n",
       "      <td>0</td>\n",
       "    </tr>\n",
       "    <tr>\n",
       "      <th>914</th>\n",
       "      <td>68</td>\n",
       "      <td>144</td>\n",
       "      <td>193</td>\n",
       "      <td>1</td>\n",
       "      <td>141</td>\n",
       "      <td>3.4</td>\n",
       "      <td>1</td>\n",
       "      <td>0</td>\n",
       "      <td>1</td>\n",
       "      <td>1</td>\n",
       "      <td>...</td>\n",
       "      <td>0</td>\n",
       "      <td>0</td>\n",
       "      <td>0</td>\n",
       "      <td>1</td>\n",
       "      <td>0</td>\n",
       "      <td>1</td>\n",
       "      <td>0</td>\n",
       "      <td>0</td>\n",
       "      <td>1</td>\n",
       "      <td>0</td>\n",
       "    </tr>\n",
       "    <tr>\n",
       "      <th>915</th>\n",
       "      <td>57</td>\n",
       "      <td>130</td>\n",
       "      <td>131</td>\n",
       "      <td>0</td>\n",
       "      <td>115</td>\n",
       "      <td>1.2</td>\n",
       "      <td>1</td>\n",
       "      <td>0</td>\n",
       "      <td>1</td>\n",
       "      <td>1</td>\n",
       "      <td>...</td>\n",
       "      <td>0</td>\n",
       "      <td>0</td>\n",
       "      <td>0</td>\n",
       "      <td>1</td>\n",
       "      <td>0</td>\n",
       "      <td>0</td>\n",
       "      <td>1</td>\n",
       "      <td>0</td>\n",
       "      <td>1</td>\n",
       "      <td>0</td>\n",
       "    </tr>\n",
       "    <tr>\n",
       "      <th>916</th>\n",
       "      <td>57</td>\n",
       "      <td>130</td>\n",
       "      <td>236</td>\n",
       "      <td>0</td>\n",
       "      <td>174</td>\n",
       "      <td>0.0</td>\n",
       "      <td>1</td>\n",
       "      <td>1</td>\n",
       "      <td>0</td>\n",
       "      <td>0</td>\n",
       "      <td>...</td>\n",
       "      <td>0</td>\n",
       "      <td>0</td>\n",
       "      <td>1</td>\n",
       "      <td>0</td>\n",
       "      <td>0</td>\n",
       "      <td>1</td>\n",
       "      <td>0</td>\n",
       "      <td>0</td>\n",
       "      <td>1</td>\n",
       "      <td>0</td>\n",
       "    </tr>\n",
       "    <tr>\n",
       "      <th>917</th>\n",
       "      <td>38</td>\n",
       "      <td>138</td>\n",
       "      <td>175</td>\n",
       "      <td>0</td>\n",
       "      <td>173</td>\n",
       "      <td>0.0</td>\n",
       "      <td>0</td>\n",
       "      <td>0</td>\n",
       "      <td>1</td>\n",
       "      <td>0</td>\n",
       "      <td>...</td>\n",
       "      <td>1</td>\n",
       "      <td>0</td>\n",
       "      <td>0</td>\n",
       "      <td>1</td>\n",
       "      <td>0</td>\n",
       "      <td>1</td>\n",
       "      <td>0</td>\n",
       "      <td>0</td>\n",
       "      <td>0</td>\n",
       "      <td>1</td>\n",
       "    </tr>\n",
       "  </tbody>\n",
       "</table>\n",
       "<p>918 rows × 21 columns</p>\n",
       "</div>"
      ],
      "text/plain": [
       "     Age  RestingBP  Cholesterol  FastingBS  MaxHR  Oldpeak  HeartDisease  \\\n",
       "0     40        140          289          0    172      0.0             0   \n",
       "1     49        160          180          0    156      1.0             1   \n",
       "2     37        130          283          0     98      0.0             0   \n",
       "3     48        138          214          0    108      1.5             1   \n",
       "4     54        150          195          0    122      0.0             0   \n",
       "..   ...        ...          ...        ...    ...      ...           ...   \n",
       "913   45        110          264          0    132      1.2             1   \n",
       "914   68        144          193          1    141      3.4             1   \n",
       "915   57        130          131          0    115      1.2             1   \n",
       "916   57        130          236          0    174      0.0             1   \n",
       "917   38        138          175          0    173      0.0             0   \n",
       "\n",
       "     Sex_F  Sex_M  ChestPainType_ASY  ...  ChestPainType_NAP  \\\n",
       "0        0      1                  0  ...                  0   \n",
       "1        1      0                  0  ...                  1   \n",
       "2        0      1                  0  ...                  0   \n",
       "3        1      0                  1  ...                  0   \n",
       "4        0      1                  0  ...                  1   \n",
       "..     ...    ...                ...  ...                ...   \n",
       "913      0      1                  0  ...                  0   \n",
       "914      0      1                  1  ...                  0   \n",
       "915      0      1                  1  ...                  0   \n",
       "916      1      0                  0  ...                  0   \n",
       "917      0      1                  0  ...                  1   \n",
       "\n",
       "     ChestPainType_TA  RestingECG_LVH  RestingECG_Normal  RestingECG_ST  \\\n",
       "0                   0               0                  1              0   \n",
       "1                   0               0                  1              0   \n",
       "2                   0               0                  0              1   \n",
       "3                   0               0                  1              0   \n",
       "4                   0               0                  1              0   \n",
       "..                ...             ...                ...            ...   \n",
       "913                 1               0                  1              0   \n",
       "914                 0               0                  1              0   \n",
       "915                 0               0                  1              0   \n",
       "916                 0               1                  0              0   \n",
       "917                 0               0                  1              0   \n",
       "\n",
       "     ExerciseAngina_N  ExerciseAngina_Y  ST_Slope_Down  ST_Slope_Flat  \\\n",
       "0                   1                 0              0              0   \n",
       "1                   1                 0              0              1   \n",
       "2                   1                 0              0              0   \n",
       "3                   0                 1              0              1   \n",
       "4                   1                 0              0              0   \n",
       "..                ...               ...            ...            ...   \n",
       "913                 1                 0              0              1   \n",
       "914                 1                 0              0              1   \n",
       "915                 0                 1              0              1   \n",
       "916                 1                 0              0              1   \n",
       "917                 1                 0              0              0   \n",
       "\n",
       "     ST_Slope_Up  \n",
       "0              1  \n",
       "1              0  \n",
       "2              1  \n",
       "3              0  \n",
       "4              1  \n",
       "..           ...  \n",
       "913            0  \n",
       "914            0  \n",
       "915            0  \n",
       "916            0  \n",
       "917            1  \n",
       "\n",
       "[918 rows x 21 columns]"
      ]
     },
     "execution_count": 39,
     "metadata": {},
     "output_type": "execute_result"
    }
   ],
   "source": [
    "df = pd.get_dummies(heart,columns =object_col)\n",
    "df"
   ]
  },
  {
   "cell_type": "markdown",
   "metadata": {},
   "source": [
    "- Sex difference in occurence of heart failure"
   ]
  },
  {
   "cell_type": "code",
   "execution_count": 51,
   "metadata": {},
   "outputs": [
    {
     "data": {
      "text/plain": [
       "<AxesSubplot:xlabel='Sex', ylabel='count'>"
      ]
     },
     "execution_count": 51,
     "metadata": {},
     "output_type": "execute_result"
    },
    {
     "data": {
      "image/png": "[encoded data removed]",
      "text/plain": [
       "<Figure size 432x288 with 1 Axes>"
      ]
     },
     "metadata": {
      "needs_background": "light"
     },
     "output_type": "display_data"
    }
   ],
   "source": [
    "sns.countplot(x = heart['Sex'], hue=heart['HeartDisease'])\n"
   ]
  },
  {
   "cell_type": "code",
   "execution_count": 60,
   "metadata": {},
   "outputs": [
    {
     "name": "stdout",
     "output_type": "stream",
     "text": [
      "Object `sns.scatter` not found.\n"
     ]
    }
   ],
   "source": []
  },
  {
   "cell_type": "code",
   "execution_count": 65,
   "metadata": {},
   "outputs": [
    {
     "data": {
      "text/plain": [
       "<seaborn.axisgrid.FacetGrid at 0x7f89c845b490>"
      ]
     },
     "execution_count": 65,
     "metadata": {},
     "output_type": "execute_result"
    },
    {
     "data": {
      "image/png": "[encoded data removed]",
      "text/plain": [
       "<Figure size 435.25x360 with 1 Axes>"
      ]
     },
     "metadata": {
      "needs_background": "light"
     },
     "output_type": "display_data"
    }
   ],
   "source": [
    "sns.relplot(x = heart['Cholesterol'],y = heart['Age'], hue=heart['HeartDisease'])"
   ]
  },
  {
   "cell_type": "code",
   "execution_count": null,
   "metadata": {
    "colab": {
     "base_uri": "https://localhost:8080/",
     "height": 295
    },
    "executionInfo": {
     "elapsed": 937,
     "status": "ok",
     "timestamp": 1639843490111,
     "user": {
      "displayName": "David Chong",
      "photoUrl": "https://lh3.googleusercontent.com/a/default-user=s64",
      "userId": "17914885425914453493"
     },
     "user_tz": 0
    },
    "id": "hGRCTwfrqCBq",
    "outputId": "7d1cbc53-5ed5-4495-da04-1c14f3ebe69d"
   },
   "outputs": [
    {
     "data": {
      "image/png": "[encoded data removed]",
      "text/plain": [
       "<Figure size 432x288 with 2 Axes>"
      ]
     },
     "metadata": {
      "needs_background": "light"
     },
     "output_type": "display_data"
    }
   ],
   "source": [
    "fig, ax = plt.subplots()\n",
    "ax.bar(classes[\"class_description\"].unique(), classes[\"class_description\"].value_counts())\n",
    "ax.set_ylabel(\"Frequency\")\n",
    "ax.set_xlabel(\"Classes\")\n",
    "ax.set_title(\"Distribution of labels in dataset\")\n",
    "ax2 = ax.twinx()\n",
    "ax2.bar(classes[\"class_description\"].unique(), classes[\"class_description\"].value_counts() / classes.shape[0])\n",
    "ax2.set_ylabel(\"Proportion\")\n",
    "plt.show()"
   ]
  },
  {
   "cell_type": "markdown",
   "metadata": {
    "id": "GoFfIGjDw3ZU"
   },
   "source": [
    "We can see that there are 167 columns in the dataset with 165 of them being of float type whilst the remaining 2 integer types are the transaction ID and time step. However we are not given much meta data on what these features are or how they were collected. However we know that the first 94 features are data collected around the transaction whilst the remaining features are derived from the previous 94 features such as taking means, order statistics, node degree etc."
   ]
  },
  {
   "cell_type": "markdown",
   "metadata": {
    "id": "h_sHFLfwzD39"
   },
   "source": [
    "Due to large number of features, and also no contextual information given for each feature, a histogram is used instead of heatmap to visualise redundancy amongst the features. It appears most of the features are not strongly correlated to each other. However does not account for non-linear relationship."
   ]
  },
  {
   "cell_type": "code",
   "execution_count": null,
   "metadata": {
    "colab": {
     "base_uri": "https://localhost:8080/",
     "height": 295
    },
    "executionInfo": {
     "elapsed": 13120,
     "status": "ok",
     "timestamp": 1639843528618,
     "user": {
      "displayName": "David Chong",
      "photoUrl": "https://lh3.googleusercontent.com/a/default-user=s64",
      "userId": "17914885425914453493"
     },
     "user_tz": 0
    },
    "id": "cTHlioAGvPq7",
    "outputId": "9fd2538f-02f9-4dab-f8b5-c13f8fe1056d"
   },
   "outputs": [
    {
     "data": {
      "image/png": "[encoded data removed]",
      "text/plain": [
       "<Figure size 432x288 with 1 Axes>"
      ]
     },
     "metadata": {
      "needs_background": "light"
     },
     "output_type": "display_data"
    }
   ],
   "source": [
    "plt.hist(labeled.iloc[:,2:-2].corr().to_numpy().flatten(), label=\"labeled\", alpha=0.5)\n",
    "plt.hist(unlabeled.iloc[:,2:-2].corr().to_numpy().flatten(), label=\"unlabeled\", alpha=0.5)\n",
    "plt.xlabel(\"Correlation Coefficient\")\n",
    "plt.ylabel(\"Frequency\")\n",
    "plt.title(\"Distribution of correlation coefficients between features\")\n",
    "plt.legend()\n",
    "plt.show()"
   ]
  },
  {
   "cell_type": "markdown",
   "metadata": {
    "id": "2Z9CRykSzvbl"
   },
   "source": [
    "To visualise the range of data we plot distributions of the min, max, mean, and median. It appears that the features vary in scale but have been centered already, or by for some reason the features collected are all centered around 0."
   ]
  },
  {
   "cell_type": "code",
   "execution_count": null,
   "metadata": {
    "colab": {
     "base_uri": "https://localhost:8080/",
     "height": 1000
    },
    "executionInfo": {
     "elapsed": 2503,
     "status": "ok",
     "timestamp": 1639843531111,
     "user": {
      "displayName": "David Chong",
      "photoUrl": "https://lh3.googleusercontent.com/a/default-user=s64",
      "userId": "17914885425914453493"
     },
     "user_tz": 0
    },
    "id": "cwQjMCIUww-v",
    "outputId": "97466103-47c9-44de-bc33-ec71c4e6b6cc"
   },
   "outputs": [
    {
     "data": {
      "image/png": "[encoded data removed]",
      "text/plain": [
       "<Figure size 432x288 with 1 Axes>"
      ]
     },
     "metadata": {
      "needs_background": "light"
     },
     "output_type": "display_data"
    },
    {
     "data": {
      "image/png": "[encoded data removed]",
      "text/plain": [
       "<Figure size 432x288 with 1 Axes>"
      ]
     },
     "metadata": {
      "needs_background": "light"
     },
     "output_type": "display_data"
    },
    {
     "data": {
      "image/png": "[encoded data removed]",
      "text/plain": [
       "<Figure size 432x288 with 1 Axes>"
      ]
     },
     "metadata": {
      "needs_background": "light"
     },
     "output_type": "display_data"
    },
    {
     "data": {
      "image/png": "[encoded data removed]",
      "text/plain": [
       "<Figure size 432x288 with 1 Axes>"
      ]
     },
     "metadata": {
      "needs_background": "light"
     },
     "output_type": "display_data"
    },
    {
     "data": {
      "image/png": "[encoded data removed]",
      "text/plain": [
       "<Figure size 432x288 with 1 Axes>"
      ]
     },
     "metadata": {
      "needs_background": "light"
     },
     "output_type": "display_data"
    }
   ],
   "source": [
    "plt.hist(labeled.iloc[:,2:-2].apply(np.min), label=\"labeled\", alpha=0.5)\n",
    "plt.hist(unlabeled.iloc[:,2:-2].apply(np.min), label=\"unlabeled\", alpha=0.5)\n",
    "plt.xlabel(\"Feature value\")\n",
    "plt.ylabel(\"Frequency\")\n",
    "plt.title(\"Distribution of min feature values\")\n",
    "plt.legend()\n",
    "plt.show()\n",
    "\n",
    "plt.hist(labeled.iloc[:,2:-2].apply(np.max), label=\"labeled\", alpha=0.5)\n",
    "plt.hist(unlabeled.iloc[:,2:-2].apply(np.max), label=\"unlabeled\", alpha=0.5)\n",
    "plt.xlabel(\"Feature value\")\n",
    "plt.ylabel(\"Frequency\")\n",
    "plt.title(\"Distribution of max feature values\")\n",
    "plt.legend()\n",
    "plt.show()\n",
    "\n",
    "plt.hist(labeled.iloc[:,2:-2].apply(np.mean), label=\"labeled\", alpha=0.5)\n",
    "plt.hist(unlabeled.iloc[:,2:-2].apply(np.mean), label=\"unlabeled\", alpha=0.5)\n",
    "plt.xlabel(\"Feature value\")\n",
    "plt.ylabel(\"Frequency\")\n",
    "plt.title(\"Distribution of mean feature values\")\n",
    "plt.legend()\n",
    "plt.show()\n",
    "\n",
    "plt.hist(labeled.iloc[:,2:-2].apply(np.median), label=\"labeled\", alpha=0.5)\n",
    "plt.hist(unlabeled.iloc[:,2:-2].apply(np.median), label=\"unlabeled\", alpha=0.5)\n",
    "plt.xlabel(\"Feature value\")\n",
    "plt.ylabel(\"Frequency\")\n",
    "plt.title(\"Distribution of median feature values\")\n",
    "plt.legend()\n",
    "plt.show()\n",
    "\n",
    "plt.hist(labeled.iloc[:,2:-2].apply(np.std), label=\"labeled\", alpha=0.5)\n",
    "plt.hist(unlabeled.iloc[:,2:-2].apply(np.std), label=\"unlabeled\", alpha=0.5)\n",
    "plt.xlabel(\"Feature value\")\n",
    "plt.ylabel(\"Frequency\")\n",
    "plt.title(\"Distribution of std of feature values\")\n",
    "plt.legend()\n",
    "plt.show()"
   ]
  },
  {
   "cell_type": "markdown",
   "metadata": {
    "id": "o0uqEHlQ6YZ8"
   },
   "source": [
    "There are 50 time steps which are periods of 2 weeks of transactions"
   ]
  },
  {
   "cell_type": "code",
   "execution_count": null,
   "metadata": {
    "colab": {
     "base_uri": "https://localhost:8080/",
     "height": 283
    },
    "executionInfo": {
     "elapsed": 697,
     "status": "ok",
     "timestamp": 1639843545410,
     "user": {
      "displayName": "David Chong",
      "photoUrl": "https://lh3.googleusercontent.com/a/default-user=s64",
      "userId": "17914885425914453493"
     },
     "user_tz": 0
    },
    "id": "HBc1X3B-zdZD",
    "outputId": "1bee6572-405d-4d22-df07-6a28e074e293"
   },
   "outputs": [
    {
     "data": {
      "image/png": "[encoded data removed]",
      "text/plain": [
       "<Figure size 432x288 with 1 Axes>"
      ]
     },
     "metadata": {
      "needs_background": "light"
     },
     "output_type": "display_data"
    }
   ],
   "source": [
    "labeled.groupby(\"time_step\")[\"txId\"].count().plot(label=\"labeled\")\n",
    "unlabeled.groupby(\"time_step\")[\"txId\"].count().plot(label=\"unlabeled\")\n",
    "plt.ylabel(\"Number of transactions\")\n",
    "plt.legend()\n",
    "plt.show()"
   ]
  },
  {
   "cell_type": "markdown",
   "metadata": {
    "id": "6svgiv836lcs"
   },
   "source": [
    "Visualising separation of licit and ilicit transactions with dimensionality reduction"
   ]
  },
  {
   "cell_type": "code",
   "execution_count": null,
   "metadata": {
    "colab": {
     "base_uri": "https://localhost:8080/",
     "height": 822
    },
    "executionInfo": {
     "elapsed": 4178,
     "status": "ok",
     "timestamp": 1639843561164,
     "user": {
      "displayName": "David Chong",
      "photoUrl": "https://lh3.googleusercontent.com/a/default-user=s64",
      "userId": "17914885425914453493"
     },
     "user_tz": 0
    },
    "id": "FTzzolxr0pZl",
    "outputId": "7e2130cb-30e5-4be5-c456-849dcbbb5a85"
   },
   "outputs": [
    {
     "data": {
      "image/png": "[encoded data removed]",
      "text/plain": [
       "<Figure size 432x288 with 1 Axes>"
      ]
     },
     "metadata": {
      "needs_background": "light"
     },
     "output_type": "display_data"
    },
    {
     "data": {
      "image/png": "[encoded data removed]",
      "text/plain": [
       "<Figure size 432x288 with 1 Axes>"
      ]
     },
     "metadata": {
      "needs_background": "light"
     },
     "output_type": "display_data"
    },
    {
     "data": {
      "text/plain": [
       "[<matplotlib.lines.Line2D at 0x7fbc46b48b10>]"
      ]
     },
     "execution_count": 74,
     "metadata": {},
     "output_type": "execute_result"
    },
    {
     "data": {
      "image/png": "[encoded data removed]",
      "text/plain": [
       "<Figure size 432x288 with 1 Axes>"
      ]
     },
     "metadata": {
      "needs_background": "light"
     },
     "output_type": "display_data"
    }
   ],
   "source": [
    "pca = PCA()\n",
    "ss = StandardScaler()\n",
    "ss.fit(labeled.iloc[:,2:-2])\n",
    "pca_features = pca.fit_transform(ss.transform(labeled.iloc[:,2:-2]))\n",
    "plt.scatter(pca_features[labeled[\"class\"]==\"2\"][:,0], pca_features[labeled[\"class\"]==\"2\"][:,1], alpha=0.5, label=\"licit\")\n",
    "plt.scatter(pca_features[labeled[\"class\"]==\"1\"][:,0], pca_features[labeled[\"class\"]==\"1\"][:,1], alpha=0.5, label=\"illicit\")\n",
    "plt.title(\"PCA\")\n",
    "plt.xlabel(\"PC1\")\n",
    "plt.ylabel(\"PC2\")\n",
    "plt.legend()\n",
    "plt.show()\n",
    "\n",
    "plt.bar([\"PC{}\".format(x) for x in range(1, pca_features.shape[1]+1)],pca.explained_variance_ratio_)\n",
    "plt.ylabel(\"Proportion of variance\")\n",
    "plt.xlabel(\"PCs\")\n",
    "plt.show()\n",
    "\n",
    "plt.plot(range(len(pca.explained_variance_ratio_)), np.cumsum(pca.explained_variance_ratio_))"
   ]
  },
  {
   "cell_type": "markdown",
   "metadata": {
    "id": "T_P9vaSp_BMi"
   },
   "source": [
    "# Building the classifier\n",
    "Based on the exploratory analysis, there are several challenges. Firstly, there is a large amount of unlabeled data, which will not be usable for supervised learning. Secondly, within the labeled data, there is significant imbalance in the class labels which could affect training. Lastly, with PCA in 2 dimensions, there is no good separation of licit vs ilicit classes which could mean that classification might be challenging.\n",
    "\n",
    "Although there are many aspects of the classifier pipeline that could be searched through, we will be limiting ourselves to the following options given the limited time.\n",
    "\n",
    "## Class balance\n",
    "During training, an imbalance in classes could affect the resulting metrics on test data. In this case we will compare 2 options\n",
    "1. No change in class balance\n",
    "2. Random over sampling\n",
    "\n",
    "## Feature representation\n",
    "The feature inputs to models can significantly affect performance. There are various pre-processing steps that could be used such as feature selection via thresholding methods, mutual information, dimensionality reduction and so on. For the purposes of this assignment we will be attempting the following\n",
    "1. No change in base features\n",
    "2. PCA with cut off based on 95% variation captured\n",
    "3. Feature engineering to incorporate graph structure\n",
    "\n",
    "## Classifier type\n",
    "There are a large number of possible classifiers to attempt, but we have chosen 3 main types taking into account computational time required.\n",
    "\n",
    "1. Logistic Regression\n",
    "2. Random Forest\n",
    "3. Graph Neural Networks\n",
    "\n",
    "These 3 classifiers were chosen because they represent a good spread of approaches. Logistic regression is the simplest and will provide a baseline for comparison, representing some of the most traditional machine learning approaches. Random forest models is a step up in complexity, still within traditional machine learning approaches, but applying concepts such as bagging and ensemble learning. Lastly, graph neural networks are a more recent development applying deep learning approaches to leverage graph structure in a more flexible way than manually engineered features.\n",
    "\n",
    "## Summary\n",
    "In summary, the pipelines we will be attempting are as follows\n",
    "1. Base features + logistic regression\n",
    "2. Base features + over sampling + logistic regression\n",
    "3. PCA on base features + logistic regression\n",
    "4. PCA on base features + over sampling + logistic regression\n",
    "5. Base and graph features + logistic regression\n",
    "6. Base and graph features + over sampling + logistic regression\n",
    "7. PCA on base and graph features + logistic regression\n",
    "8. PCA on base and graph features + over sampling + logistic regression\n",
    "9. Base features + random forest\n",
    "10. Base features + over sampling + random forest\n",
    "11. PCA on base features + random forest\n",
    "12. PCA on base features + over sampling + random forest\n",
    "13. Base and graph features + random forest\n",
    "14. Base and graph features + over sampling + random forest\n",
    "15. PCA on base and graph features + random forest\n",
    "16. PCA on base and graph features + over sampling + random forest\n",
    "17. Base features + graph convolution network\n",
    "\n",
    "Additionally, each classifier will have hyperparameters tuned using gridsearch cv or some other manual search method.\n",
    "\n",
    "## Evaluation\n",
    "Accuracy, precision, recall, and F1 score will be calculated on test set for each model, but F1 score will be preferred as the data set is inherently imbalanced and in these cases accuracy and other metrics do not provide as robust a metric as F1."
   ]
  },
  {
   "cell_type": "code",
   "execution_count": null,
   "metadata": {
    "colab": {
     "base_uri": "https://localhost:8080/"
    },
    "executionInfo": {
     "elapsed": 35134,
     "status": "ok",
     "timestamp": 1639854750385,
     "user": {
      "displayName": "David Chong",
      "photoUrl": "https://lh3.googleusercontent.com/a/default-user=s64",
      "userId": "17914885425914453493"
     },
     "user_tz": 0
    },
    "id": "_cT2f2V2WHvs",
    "outputId": "59660ecb-5087-4754-d698-9028bd03795d"
   },
   "outputs": [
    {
     "name": "stderr",
     "output_type": "stream",
     "text": [
      "/usr/local/lib/python3.7/dist-packages/sklearn/base.py:446: UserWarning: X does not have valid feature names, but StandardScaler was fitted with feature names\n",
      "  \"X does not have valid feature names, but\"\n"
     ]
    }
   ],
   "source": [
    "######################\n",
    "# Preparing the data #\n",
    "######################\n",
    "\n",
    "def getPCA(data, threshold):\n",
    "    ss = StandardScaler()\n",
    "    pca = PCA()\n",
    "    output = pca.fit_transform(ss.fit_transform(data))\n",
    "    idx = np.argmax(np.cumsum(pca.explained_variance_ratio_) > threshold)\n",
    "    return output[:,:idx+1], pca, ss\n",
    "\n",
    "# Create masks for train and test data\n",
    "train_mask, test_mask = train_test_split(range(labeled.shape[0]), random_state=42)\n",
    "\n",
    "# Create base feature train test\n",
    "base_x_train = labeled.iloc[train_mask, 2:-2]\n",
    "base_y_train = labeled.iloc[train_mask, -2].apply(int) - 1\n",
    "base_x_test = labeled.iloc[test_mask, 2:-2]\n",
    "base_y_test = labeled.iloc[test_mask, -2].apply(int) - 1\n",
    "\n",
    "# Create PCA on base features train test\n",
    "base_pca_x_train, base_pca_model, base_ss_model = getPCA(labeled.iloc[train_mask, 2:-2], 0.95)\n",
    "base_pca_y_train = base_y_train\n",
    "base_pca_x_test = base_pca_model.transform(base_ss_model.transform(base_x_test))\n",
    "base_pca_y_test = base_y_test\n",
    "\n",
    "# Attempt to create features to include graph structure by taking mean of first degree neighbours of each node\n",
    "labeled_edges = labeled[[\"txId\"]].merge(pds.sqldf(\"SELECT * FROM edges_undirected WHERE txId1 IN (SELECT txId FROM labeled) AND txId2 IN (SELECT txId FROM labeled)\", globals()), how=\"left\", left_on=\"txId\", right_on=\"txId1\")\n",
    "neighbour_means = labeled_edges.merge(labeled, how=\"left\", left_on=\"txId2\", right_on=\"txId\").groupby(\"txId_x\")[[\"x.{}\".format(i) for i in range(1,166)]].mean().reset_index()\n",
    "neighbour_means[neighbour_means.isnull()] = 0\n",
    "neighbour_means.columns = [\"txId\"] + [\"x.neighbour.mean.{}\".format(i) for i in range(1,166)]\n",
    "\n",
    "labeled_graph = labeled.merge(neighbour_means, on=\"txId\")\n",
    "\n",
    "# Create graph features train test\n",
    "graph_x_train = labeled_graph.iloc[train_mask, 2:].drop([\"class\",\"class_description\"], axis=1)\n",
    "graph_y_train = base_y_train\n",
    "graph_x_test = labeled_graph.iloc[test_mask, 2:].drop([\"class\",\"class_description\"], axis=1)\n",
    "graph_y_test = base_y_test\n",
    "\n",
    "# Create PCA on graph features train test\n",
    "graph_pca_x_train, graph_pca_model, graph_ss_model = getPCA(labeled_graph.iloc[train_mask, 2:].drop([\"class\",\"class_description\"], axis=1), 0.95)\n",
    "graph_pca_y_train = base_y_train\n",
    "graph_pca_x_test = graph_pca_model.transform(graph_ss_model.transform(labeled_graph.iloc[test_mask, 2:].drop([\"class\",\"class_description\"], axis=1)))\n",
    "graph_pca_y_test = base_y_test\n",
    "\n",
    "# Create deep learning dataset\n",
    "lookup = dict(zip(labeled[\"txId\"].to_numpy(), range(labeled.shape[0])))\n",
    "labeled_edges = labeled_edges.drop(\"txId\", axis=1).dropna()\n",
    "labeled_edges = labeled_edges.applymap(lambda x : lookup[x])\n",
    "xs = torch.tensor(labeled.iloc[:,2:-2].to_numpy(), dtype=torch.float)\n",
    "edge_list = add_self_loops(torch.tensor(labeled_edges.T.to_numpy(), dtype=torch.long))[0]\n",
    "dl_data = Data(x=xs, edge_index=edge_list, y=torch.tensor(labeled[\"class\"].to_numpy(dtype=np.int)-1, dtype=torch.long))"
   ]
  },
  {
   "cell_type": "code",
   "execution_count": null,
   "metadata": {
    "colab": {
     "base_uri": "https://localhost:8080/"
    },
    "executionInfo": {
     "elapsed": 1908329,
     "status": "ok",
     "timestamp": 1639859730254,
     "user": {
      "displayName": "David Chong",
      "photoUrl": "https://lh3.googleusercontent.com/a/default-user=s64",
      "userId": "17914885425914453493"
     },
     "user_tz": 0
    },
    "id": "NZikF-IQBGb6",
    "outputId": "073c770a-3783-4a7f-db80-70622cdba024"
   },
   "outputs": [
    {
     "name": "stdout",
     "output_type": "stream",
     "text": [
      "Fitting 5 folds for each of 4 candidates, totalling 20 fits\n"
     ]
    },
    {
     "name": "stderr",
     "output_type": "stream",
     "text": [
      "/usr/local/lib/python3.7/dist-packages/sklearn/linear_model/_logistic.py:1479: UserWarning: l1_ratio parameter is only used when penalty is 'elasticnet'. Got (penalty=none)\n",
      "  \"(penalty={})\".format(self.penalty)\n",
      "/usr/local/lib/python3.7/dist-packages/sklearn/linear_model/_sag.py:354: ConvergenceWarning: The max_iter was reached which means the coef_ did not converge\n",
      "  ConvergenceWarning,\n",
      "/usr/local/lib/python3.7/dist-packages/sklearn/linear_model/_logistic.py:1479: UserWarning: l1_ratio parameter is only used when penalty is 'elasticnet'. Got (penalty=none)\n",
      "  \"(penalty={})\".format(self.penalty)\n"
     ]
    },
    {
     "name": "stdout",
     "output_type": "stream",
     "text": [
      "[CV] END .......................................penalty=none; total time=   6.1s\n"
     ]
    },
    {
     "name": "stderr",
     "output_type": "stream",
     "text": [
      "/usr/local/lib/python3.7/dist-packages/sklearn/linear_model/_sag.py:354: ConvergenceWarning: The max_iter was reached which means the coef_ did not converge\n",
      "  ConvergenceWarning,\n",
      "/usr/local/lib/python3.7/dist-packages/sklearn/linear_model/_logistic.py:1479: UserWarning: l1_ratio parameter is only used when penalty is 'elasticnet'. Got (penalty=none)\n",
      "  \"(penalty={})\".format(self.penalty)\n"
     ]
    },
    {
     "name": "stdout",
     "output_type": "stream",
     "text": [
      "[CV] END .......................................penalty=none; total time=   6.1s\n"
     ]
    },
    {
     "name": "stderr",
     "output_type": "stream",
     "text": [
      "/usr/local/lib/python3.7/dist-packages/sklearn/linear_model/_sag.py:354: ConvergenceWarning: The max_iter was reached which means the coef_ did not converge\n",
      "  ConvergenceWarning,\n",
      "/usr/local/lib/python3.7/dist-packages/sklearn/linear_model/_logistic.py:1479: UserWarning: l1_ratio parameter is only used when penalty is 'elasticnet'. Got (penalty=none)\n",
      "  \"(penalty={})\".format(self.penalty)\n"
     ]
    },
    {
     "name": "stdout",
     "output_type": "stream",
     "text": [
      "[CV] END .......................................penalty=none; total time=   6.2s\n"
     ]
    },
    {
     "name": "stderr",
     "output_type": "stream",
     "text": [
      "/usr/local/lib/python3.7/dist-packages/sklearn/linear_model/_sag.py:354: ConvergenceWarning: The max_iter was reached which means the coef_ did not converge\n",
      "  ConvergenceWarning,\n",
      "/usr/local/lib/python3.7/dist-packages/sklearn/linear_model/_logistic.py:1479: UserWarning: l1_ratio parameter is only used when penalty is 'elasticnet'. Got (penalty=none)\n",
      "  \"(penalty={})\".format(self.penalty)\n"
     ]
    },
    {
     "name": "stdout",
     "output_type": "stream",
     "text": [
      "[CV] END .......................................penalty=none; total time=   6.1s\n"
     ]
    },
    {
     "name": "stderr",
     "output_type": "stream",
     "text": [
      "/usr/local/lib/python3.7/dist-packages/sklearn/linear_model/_sag.py:354: ConvergenceWarning: The max_iter was reached which means the coef_ did not converge\n",
      "  ConvergenceWarning,\n",
      "/usr/local/lib/python3.7/dist-packages/sklearn/linear_model/_logistic.py:1479: UserWarning: l1_ratio parameter is only used when penalty is 'elasticnet'. Got (penalty=l1)\n",
      "  \"(penalty={})\".format(self.penalty)\n"
     ]
    },
    {
     "name": "stdout",
     "output_type": "stream",
     "text": [
      "[CV] END .......................................penalty=none; total time=   9.5s\n"
     ]
    },
    {
     "name": "stderr",
     "output_type": "stream",
     "text": [
      "/usr/local/lib/python3.7/dist-packages/sklearn/linear_model/_sag.py:354: ConvergenceWarning: The max_iter was reached which means the coef_ did not converge\n",
      "  ConvergenceWarning,\n",
      "/usr/local/lib/python3.7/dist-packages/sklearn/linear_model/_logistic.py:1479: UserWarning: l1_ratio parameter is only used when penalty is 'elasticnet'. Got (penalty=l1)\n",
      "  \"(penalty={})\".format(self.penalty)\n"
     ]
    },
    {
     "name": "stdout",
     "output_type": "stream",
     "text": [
      "[CV] END .........................................penalty=l1; total time=  15.2s\n"
     ]
    },
    {
     "name": "stderr",
     "output_type": "stream",
     "text": [
      "/usr/local/lib/python3.7/dist-packages/sklearn/linear_model/_sag.py:354: ConvergenceWarning: The max_iter was reached which means the coef_ did not converge\n",
      "  ConvergenceWarning,\n",
      "/usr/local/lib/python3.7/dist-packages/sklearn/linear_model/_logistic.py:1479: UserWarning: l1_ratio parameter is only used when penalty is 'elasticnet'. Got (penalty=l1)\n",
      "  \"(penalty={})\".format(self.penalty)\n"
     ]
    },
    {
     "name": "stdout",
     "output_type": "stream",
     "text": [
      "[CV] END .........................................penalty=l1; total time=  12.8s\n"
     ]
    },
    {
     "name": "stderr",
     "output_type": "stream",
     "text": [
      "/usr/local/lib/python3.7/dist-packages/sklearn/linear_model/_sag.py:354: ConvergenceWarning: The max_iter was reached which means the coef_ did not converge\n",
      "  ConvergenceWarning,\n",
      "/usr/local/lib/python3.7/dist-packages/sklearn/linear_model/_logistic.py:1479: UserWarning: l1_ratio parameter is only used when penalty is 'elasticnet'. Got (penalty=l1)\n",
      "  \"(penalty={})\".format(self.penalty)\n"
     ]
    },
    {
     "name": "stdout",
     "output_type": "stream",
     "text": [
      "[CV] END .........................................penalty=l1; total time=   8.7s\n"
     ]
    },
    {
     "name": "stderr",
     "output_type": "stream",
     "text": [
      "/usr/local/lib/python3.7/dist-packages/sklearn/linear_model/_sag.py:354: ConvergenceWarning: The max_iter was reached which means the coef_ did not converge\n",
      "  ConvergenceWarning,\n",
      "/usr/local/lib/python3.7/dist-packages/sklearn/linear_model/_logistic.py:1479: UserWarning: l1_ratio parameter is only used when penalty is 'elasticnet'. Got (penalty=l1)\n",
      "  \"(penalty={})\".format(self.penalty)\n"
     ]
    },
    {
     "name": "stdout",
     "output_type": "stream",
     "text": [
      "[CV] END .........................................penalty=l1; total time=   8.8s\n"
     ]
    },
    {
     "name": "stderr",
     "output_type": "stream",
     "text": [
      "/usr/local/lib/python3.7/dist-packages/sklearn/linear_model/_sag.py:354: ConvergenceWarning: The max_iter was reached which means the coef_ did not converge\n",
      "  ConvergenceWarning,\n",
      "/usr/local/lib/python3.7/dist-packages/sklearn/linear_model/_logistic.py:1479: UserWarning: l1_ratio parameter is only used when penalty is 'elasticnet'. Got (penalty=l2)\n",
      "  \"(penalty={})\".format(self.penalty)\n"
     ]
    },
    {
     "name": "stdout",
     "output_type": "stream",
     "text": [
      "[CV] END .........................................penalty=l1; total time=   8.7s\n"
     ]
    },
    {
     "name": "stderr",
     "output_type": "stream",
     "text": [
      "/usr/local/lib/python3.7/dist-packages/sklearn/linear_model/_sag.py:354: ConvergenceWarning: The max_iter was reached which means the coef_ did not converge\n",
      "  ConvergenceWarning,\n",
      "/usr/local/lib/python3.7/dist-packages/sklearn/linear_model/_logistic.py:1479: UserWarning: l1_ratio parameter is only used when penalty is 'elasticnet'. Got (penalty=l2)\n",
      "  \"(penalty={})\".format(self.penalty)\n"
     ]
    },
    {
     "name": "stdout",
     "output_type": "stream",
     "text": [
      "[CV] END .........................................penalty=l2; total time=   6.1s\n"
     ]
    },
    {
     "name": "stderr",
     "output_type": "stream",
     "text": [
      "/usr/local/lib/python3.7/dist-packages/sklearn/linear_model/_sag.py:354: ConvergenceWarning: The max_iter was reached which means the coef_ did not converge\n",
      "  ConvergenceWarning,\n",
      "/usr/local/lib/python3.7/dist-packages/sklearn/linear_model/_logistic.py:1479: UserWarning: l1_ratio parameter is only used when penalty is 'elasticnet'. Got (penalty=l2)\n",
      "  \"(penalty={})\".format(self.penalty)\n"
     ]
    },
    {
     "name": "stdout",
     "output_type": "stream",
     "text": [
      "[CV] END .........................................penalty=l2; total time=   6.1s\n"
     ]
    },
    {
     "name": "stderr",
     "output_type": "stream",
     "text": [
      "/usr/local/lib/python3.7/dist-packages/sklearn/linear_model/_sag.py:354: ConvergenceWarning: The max_iter was reached which means the coef_ did not converge\n",
      "  ConvergenceWarning,\n",
      "/usr/local/lib/python3.7/dist-packages/sklearn/linear_model/_logistic.py:1479: UserWarning: l1_ratio parameter is only used when penalty is 'elasticnet'. Got (penalty=l2)\n",
      "  \"(penalty={})\".format(self.penalty)\n"
     ]
    },
    {
     "name": "stdout",
     "output_type": "stream",
     "text": [
      "[CV] END .........................................penalty=l2; total time=   6.0s\n"
     ]
    },
    {
     "name": "stderr",
     "output_type": "stream",
     "text": [
      "/usr/local/lib/python3.7/dist-packages/sklearn/linear_model/_sag.py:354: ConvergenceWarning: The max_iter was reached which means the coef_ did not converge\n",
      "  ConvergenceWarning,\n",
      "/usr/local/lib/python3.7/dist-packages/sklearn/linear_model/_logistic.py:1479: UserWarning: l1_ratio parameter is only used when penalty is 'elasticnet'. Got (penalty=l2)\n",
      "  \"(penalty={})\".format(self.penalty)\n"
     ]
    },
    {
     "name": "stdout",
     "output_type": "stream",
     "text": [
      "[CV] END .........................................penalty=l2; total time=   6.1s\n"
     ]
    },
    {
     "name": "stderr",
     "output_type": "stream",
     "text": [
      "/usr/local/lib/python3.7/dist-packages/sklearn/linear_model/_sag.py:354: ConvergenceWarning: The max_iter was reached which means the coef_ did not converge\n",
      "  ConvergenceWarning,\n"
     ]
    },
    {
     "name": "stdout",
     "output_type": "stream",
     "text": [
      "[CV] END .........................................penalty=l2; total time=   6.1s\n"
     ]
    },
    {
     "name": "stderr",
     "output_type": "stream",
     "text": [
      "/usr/local/lib/python3.7/dist-packages/sklearn/linear_model/_sag.py:354: ConvergenceWarning: The max_iter was reached which means the coef_ did not converge\n",
      "  ConvergenceWarning,\n"
     ]
    },
    {
     "name": "stdout",
     "output_type": "stream",
     "text": [
      "[CV] END .................................penalty=elasticnet; total time=   8.8s\n"
     ]
    },
    {
     "name": "stderr",
     "output_type": "stream",
     "text": [
      "/usr/local/lib/python3.7/dist-packages/sklearn/linear_model/_sag.py:354: ConvergenceWarning: The max_iter was reached which means the coef_ did not converge\n",
      "  ConvergenceWarning,\n"
     ]
    },
    {
     "name": "stdout",
     "output_type": "stream",
     "text": [
      "[CV] END .................................penalty=elasticnet; total time=   8.9s\n"
     ]
    },
    {
     "name": "stderr",
     "output_type": "stream",
     "text": [
      "/usr/local/lib/python3.7/dist-packages/sklearn/linear_model/_sag.py:354: ConvergenceWarning: The max_iter was reached which means the coef_ did not converge\n",
      "  ConvergenceWarning,\n"
     ]
    },
    {
     "name": "stdout",
     "output_type": "stream",
     "text": [
      "[CV] END .................................penalty=elasticnet; total time=   8.8s\n"
     ]
    },
    {
     "name": "stderr",
     "output_type": "stream",
     "text": [
      "/usr/local/lib/python3.7/dist-packages/sklearn/linear_model/_sag.py:354: ConvergenceWarning: The max_iter was reached which means the coef_ did not converge\n",
      "  ConvergenceWarning,\n"
     ]
    },
    {
     "name": "stdout",
     "output_type": "stream",
     "text": [
      "[CV] END .................................penalty=elasticnet; total time=   8.8s\n"
     ]
    },
    {
     "name": "stderr",
     "output_type": "stream",
     "text": [
      "/usr/local/lib/python3.7/dist-packages/sklearn/linear_model/_sag.py:354: ConvergenceWarning: The max_iter was reached which means the coef_ did not converge\n",
      "  ConvergenceWarning,\n",
      "/usr/local/lib/python3.7/dist-packages/sklearn/linear_model/_logistic.py:1479: UserWarning: l1_ratio parameter is only used when penalty is 'elasticnet'. Got (penalty=l2)\n",
      "  \"(penalty={})\".format(self.penalty)\n"
     ]
    },
    {
     "name": "stdout",
     "output_type": "stream",
     "text": [
      "[CV] END .................................penalty=elasticnet; total time=   8.9s\n"
     ]
    },
    {
     "name": "stderr",
     "output_type": "stream",
     "text": [
      "/usr/local/lib/python3.7/dist-packages/sklearn/linear_model/_sag.py:354: ConvergenceWarning: The max_iter was reached which means the coef_ did not converge\n",
      "  ConvergenceWarning,\n"
     ]
    },
    {
     "name": "stdout",
     "output_type": "stream",
     "text": [
      "Fitting 5 folds for each of 4 candidates, totalling 20 fits\n"
     ]
    },
    {
     "name": "stderr",
     "output_type": "stream",
     "text": [
      "/usr/local/lib/python3.7/dist-packages/sklearn/linear_model/_logistic.py:1479: UserWarning: l1_ratio parameter is only used when penalty is 'elasticnet'. Got (penalty=none)\n",
      "  \"(penalty={})\".format(self.penalty)\n",
      "/usr/local/lib/python3.7/dist-packages/sklearn/linear_model/_sag.py:354: ConvergenceWarning: The max_iter was reached which means the coef_ did not converge\n",
      "  ConvergenceWarning,\n",
      "/usr/local/lib/python3.7/dist-packages/sklearn/linear_model/_logistic.py:1479: UserWarning: l1_ratio parameter is only used when penalty is 'elasticnet'. Got (penalty=none)\n",
      "  \"(penalty={})\".format(self.penalty)\n"
     ]
    },
    {
     "name": "stdout",
     "output_type": "stream",
     "text": [
      "[CV] END .......................................penalty=none; total time=  11.4s\n"
     ]
    },
    {
     "name": "stderr",
     "output_type": "stream",
     "text": [
      "/usr/local/lib/python3.7/dist-packages/sklearn/linear_model/_sag.py:354: ConvergenceWarning: The max_iter was reached which means the coef_ did not converge\n",
      "  ConvergenceWarning,\n",
      "/usr/local/lib/python3.7/dist-packages/sklearn/linear_model/_logistic.py:1479: UserWarning: l1_ratio parameter is only used when penalty is 'elasticnet'. Got (penalty=none)\n",
      "  \"(penalty={})\".format(self.penalty)\n"
     ]
    },
    {
     "name": "stdout",
     "output_type": "stream",
     "text": [
      "[CV] END .......................................penalty=none; total time=  11.3s\n"
     ]
    },
    {
     "name": "stderr",
     "output_type": "stream",
     "text": [
      "/usr/local/lib/python3.7/dist-packages/sklearn/linear_model/_sag.py:354: ConvergenceWarning: The max_iter was reached which means the coef_ did not converge\n",
      "  ConvergenceWarning,\n",
      "/usr/local/lib/python3.7/dist-packages/sklearn/linear_model/_logistic.py:1479: UserWarning: l1_ratio parameter is only used when penalty is 'elasticnet'. Got (penalty=none)\n",
      "  \"(penalty={})\".format(self.penalty)\n"
     ]
    },
    {
     "name": "stdout",
     "output_type": "stream",
     "text": [
      "[CV] END .......................................penalty=none; total time=  14.1s\n"
     ]
    },
    {
     "name": "stderr",
     "output_type": "stream",
     "text": [
      "/usr/local/lib/python3.7/dist-packages/sklearn/linear_model/_sag.py:354: ConvergenceWarning: The max_iter was reached which means the coef_ did not converge\n",
      "  ConvergenceWarning,\n",
      "/usr/local/lib/python3.7/dist-packages/sklearn/linear_model/_logistic.py:1479: UserWarning: l1_ratio parameter is only used when penalty is 'elasticnet'. Got (penalty=none)\n",
      "  \"(penalty={})\".format(self.penalty)\n"
     ]
    },
    {
     "name": "stdout",
     "output_type": "stream",
     "text": [
      "[CV] END .......................................penalty=none; total time=  11.2s\n"
     ]
    },
    {
     "name": "stderr",
     "output_type": "stream",
     "text": [
      "/usr/local/lib/python3.7/dist-packages/sklearn/linear_model/_sag.py:354: ConvergenceWarning: The max_iter was reached which means the coef_ did not converge\n",
      "  ConvergenceWarning,\n",
      "/usr/local/lib/python3.7/dist-packages/sklearn/linear_model/_logistic.py:1479: UserWarning: l1_ratio parameter is only used when penalty is 'elasticnet'. Got (penalty=l1)\n",
      "  \"(penalty={})\".format(self.penalty)\n"
     ]
    },
    {
     "name": "stdout",
     "output_type": "stream",
     "text": [
      "[CV] END .......................................penalty=none; total time=  15.1s\n"
     ]
    },
    {
     "name": "stderr",
     "output_type": "stream",
     "text": [
      "/usr/local/lib/python3.7/dist-packages/sklearn/linear_model/_sag.py:354: ConvergenceWarning: The max_iter was reached which means the coef_ did not converge\n",
      "  ConvergenceWarning,\n",
      "/usr/local/lib/python3.7/dist-packages/sklearn/linear_model/_logistic.py:1479: UserWarning: l1_ratio parameter is only used when penalty is 'elasticnet'. Got (penalty=l1)\n",
      "  \"(penalty={})\".format(self.penalty)\n"
     ]
    },
    {
     "name": "stdout",
     "output_type": "stream",
     "text": [
      "[CV] END .........................................penalty=l1; total time=  19.8s\n"
     ]
    },
    {
     "name": "stderr",
     "output_type": "stream",
     "text": [
      "/usr/local/lib/python3.7/dist-packages/sklearn/linear_model/_sag.py:354: ConvergenceWarning: The max_iter was reached which means the coef_ did not converge\n",
      "  ConvergenceWarning,\n",
      "/usr/local/lib/python3.7/dist-packages/sklearn/linear_model/_logistic.py:1479: UserWarning: l1_ratio parameter is only used when penalty is 'elasticnet'. Got (penalty=l1)\n",
      "  \"(penalty={})\".format(self.penalty)\n"
     ]
    },
    {
     "name": "stdout",
     "output_type": "stream",
     "text": [
      "[CV] END .........................................penalty=l1; total time=  20.7s\n"
     ]
    },
    {
     "name": "stderr",
     "output_type": "stream",
     "text": [
      "/usr/local/lib/python3.7/dist-packages/sklearn/linear_model/_sag.py:354: ConvergenceWarning: The max_iter was reached which means the coef_ did not converge\n",
      "  ConvergenceWarning,\n",
      "/usr/local/lib/python3.7/dist-packages/sklearn/linear_model/_logistic.py:1479: UserWarning: l1_ratio parameter is only used when penalty is 'elasticnet'. Got (penalty=l1)\n",
      "  \"(penalty={})\".format(self.penalty)\n"
     ]
    },
    {
     "name": "stdout",
     "output_type": "stream",
     "text": [
      "[CV] END .........................................penalty=l1; total time=  16.5s\n"
     ]
    },
    {
     "name": "stderr",
     "output_type": "stream",
     "text": [
      "/usr/local/lib/python3.7/dist-packages/sklearn/linear_model/_sag.py:354: ConvergenceWarning: The max_iter was reached which means the coef_ did not converge\n",
      "  ConvergenceWarning,\n",
      "/usr/local/lib/python3.7/dist-packages/sklearn/linear_model/_logistic.py:1479: UserWarning: l1_ratio parameter is only used when penalty is 'elasticnet'. Got (penalty=l1)\n",
      "  \"(penalty={})\".format(self.penalty)\n"
     ]
    },
    {
     "name": "stdout",
     "output_type": "stream",
     "text": [
      "[CV] END .........................................penalty=l1; total time=  16.6s\n"
     ]
    },
    {
     "name": "stderr",
     "output_type": "stream",
     "text": [
      "/usr/local/lib/python3.7/dist-packages/sklearn/linear_model/_sag.py:354: ConvergenceWarning: The max_iter was reached which means the coef_ did not converge\n",
      "  ConvergenceWarning,\n",
      "/usr/local/lib/python3.7/dist-packages/sklearn/linear_model/_logistic.py:1479: UserWarning: l1_ratio parameter is only used when penalty is 'elasticnet'. Got (penalty=l2)\n",
      "  \"(penalty={})\".format(self.penalty)\n"
     ]
    },
    {
     "name": "stdout",
     "output_type": "stream",
     "text": [
      "[CV] END .........................................penalty=l1; total time=  16.5s\n"
     ]
    },
    {
     "name": "stderr",
     "output_type": "stream",
     "text": [
      "/usr/local/lib/python3.7/dist-packages/sklearn/linear_model/_sag.py:354: ConvergenceWarning: The max_iter was reached which means the coef_ did not converge\n",
      "  ConvergenceWarning,\n",
      "/usr/local/lib/python3.7/dist-packages/sklearn/linear_model/_logistic.py:1479: UserWarning: l1_ratio parameter is only used when penalty is 'elasticnet'. Got (penalty=l2)\n",
      "  \"(penalty={})\".format(self.penalty)\n"
     ]
    },
    {
     "name": "stdout",
     "output_type": "stream",
     "text": [
      "[CV] END .........................................penalty=l2; total time=  11.3s\n"
     ]
    },
    {
     "name": "stderr",
     "output_type": "stream",
     "text": [
      "/usr/local/lib/python3.7/dist-packages/sklearn/linear_model/_sag.py:354: ConvergenceWarning: The max_iter was reached which means the coef_ did not converge\n",
      "  ConvergenceWarning,\n",
      "/usr/local/lib/python3.7/dist-packages/sklearn/linear_model/_logistic.py:1479: UserWarning: l1_ratio parameter is only used when penalty is 'elasticnet'. Got (penalty=l2)\n",
      "  \"(penalty={})\".format(self.penalty)\n"
     ]
    },
    {
     "name": "stdout",
     "output_type": "stream",
     "text": [
      "[CV] END .........................................penalty=l2; total time=  12.1s\n"
     ]
    },
    {
     "name": "stderr",
     "output_type": "stream",
     "text": [
      "/usr/local/lib/python3.7/dist-packages/sklearn/linear_model/_sag.py:354: ConvergenceWarning: The max_iter was reached which means the coef_ did not converge\n",
      "  ConvergenceWarning,\n",
      "/usr/local/lib/python3.7/dist-packages/sklearn/linear_model/_logistic.py:1479: UserWarning: l1_ratio parameter is only used when penalty is 'elasticnet'. Got (penalty=l2)\n",
      "  \"(penalty={})\".format(self.penalty)\n"
     ]
    },
    {
     "name": "stdout",
     "output_type": "stream",
     "text": [
      "[CV] END .........................................penalty=l2; total time=  11.3s\n"
     ]
    },
    {
     "name": "stderr",
     "output_type": "stream",
     "text": [
      "/usr/local/lib/python3.7/dist-packages/sklearn/linear_model/_sag.py:354: ConvergenceWarning: The max_iter was reached which means the coef_ did not converge\n",
      "  ConvergenceWarning,\n",
      "/usr/local/lib/python3.7/dist-packages/sklearn/linear_model/_logistic.py:1479: UserWarning: l1_ratio parameter is only used when penalty is 'elasticnet'. Got (penalty=l2)\n",
      "  \"(penalty={})\".format(self.penalty)\n"
     ]
    },
    {
     "name": "stdout",
     "output_type": "stream",
     "text": [
      "[CV] END .........................................penalty=l2; total time=  11.3s\n"
     ]
    },
    {
     "name": "stderr",
     "output_type": "stream",
     "text": [
      "/usr/local/lib/python3.7/dist-packages/sklearn/linear_model/_sag.py:354: ConvergenceWarning: The max_iter was reached which means the coef_ did not converge\n",
      "  ConvergenceWarning,\n"
     ]
    },
    {
     "name": "stdout",
     "output_type": "stream",
     "text": [
      "[CV] END .........................................penalty=l2; total time=  17.5s\n"
     ]
    },
    {
     "name": "stderr",
     "output_type": "stream",
     "text": [
      "/usr/local/lib/python3.7/dist-packages/sklearn/linear_model/_sag.py:354: ConvergenceWarning: The max_iter was reached which means the coef_ did not converge\n",
      "  ConvergenceWarning,\n"
     ]
    },
    {
     "name": "stdout",
     "output_type": "stream",
     "text": [
      "[CV] END .................................penalty=elasticnet; total time=  25.2s\n"
     ]
    },
    {
     "name": "stderr",
     "output_type": "stream",
     "text": [
      "/usr/local/lib/python3.7/dist-packages/sklearn/linear_model/_sag.py:354: ConvergenceWarning: The max_iter was reached which means the coef_ did not converge\n",
      "  ConvergenceWarning,\n"
     ]
    },
    {
     "name": "stdout",
     "output_type": "stream",
     "text": [
      "[CV] END .................................penalty=elasticnet; total time=  17.4s\n"
     ]
    },
    {
     "name": "stderr",
     "output_type": "stream",
     "text": [
      "/usr/local/lib/python3.7/dist-packages/sklearn/linear_model/_sag.py:354: ConvergenceWarning: The max_iter was reached which means the coef_ did not converge\n",
      "  ConvergenceWarning,\n"
     ]
    },
    {
     "name": "stdout",
     "output_type": "stream",
     "text": [
      "[CV] END .................................penalty=elasticnet; total time=  16.8s\n"
     ]
    },
    {
     "name": "stderr",
     "output_type": "stream",
     "text": [
      "/usr/local/lib/python3.7/dist-packages/sklearn/linear_model/_sag.py:354: ConvergenceWarning: The max_iter was reached which means the coef_ did not converge\n",
      "  ConvergenceWarning,\n"
     ]
    },
    {
     "name": "stdout",
     "output_type": "stream",
     "text": [
      "[CV] END .................................penalty=elasticnet; total time=  16.8s\n"
     ]
    },
    {
     "name": "stderr",
     "output_type": "stream",
     "text": [
      "/usr/local/lib/python3.7/dist-packages/sklearn/linear_model/_sag.py:354: ConvergenceWarning: The max_iter was reached which means the coef_ did not converge\n",
      "  ConvergenceWarning,\n",
      "/usr/local/lib/python3.7/dist-packages/sklearn/linear_model/_logistic.py:1479: UserWarning: l1_ratio parameter is only used when penalty is 'elasticnet'. Got (penalty=l2)\n",
      "  \"(penalty={})\".format(self.penalty)\n"
     ]
    },
    {
     "name": "stdout",
     "output_type": "stream",
     "text": [
      "[CV] END .................................penalty=elasticnet; total time=  27.2s\n"
     ]
    },
    {
     "name": "stderr",
     "output_type": "stream",
     "text": [
      "/usr/local/lib/python3.7/dist-packages/sklearn/linear_model/_sag.py:354: ConvergenceWarning: The max_iter was reached which means the coef_ did not converge\n",
      "  ConvergenceWarning,\n",
      "/usr/local/lib/python3.7/dist-packages/sklearn/linear_model/_logistic.py:1479: UserWarning: l1_ratio parameter is only used when penalty is 'elasticnet'. Got (penalty=none)\n",
      "  \"(penalty={})\".format(self.penalty)\n"
     ]
    },
    {
     "name": "stdout",
     "output_type": "stream",
     "text": [
      "Fitting 5 folds for each of 4 candidates, totalling 20 fits\n"
     ]
    },
    {
     "name": "stderr",
     "output_type": "stream",
     "text": [
      "/usr/local/lib/python3.7/dist-packages/sklearn/linear_model/_sag.py:354: ConvergenceWarning: The max_iter was reached which means the coef_ did not converge\n",
      "  ConvergenceWarning,\n",
      "/usr/local/lib/python3.7/dist-packages/sklearn/linear_model/_logistic.py:1479: UserWarning: l1_ratio parameter is only used when penalty is 'elasticnet'. Got (penalty=none)\n",
      "  \"(penalty={})\".format(self.penalty)\n"
     ]
    },
    {
     "name": "stdout",
     "output_type": "stream",
     "text": [
      "[CV] END .......................................penalty=none; total time=   2.5s\n"
     ]
    },
    {
     "name": "stderr",
     "output_type": "stream",
     "text": [
      "/usr/local/lib/python3.7/dist-packages/sklearn/linear_model/_sag.py:354: ConvergenceWarning: The max_iter was reached which means the coef_ did not converge\n",
      "  ConvergenceWarning,\n",
      "/usr/local/lib/python3.7/dist-packages/sklearn/linear_model/_logistic.py:1479: UserWarning: l1_ratio parameter is only used when penalty is 'elasticnet'. Got (penalty=none)\n",
      "  \"(penalty={})\".format(self.penalty)\n"
     ]
    },
    {
     "name": "stdout",
     "output_type": "stream",
     "text": [
      "[CV] END .......................................penalty=none; total time=   2.6s\n"
     ]
    },
    {
     "name": "stderr",
     "output_type": "stream",
     "text": [
      "/usr/local/lib/python3.7/dist-packages/sklearn/linear_model/_sag.py:354: ConvergenceWarning: The max_iter was reached which means the coef_ did not converge\n",
      "  ConvergenceWarning,\n",
      "/usr/local/lib/python3.7/dist-packages/sklearn/linear_model/_logistic.py:1479: UserWarning: l1_ratio parameter is only used when penalty is 'elasticnet'. Got (penalty=none)\n",
      "  \"(penalty={})\".format(self.penalty)\n"
     ]
    },
    {
     "name": "stdout",
     "output_type": "stream",
     "text": [
      "[CV] END .......................................penalty=none; total time=   2.5s\n"
     ]
    },
    {
     "name": "stderr",
     "output_type": "stream",
     "text": [
      "/usr/local/lib/python3.7/dist-packages/sklearn/linear_model/_sag.py:354: ConvergenceWarning: The max_iter was reached which means the coef_ did not converge\n",
      "  ConvergenceWarning,\n",
      "/usr/local/lib/python3.7/dist-packages/sklearn/linear_model/_logistic.py:1479: UserWarning: l1_ratio parameter is only used when penalty is 'elasticnet'. Got (penalty=none)\n",
      "  \"(penalty={})\".format(self.penalty)\n"
     ]
    },
    {
     "name": "stdout",
     "output_type": "stream",
     "text": [
      "[CV] END .......................................penalty=none; total time=   2.6s\n"
     ]
    },
    {
     "name": "stderr",
     "output_type": "stream",
     "text": [
      "/usr/local/lib/python3.7/dist-packages/sklearn/linear_model/_sag.py:354: ConvergenceWarning: The max_iter was reached which means the coef_ did not converge\n",
      "  ConvergenceWarning,\n",
      "/usr/local/lib/python3.7/dist-packages/sklearn/linear_model/_logistic.py:1479: UserWarning: l1_ratio parameter is only used when penalty is 'elasticnet'. Got (penalty=l1)\n",
      "  \"(penalty={})\".format(self.penalty)\n"
     ]
    },
    {
     "name": "stdout",
     "output_type": "stream",
     "text": [
      "[CV] END .......................................penalty=none; total time=   2.6s\n"
     ]
    },
    {
     "name": "stderr",
     "output_type": "stream",
     "text": [
      "/usr/local/lib/python3.7/dist-packages/sklearn/linear_model/_sag.py:354: ConvergenceWarning: The max_iter was reached which means the coef_ did not converge\n",
      "  ConvergenceWarning,\n",
      "/usr/local/lib/python3.7/dist-packages/sklearn/linear_model/_logistic.py:1479: UserWarning: l1_ratio parameter is only used when penalty is 'elasticnet'. Got (penalty=l1)\n",
      "  \"(penalty={})\".format(self.penalty)\n"
     ]
    },
    {
     "name": "stdout",
     "output_type": "stream",
     "text": [
      "[CV] END .........................................penalty=l1; total time=   3.3s\n"
     ]
    },
    {
     "name": "stderr",
     "output_type": "stream",
     "text": [
      "/usr/local/lib/python3.7/dist-packages/sklearn/linear_model/_sag.py:354: ConvergenceWarning: The max_iter was reached which means the coef_ did not converge\n",
      "  ConvergenceWarning,\n",
      "/usr/local/lib/python3.7/dist-packages/sklearn/linear_model/_logistic.py:1479: UserWarning: l1_ratio parameter is only used when penalty is 'elasticnet'. Got (penalty=l1)\n",
      "  \"(penalty={})\".format(self.penalty)\n"
     ]
    },
    {
     "name": "stdout",
     "output_type": "stream",
     "text": [
      "[CV] END .........................................penalty=l1; total time=   3.3s\n"
     ]
    },
    {
     "name": "stderr",
     "output_type": "stream",
     "text": [
      "/usr/local/lib/python3.7/dist-packages/sklearn/linear_model/_sag.py:354: ConvergenceWarning: The max_iter was reached which means the coef_ did not converge\n",
      "  ConvergenceWarning,\n",
      "/usr/local/lib/python3.7/dist-packages/sklearn/linear_model/_logistic.py:1479: UserWarning: l1_ratio parameter is only used when penalty is 'elasticnet'. Got (penalty=l1)\n",
      "  \"(penalty={})\".format(self.penalty)\n"
     ]
    },
    {
     "name": "stdout",
     "output_type": "stream",
     "text": [
      "[CV] END .........................................penalty=l1; total time=   3.4s\n"
     ]
    },
    {
     "name": "stderr",
     "output_type": "stream",
     "text": [
      "/usr/local/lib/python3.7/dist-packages/sklearn/linear_model/_sag.py:354: ConvergenceWarning: The max_iter was reached which means the coef_ did not converge\n",
      "  ConvergenceWarning,\n",
      "/usr/local/lib/python3.7/dist-packages/sklearn/linear_model/_logistic.py:1479: UserWarning: l1_ratio parameter is only used when penalty is 'elasticnet'. Got (penalty=l1)\n",
      "  \"(penalty={})\".format(self.penalty)\n"
     ]
    },
    {
     "name": "stdout",
     "output_type": "stream",
     "text": [
      "[CV] END .........................................penalty=l1; total time=   3.3s\n"
     ]
    },
    {
     "name": "stderr",
     "output_type": "stream",
     "text": [
      "/usr/local/lib/python3.7/dist-packages/sklearn/linear_model/_sag.py:354: ConvergenceWarning: The max_iter was reached which means the coef_ did not converge\n",
      "  ConvergenceWarning,\n",
      "/usr/local/lib/python3.7/dist-packages/sklearn/linear_model/_logistic.py:1479: UserWarning: l1_ratio parameter is only used when penalty is 'elasticnet'. Got (penalty=l2)\n",
      "  \"(penalty={})\".format(self.penalty)\n"
     ]
    },
    {
     "name": "stdout",
     "output_type": "stream",
     "text": [
      "[CV] END .........................................penalty=l1; total time=   3.4s\n"
     ]
    },
    {
     "name": "stderr",
     "output_type": "stream",
     "text": [
      "/usr/local/lib/python3.7/dist-packages/sklearn/linear_model/_sag.py:354: ConvergenceWarning: The max_iter was reached which means the coef_ did not converge\n",
      "  ConvergenceWarning,\n",
      "/usr/local/lib/python3.7/dist-packages/sklearn/linear_model/_logistic.py:1479: UserWarning: l1_ratio parameter is only used when penalty is 'elasticnet'. Got (penalty=l2)\n",
      "  \"(penalty={})\".format(self.penalty)\n"
     ]
    },
    {
     "name": "stdout",
     "output_type": "stream",
     "text": [
      "[CV] END .........................................penalty=l2; total time=   2.6s\n"
     ]
    },
    {
     "name": "stderr",
     "output_type": "stream",
     "text": [
      "/usr/local/lib/python3.7/dist-packages/sklearn/linear_model/_sag.py:354: ConvergenceWarning: The max_iter was reached which means the coef_ did not converge\n",
      "  ConvergenceWarning,\n",
      "/usr/local/lib/python3.7/dist-packages/sklearn/linear_model/_logistic.py:1479: UserWarning: l1_ratio parameter is only used when penalty is 'elasticnet'. Got (penalty=l2)\n",
      "  \"(penalty={})\".format(self.penalty)\n"
     ]
    },
    {
     "name": "stdout",
     "output_type": "stream",
     "text": [
      "[CV] END .........................................penalty=l2; total time=   2.5s\n"
     ]
    },
    {
     "name": "stderr",
     "output_type": "stream",
     "text": [
      "/usr/local/lib/python3.7/dist-packages/sklearn/linear_model/_sag.py:354: ConvergenceWarning: The max_iter was reached which means the coef_ did not converge\n",
      "  ConvergenceWarning,\n",
      "/usr/local/lib/python3.7/dist-packages/sklearn/linear_model/_logistic.py:1479: UserWarning: l1_ratio parameter is only used when penalty is 'elasticnet'. Got (penalty=l2)\n",
      "  \"(penalty={})\".format(self.penalty)\n"
     ]
    },
    {
     "name": "stdout",
     "output_type": "stream",
     "text": [
      "[CV] END .........................................penalty=l2; total time=   2.6s\n"
     ]
    },
    {
     "name": "stderr",
     "output_type": "stream",
     "text": [
      "/usr/local/lib/python3.7/dist-packages/sklearn/linear_model/_sag.py:354: ConvergenceWarning: The max_iter was reached which means the coef_ did not converge\n",
      "  ConvergenceWarning,\n",
      "/usr/local/lib/python3.7/dist-packages/sklearn/linear_model/_logistic.py:1479: UserWarning: l1_ratio parameter is only used when penalty is 'elasticnet'. Got (penalty=l2)\n",
      "  \"(penalty={})\".format(self.penalty)\n"
     ]
    },
    {
     "name": "stdout",
     "output_type": "stream",
     "text": [
      "[CV] END .........................................penalty=l2; total time=   2.5s\n"
     ]
    },
    {
     "name": "stderr",
     "output_type": "stream",
     "text": [
      "/usr/local/lib/python3.7/dist-packages/sklearn/linear_model/_sag.py:354: ConvergenceWarning: The max_iter was reached which means the coef_ did not converge\n",
      "  ConvergenceWarning,\n"
     ]
    },
    {
     "name": "stdout",
     "output_type": "stream",
     "text": [
      "[CV] END .........................................penalty=l2; total time=   2.6s\n"
     ]
    },
    {
     "name": "stderr",
     "output_type": "stream",
     "text": [
      "/usr/local/lib/python3.7/dist-packages/sklearn/linear_model/_sag.py:354: ConvergenceWarning: The max_iter was reached which means the coef_ did not converge\n",
      "  ConvergenceWarning,\n"
     ]
    },
    {
     "name": "stdout",
     "output_type": "stream",
     "text": [
      "[CV] END .................................penalty=elasticnet; total time=   3.4s\n"
     ]
    },
    {
     "name": "stderr",
     "output_type": "stream",
     "text": [
      "/usr/local/lib/python3.7/dist-packages/sklearn/linear_model/_sag.py:354: ConvergenceWarning: The max_iter was reached which means the coef_ did not converge\n",
      "  ConvergenceWarning,\n"
     ]
    },
    {
     "name": "stdout",
     "output_type": "stream",
     "text": [
      "[CV] END .................................penalty=elasticnet; total time=   3.3s\n"
     ]
    },
    {
     "name": "stderr",
     "output_type": "stream",
     "text": [
      "/usr/local/lib/python3.7/dist-packages/sklearn/linear_model/_sag.py:354: ConvergenceWarning: The max_iter was reached which means the coef_ did not converge\n",
      "  ConvergenceWarning,\n"
     ]
    },
    {
     "name": "stdout",
     "output_type": "stream",
     "text": [
      "[CV] END .................................penalty=elasticnet; total time=   3.4s\n"
     ]
    },
    {
     "name": "stderr",
     "output_type": "stream",
     "text": [
      "/usr/local/lib/python3.7/dist-packages/sklearn/linear_model/_sag.py:354: ConvergenceWarning: The max_iter was reached which means the coef_ did not converge\n",
      "  ConvergenceWarning,\n"
     ]
    },
    {
     "name": "stdout",
     "output_type": "stream",
     "text": [
      "[CV] END .................................penalty=elasticnet; total time=   3.3s\n"
     ]
    },
    {
     "name": "stderr",
     "output_type": "stream",
     "text": [
      "/usr/local/lib/python3.7/dist-packages/sklearn/linear_model/_sag.py:354: ConvergenceWarning: The max_iter was reached which means the coef_ did not converge\n",
      "  ConvergenceWarning,\n",
      "/usr/local/lib/python3.7/dist-packages/sklearn/linear_model/_logistic.py:1479: UserWarning: l1_ratio parameter is only used when penalty is 'elasticnet'. Got (penalty=l2)\n",
      "  \"(penalty={})\".format(self.penalty)\n"
     ]
    },
    {
     "name": "stdout",
     "output_type": "stream",
     "text": [
      "[CV] END .................................penalty=elasticnet; total time=   3.4s\n"
     ]
    },
    {
     "name": "stderr",
     "output_type": "stream",
     "text": [
      "/usr/local/lib/python3.7/dist-packages/sklearn/linear_model/_sag.py:354: ConvergenceWarning: The max_iter was reached which means the coef_ did not converge\n",
      "  ConvergenceWarning,\n",
      "/usr/local/lib/python3.7/dist-packages/sklearn/linear_model/_logistic.py:1479: UserWarning: l1_ratio parameter is only used when penalty is 'elasticnet'. Got (penalty=none)\n",
      "  \"(penalty={})\".format(self.penalty)\n"
     ]
    },
    {
     "name": "stdout",
     "output_type": "stream",
     "text": [
      "Fitting 5 folds for each of 4 candidates, totalling 20 fits\n"
     ]
    },
    {
     "name": "stderr",
     "output_type": "stream",
     "text": [
      "/usr/local/lib/python3.7/dist-packages/sklearn/linear_model/_sag.py:354: ConvergenceWarning: The max_iter was reached which means the coef_ did not converge\n",
      "  ConvergenceWarning,\n",
      "/usr/local/lib/python3.7/dist-packages/sklearn/linear_model/_logistic.py:1479: UserWarning: l1_ratio parameter is only used when penalty is 'elasticnet'. Got (penalty=none)\n",
      "  \"(penalty={})\".format(self.penalty)\n"
     ]
    },
    {
     "name": "stdout",
     "output_type": "stream",
     "text": [
      "[CV] END .......................................penalty=none; total time=   4.9s\n"
     ]
    },
    {
     "name": "stderr",
     "output_type": "stream",
     "text": [
      "/usr/local/lib/python3.7/dist-packages/sklearn/linear_model/_sag.py:354: ConvergenceWarning: The max_iter was reached which means the coef_ did not converge\n",
      "  ConvergenceWarning,\n",
      "/usr/local/lib/python3.7/dist-packages/sklearn/linear_model/_logistic.py:1479: UserWarning: l1_ratio parameter is only used when penalty is 'elasticnet'. Got (penalty=none)\n",
      "  \"(penalty={})\".format(self.penalty)\n"
     ]
    },
    {
     "name": "stdout",
     "output_type": "stream",
     "text": [
      "[CV] END .......................................penalty=none; total time=   5.6s\n"
     ]
    },
    {
     "name": "stderr",
     "output_type": "stream",
     "text": [
      "/usr/local/lib/python3.7/dist-packages/sklearn/linear_model/_sag.py:354: ConvergenceWarning: The max_iter was reached which means the coef_ did not converge\n",
      "  ConvergenceWarning,\n",
      "/usr/local/lib/python3.7/dist-packages/sklearn/linear_model/_logistic.py:1479: UserWarning: l1_ratio parameter is only used when penalty is 'elasticnet'. Got (penalty=none)\n",
      "  \"(penalty={})\".format(self.penalty)\n"
     ]
    },
    {
     "name": "stdout",
     "output_type": "stream",
     "text": [
      "[CV] END .......................................penalty=none; total time=   4.9s\n"
     ]
    },
    {
     "name": "stderr",
     "output_type": "stream",
     "text": [
      "/usr/local/lib/python3.7/dist-packages/sklearn/linear_model/_sag.py:354: ConvergenceWarning: The max_iter was reached which means the coef_ did not converge\n",
      "  ConvergenceWarning,\n",
      "/usr/local/lib/python3.7/dist-packages/sklearn/linear_model/_logistic.py:1479: UserWarning: l1_ratio parameter is only used when penalty is 'elasticnet'. Got (penalty=none)\n",
      "  \"(penalty={})\".format(self.penalty)\n"
     ]
    },
    {
     "name": "stdout",
     "output_type": "stream",
     "text": [
      "[CV] END .......................................penalty=none; total time=   4.9s\n"
     ]
    },
    {
     "name": "stderr",
     "output_type": "stream",
     "text": [
      "/usr/local/lib/python3.7/dist-packages/sklearn/linear_model/_sag.py:354: ConvergenceWarning: The max_iter was reached which means the coef_ did not converge\n",
      "  ConvergenceWarning,\n",
      "/usr/local/lib/python3.7/dist-packages/sklearn/linear_model/_logistic.py:1479: UserWarning: l1_ratio parameter is only used when penalty is 'elasticnet'. Got (penalty=l1)\n",
      "  \"(penalty={})\".format(self.penalty)\n"
     ]
    },
    {
     "name": "stdout",
     "output_type": "stream",
     "text": [
      "[CV] END .......................................penalty=none; total time=   4.9s\n"
     ]
    },
    {
     "name": "stderr",
     "output_type": "stream",
     "text": [
      "/usr/local/lib/python3.7/dist-packages/sklearn/linear_model/_sag.py:354: ConvergenceWarning: The max_iter was reached which means the coef_ did not converge\n",
      "  ConvergenceWarning,\n",
      "/usr/local/lib/python3.7/dist-packages/sklearn/linear_model/_logistic.py:1479: UserWarning: l1_ratio parameter is only used when penalty is 'elasticnet'. Got (penalty=l1)\n",
      "  \"(penalty={})\".format(self.penalty)\n"
     ]
    },
    {
     "name": "stdout",
     "output_type": "stream",
     "text": [
      "[CV] END .........................................penalty=l1; total time=   7.2s\n"
     ]
    },
    {
     "name": "stderr",
     "output_type": "stream",
     "text": [
      "/usr/local/lib/python3.7/dist-packages/sklearn/linear_model/_sag.py:354: ConvergenceWarning: The max_iter was reached which means the coef_ did not converge\n",
      "  ConvergenceWarning,\n",
      "/usr/local/lib/python3.7/dist-packages/sklearn/linear_model/_logistic.py:1479: UserWarning: l1_ratio parameter is only used when penalty is 'elasticnet'. Got (penalty=l1)\n",
      "  \"(penalty={})\".format(self.penalty)\n"
     ]
    },
    {
     "name": "stdout",
     "output_type": "stream",
     "text": [
      "[CV] END .........................................penalty=l1; total time=   6.3s\n"
     ]
    },
    {
     "name": "stderr",
     "output_type": "stream",
     "text": [
      "/usr/local/lib/python3.7/dist-packages/sklearn/linear_model/_sag.py:354: ConvergenceWarning: The max_iter was reached which means the coef_ did not converge\n",
      "  ConvergenceWarning,\n",
      "/usr/local/lib/python3.7/dist-packages/sklearn/linear_model/_logistic.py:1479: UserWarning: l1_ratio parameter is only used when penalty is 'elasticnet'. Got (penalty=l1)\n",
      "  \"(penalty={})\".format(self.penalty)\n"
     ]
    },
    {
     "name": "stdout",
     "output_type": "stream",
     "text": [
      "[CV] END .........................................penalty=l1; total time=   6.4s\n"
     ]
    },
    {
     "name": "stderr",
     "output_type": "stream",
     "text": [
      "/usr/local/lib/python3.7/dist-packages/sklearn/linear_model/_sag.py:354: ConvergenceWarning: The max_iter was reached which means the coef_ did not converge\n",
      "  ConvergenceWarning,\n",
      "/usr/local/lib/python3.7/dist-packages/sklearn/linear_model/_logistic.py:1479: UserWarning: l1_ratio parameter is only used when penalty is 'elasticnet'. Got (penalty=l1)\n",
      "  \"(penalty={})\".format(self.penalty)\n"
     ]
    },
    {
     "name": "stdout",
     "output_type": "stream",
     "text": [
      "[CV] END .........................................penalty=l1; total time=   6.3s\n"
     ]
    },
    {
     "name": "stderr",
     "output_type": "stream",
     "text": [
      "/usr/local/lib/python3.7/dist-packages/sklearn/linear_model/_sag.py:354: ConvergenceWarning: The max_iter was reached which means the coef_ did not converge\n",
      "  ConvergenceWarning,\n",
      "/usr/local/lib/python3.7/dist-packages/sklearn/linear_model/_logistic.py:1479: UserWarning: l1_ratio parameter is only used when penalty is 'elasticnet'. Got (penalty=l2)\n",
      "  \"(penalty={})\".format(self.penalty)\n"
     ]
    },
    {
     "name": "stdout",
     "output_type": "stream",
     "text": [
      "[CV] END .........................................penalty=l1; total time=   6.3s\n"
     ]
    },
    {
     "name": "stderr",
     "output_type": "stream",
     "text": [
      "/usr/local/lib/python3.7/dist-packages/sklearn/linear_model/_sag.py:354: ConvergenceWarning: The max_iter was reached which means the coef_ did not converge\n",
      "  ConvergenceWarning,\n",
      "/usr/local/lib/python3.7/dist-packages/sklearn/linear_model/_logistic.py:1479: UserWarning: l1_ratio parameter is only used when penalty is 'elasticnet'. Got (penalty=l2)\n",
      "  \"(penalty={})\".format(self.penalty)\n"
     ]
    },
    {
     "name": "stdout",
     "output_type": "stream",
     "text": [
      "[CV] END .........................................penalty=l2; total time=   4.9s\n"
     ]
    },
    {
     "name": "stderr",
     "output_type": "stream",
     "text": [
      "/usr/local/lib/python3.7/dist-packages/sklearn/linear_model/_sag.py:354: ConvergenceWarning: The max_iter was reached which means the coef_ did not converge\n",
      "  ConvergenceWarning,\n",
      "/usr/local/lib/python3.7/dist-packages/sklearn/linear_model/_logistic.py:1479: UserWarning: l1_ratio parameter is only used when penalty is 'elasticnet'. Got (penalty=l2)\n",
      "  \"(penalty={})\".format(self.penalty)\n"
     ]
    },
    {
     "name": "stdout",
     "output_type": "stream",
     "text": [
      "[CV] END .........................................penalty=l2; total time=   4.9s\n"
     ]
    },
    {
     "name": "stderr",
     "output_type": "stream",
     "text": [
      "/usr/local/lib/python3.7/dist-packages/sklearn/linear_model/_sag.py:354: ConvergenceWarning: The max_iter was reached which means the coef_ did not converge\n",
      "  ConvergenceWarning,\n",
      "/usr/local/lib/python3.7/dist-packages/sklearn/linear_model/_logistic.py:1479: UserWarning: l1_ratio parameter is only used when penalty is 'elasticnet'. Got (penalty=l2)\n",
      "  \"(penalty={})\".format(self.penalty)\n"
     ]
    },
    {
     "name": "stdout",
     "output_type": "stream",
     "text": [
      "[CV] END .........................................penalty=l2; total time=   5.6s\n"
     ]
    },
    {
     "name": "stderr",
     "output_type": "stream",
     "text": [
      "/usr/local/lib/python3.7/dist-packages/sklearn/linear_model/_sag.py:354: ConvergenceWarning: The max_iter was reached which means the coef_ did not converge\n",
      "  ConvergenceWarning,\n",
      "/usr/local/lib/python3.7/dist-packages/sklearn/linear_model/_logistic.py:1479: UserWarning: l1_ratio parameter is only used when penalty is 'elasticnet'. Got (penalty=l2)\n",
      "  \"(penalty={})\".format(self.penalty)\n"
     ]
    },
    {
     "name": "stdout",
     "output_type": "stream",
     "text": [
      "[CV] END .........................................penalty=l2; total time=   4.9s\n"
     ]
    },
    {
     "name": "stderr",
     "output_type": "stream",
     "text": [
      "/usr/local/lib/python3.7/dist-packages/sklearn/linear_model/_sag.py:354: ConvergenceWarning: The max_iter was reached which means the coef_ did not converge\n",
      "  ConvergenceWarning,\n"
     ]
    },
    {
     "name": "stdout",
     "output_type": "stream",
     "text": [
      "[CV] END .........................................penalty=l2; total time=   4.9s\n"
     ]
    },
    {
     "name": "stderr",
     "output_type": "stream",
     "text": [
      "/usr/local/lib/python3.7/dist-packages/sklearn/linear_model/_sag.py:354: ConvergenceWarning: The max_iter was reached which means the coef_ did not converge\n",
      "  ConvergenceWarning,\n"
     ]
    },
    {
     "name": "stdout",
     "output_type": "stream",
     "text": [
      "[CV] END .................................penalty=elasticnet; total time=   6.3s\n"
     ]
    },
    {
     "name": "stderr",
     "output_type": "stream",
     "text": [
      "/usr/local/lib/python3.7/dist-packages/sklearn/linear_model/_sag.py:354: ConvergenceWarning: The max_iter was reached which means the coef_ did not converge\n",
      "  ConvergenceWarning,\n"
     ]
    },
    {
     "name": "stdout",
     "output_type": "stream",
     "text": [
      "[CV] END .................................penalty=elasticnet; total time=   6.3s\n"
     ]
    },
    {
     "name": "stderr",
     "output_type": "stream",
     "text": [
      "/usr/local/lib/python3.7/dist-packages/sklearn/linear_model/_sag.py:354: ConvergenceWarning: The max_iter was reached which means the coef_ did not converge\n",
      "  ConvergenceWarning,\n"
     ]
    },
    {
     "name": "stdout",
     "output_type": "stream",
     "text": [
      "[CV] END .................................penalty=elasticnet; total time=   6.3s\n"
     ]
    },
    {
     "name": "stderr",
     "output_type": "stream",
     "text": [
      "/usr/local/lib/python3.7/dist-packages/sklearn/linear_model/_sag.py:354: ConvergenceWarning: The max_iter was reached which means the coef_ did not converge\n",
      "  ConvergenceWarning,\n"
     ]
    },
    {
     "name": "stdout",
     "output_type": "stream",
     "text": [
      "[CV] END .................................penalty=elasticnet; total time=   6.3s\n"
     ]
    },
    {
     "name": "stderr",
     "output_type": "stream",
     "text": [
      "/usr/local/lib/python3.7/dist-packages/sklearn/linear_model/_sag.py:354: ConvergenceWarning: The max_iter was reached which means the coef_ did not converge\n",
      "  ConvergenceWarning,\n",
      "/usr/local/lib/python3.7/dist-packages/sklearn/linear_model/_logistic.py:1479: UserWarning: l1_ratio parameter is only used when penalty is 'elasticnet'. Got (penalty=none)\n",
      "  \"(penalty={})\".format(self.penalty)\n"
     ]
    },
    {
     "name": "stdout",
     "output_type": "stream",
     "text": [
      "[CV] END .................................penalty=elasticnet; total time=   6.3s\n"
     ]
    },
    {
     "name": "stderr",
     "output_type": "stream",
     "text": [
      "/usr/local/lib/python3.7/dist-packages/sklearn/linear_model/_sag.py:354: ConvergenceWarning: The max_iter was reached which means the coef_ did not converge\n",
      "  ConvergenceWarning,\n",
      "/usr/local/lib/python3.7/dist-packages/sklearn/linear_model/_logistic.py:1479: UserWarning: l1_ratio parameter is only used when penalty is 'elasticnet'. Got (penalty=none)\n",
      "  \"(penalty={})\".format(self.penalty)\n"
     ]
    },
    {
     "name": "stdout",
     "output_type": "stream",
     "text": [
      "Fitting 5 folds for each of 4 candidates, totalling 20 fits\n"
     ]
    },
    {
     "name": "stderr",
     "output_type": "stream",
     "text": [
      "/usr/local/lib/python3.7/dist-packages/sklearn/linear_model/_sag.py:354: ConvergenceWarning: The max_iter was reached which means the coef_ did not converge\n",
      "  ConvergenceWarning,\n",
      "/usr/local/lib/python3.7/dist-packages/sklearn/linear_model/_logistic.py:1479: UserWarning: l1_ratio parameter is only used when penalty is 'elasticnet'. Got (penalty=none)\n",
      "  \"(penalty={})\".format(self.penalty)\n"
     ]
    },
    {
     "name": "stdout",
     "output_type": "stream",
     "text": [
      "[CV] END .......................................penalty=none; total time=  11.4s\n"
     ]
    },
    {
     "name": "stderr",
     "output_type": "stream",
     "text": [
      "/usr/local/lib/python3.7/dist-packages/sklearn/linear_model/_sag.py:354: ConvergenceWarning: The max_iter was reached which means the coef_ did not converge\n",
      "  ConvergenceWarning,\n",
      "/usr/local/lib/python3.7/dist-packages/sklearn/linear_model/_logistic.py:1479: UserWarning: l1_ratio parameter is only used when penalty is 'elasticnet'. Got (penalty=none)\n",
      "  \"(penalty={})\".format(self.penalty)\n"
     ]
    },
    {
     "name": "stdout",
     "output_type": "stream",
     "text": [
      "[CV] END .......................................penalty=none; total time=  12.3s\n"
     ]
    },
    {
     "name": "stderr",
     "output_type": "stream",
     "text": [
      "/usr/local/lib/python3.7/dist-packages/sklearn/linear_model/_sag.py:354: ConvergenceWarning: The max_iter was reached which means the coef_ did not converge\n",
      "  ConvergenceWarning,\n",
      "/usr/local/lib/python3.7/dist-packages/sklearn/linear_model/_logistic.py:1479: UserWarning: l1_ratio parameter is only used when penalty is 'elasticnet'. Got (penalty=none)\n",
      "  \"(penalty={})\".format(self.penalty)\n"
     ]
    },
    {
     "name": "stdout",
     "output_type": "stream",
     "text": [
      "[CV] END .......................................penalty=none; total time=  11.5s\n"
     ]
    },
    {
     "name": "stderr",
     "output_type": "stream",
     "text": [
      "/usr/local/lib/python3.7/dist-packages/sklearn/linear_model/_sag.py:354: ConvergenceWarning: The max_iter was reached which means the coef_ did not converge\n",
      "  ConvergenceWarning,\n",
      "/usr/local/lib/python3.7/dist-packages/sklearn/linear_model/_logistic.py:1479: UserWarning: l1_ratio parameter is only used when penalty is 'elasticnet'. Got (penalty=none)\n",
      "  \"(penalty={})\".format(self.penalty)\n"
     ]
    },
    {
     "name": "stdout",
     "output_type": "stream",
     "text": [
      "[CV] END .......................................penalty=none; total time=  11.5s\n"
     ]
    },
    {
     "name": "stderr",
     "output_type": "stream",
     "text": [
      "/usr/local/lib/python3.7/dist-packages/sklearn/linear_model/_sag.py:354: ConvergenceWarning: The max_iter was reached which means the coef_ did not converge\n",
      "  ConvergenceWarning,\n",
      "/usr/local/lib/python3.7/dist-packages/sklearn/linear_model/_logistic.py:1479: UserWarning: l1_ratio parameter is only used when penalty is 'elasticnet'. Got (penalty=l1)\n",
      "  \"(penalty={})\".format(self.penalty)\n"
     ]
    },
    {
     "name": "stdout",
     "output_type": "stream",
     "text": [
      "[CV] END .......................................penalty=none; total time=  11.5s\n"
     ]
    },
    {
     "name": "stderr",
     "output_type": "stream",
     "text": [
      "/usr/local/lib/python3.7/dist-packages/sklearn/linear_model/_sag.py:354: ConvergenceWarning: The max_iter was reached which means the coef_ did not converge\n",
      "  ConvergenceWarning,\n",
      "/usr/local/lib/python3.7/dist-packages/sklearn/linear_model/_logistic.py:1479: UserWarning: l1_ratio parameter is only used when penalty is 'elasticnet'. Got (penalty=l1)\n",
      "  \"(penalty={})\".format(self.penalty)\n"
     ]
    },
    {
     "name": "stdout",
     "output_type": "stream",
     "text": [
      "[CV] END .........................................penalty=l1; total time=  17.4s\n"
     ]
    },
    {
     "name": "stderr",
     "output_type": "stream",
     "text": [
      "/usr/local/lib/python3.7/dist-packages/sklearn/linear_model/_sag.py:354: ConvergenceWarning: The max_iter was reached which means the coef_ did not converge\n",
      "  ConvergenceWarning,\n",
      "/usr/local/lib/python3.7/dist-packages/sklearn/linear_model/_logistic.py:1479: UserWarning: l1_ratio parameter is only used when penalty is 'elasticnet'. Got (penalty=l1)\n",
      "  \"(penalty={})\".format(self.penalty)\n"
     ]
    },
    {
     "name": "stdout",
     "output_type": "stream",
     "text": [
      "[CV] END .........................................penalty=l1; total time=  17.1s\n"
     ]
    },
    {
     "name": "stderr",
     "output_type": "stream",
     "text": [
      "/usr/local/lib/python3.7/dist-packages/sklearn/linear_model/_sag.py:354: ConvergenceWarning: The max_iter was reached which means the coef_ did not converge\n",
      "  ConvergenceWarning,\n",
      "/usr/local/lib/python3.7/dist-packages/sklearn/linear_model/_logistic.py:1479: UserWarning: l1_ratio parameter is only used when penalty is 'elasticnet'. Got (penalty=l1)\n",
      "  \"(penalty={})\".format(self.penalty)\n"
     ]
    },
    {
     "name": "stdout",
     "output_type": "stream",
     "text": [
      "[CV] END .........................................penalty=l1; total time=  17.5s\n"
     ]
    },
    {
     "name": "stderr",
     "output_type": "stream",
     "text": [
      "/usr/local/lib/python3.7/dist-packages/sklearn/linear_model/_sag.py:354: ConvergenceWarning: The max_iter was reached which means the coef_ did not converge\n",
      "  ConvergenceWarning,\n",
      "/usr/local/lib/python3.7/dist-packages/sklearn/linear_model/_logistic.py:1479: UserWarning: l1_ratio parameter is only used when penalty is 'elasticnet'. Got (penalty=l1)\n",
      "  \"(penalty={})\".format(self.penalty)\n"
     ]
    },
    {
     "name": "stdout",
     "output_type": "stream",
     "text": [
      "[CV] END .........................................penalty=l1; total time=  17.3s\n"
     ]
    },
    {
     "name": "stderr",
     "output_type": "stream",
     "text": [
      "/usr/local/lib/python3.7/dist-packages/sklearn/linear_model/_sag.py:354: ConvergenceWarning: The max_iter was reached which means the coef_ did not converge\n",
      "  ConvergenceWarning,\n",
      "/usr/local/lib/python3.7/dist-packages/sklearn/linear_model/_logistic.py:1479: UserWarning: l1_ratio parameter is only used when penalty is 'elasticnet'. Got (penalty=l2)\n",
      "  \"(penalty={})\".format(self.penalty)\n"
     ]
    },
    {
     "name": "stdout",
     "output_type": "stream",
     "text": [
      "[CV] END .........................................penalty=l1; total time=  17.0s\n"
     ]
    },
    {
     "name": "stderr",
     "output_type": "stream",
     "text": [
      "/usr/local/lib/python3.7/dist-packages/sklearn/linear_model/_sag.py:354: ConvergenceWarning: The max_iter was reached which means the coef_ did not converge\n",
      "  ConvergenceWarning,\n",
      "/usr/local/lib/python3.7/dist-packages/sklearn/linear_model/_logistic.py:1479: UserWarning: l1_ratio parameter is only used when penalty is 'elasticnet'. Got (penalty=l2)\n",
      "  \"(penalty={})\".format(self.penalty)\n"
     ]
    },
    {
     "name": "stdout",
     "output_type": "stream",
     "text": [
      "[CV] END .........................................penalty=l2; total time=  11.5s\n"
     ]
    },
    {
     "name": "stderr",
     "output_type": "stream",
     "text": [
      "/usr/local/lib/python3.7/dist-packages/sklearn/linear_model/_sag.py:354: ConvergenceWarning: The max_iter was reached which means the coef_ did not converge\n",
      "  ConvergenceWarning,\n",
      "/usr/local/lib/python3.7/dist-packages/sklearn/linear_model/_logistic.py:1479: UserWarning: l1_ratio parameter is only used when penalty is 'elasticnet'. Got (penalty=l2)\n",
      "  \"(penalty={})\".format(self.penalty)\n"
     ]
    },
    {
     "name": "stdout",
     "output_type": "stream",
     "text": [
      "[CV] END .........................................penalty=l2; total time=  11.5s\n"
     ]
    },
    {
     "name": "stderr",
     "output_type": "stream",
     "text": [
      "/usr/local/lib/python3.7/dist-packages/sklearn/linear_model/_sag.py:354: ConvergenceWarning: The max_iter was reached which means the coef_ did not converge\n",
      "  ConvergenceWarning,\n",
      "/usr/local/lib/python3.7/dist-packages/sklearn/linear_model/_logistic.py:1479: UserWarning: l1_ratio parameter is only used when penalty is 'elasticnet'. Got (penalty=l2)\n",
      "  \"(penalty={})\".format(self.penalty)\n"
     ]
    },
    {
     "name": "stdout",
     "output_type": "stream",
     "text": [
      "[CV] END .........................................penalty=l2; total time=  11.4s\n"
     ]
    },
    {
     "name": "stderr",
     "output_type": "stream",
     "text": [
      "/usr/local/lib/python3.7/dist-packages/sklearn/linear_model/_sag.py:354: ConvergenceWarning: The max_iter was reached which means the coef_ did not converge\n",
      "  ConvergenceWarning,\n",
      "/usr/local/lib/python3.7/dist-packages/sklearn/linear_model/_logistic.py:1479: UserWarning: l1_ratio parameter is only used when penalty is 'elasticnet'. Got (penalty=l2)\n",
      "  \"(penalty={})\".format(self.penalty)\n"
     ]
    },
    {
     "name": "stdout",
     "output_type": "stream",
     "text": [
      "[CV] END .........................................penalty=l2; total time=  11.5s\n"
     ]
    },
    {
     "name": "stderr",
     "output_type": "stream",
     "text": [
      "/usr/local/lib/python3.7/dist-packages/sklearn/linear_model/_sag.py:354: ConvergenceWarning: The max_iter was reached which means the coef_ did not converge\n",
      "  ConvergenceWarning,\n"
     ]
    },
    {
     "name": "stdout",
     "output_type": "stream",
     "text": [
      "[CV] END .........................................penalty=l2; total time=  11.4s\n"
     ]
    },
    {
     "name": "stderr",
     "output_type": "stream",
     "text": [
      "/usr/local/lib/python3.7/dist-packages/sklearn/linear_model/_sag.py:354: ConvergenceWarning: The max_iter was reached which means the coef_ did not converge\n",
      "  ConvergenceWarning,\n"
     ]
    },
    {
     "name": "stdout",
     "output_type": "stream",
     "text": [
      "[CV] END .................................penalty=elasticnet; total time=  17.7s\n"
     ]
    },
    {
     "name": "stderr",
     "output_type": "stream",
     "text": [
      "/usr/local/lib/python3.7/dist-packages/sklearn/linear_model/_sag.py:354: ConvergenceWarning: The max_iter was reached which means the coef_ did not converge\n",
      "  ConvergenceWarning,\n"
     ]
    },
    {
     "name": "stdout",
     "output_type": "stream",
     "text": [
      "[CV] END .................................penalty=elasticnet; total time=  17.4s\n"
     ]
    },
    {
     "name": "stderr",
     "output_type": "stream",
     "text": [
      "/usr/local/lib/python3.7/dist-packages/sklearn/linear_model/_sag.py:354: ConvergenceWarning: The max_iter was reached which means the coef_ did not converge\n",
      "  ConvergenceWarning,\n"
     ]
    },
    {
     "name": "stdout",
     "output_type": "stream",
     "text": [
      "[CV] END .................................penalty=elasticnet; total time=  17.7s\n"
     ]
    },
    {
     "name": "stderr",
     "output_type": "stream",
     "text": [
      "/usr/local/lib/python3.7/dist-packages/sklearn/linear_model/_sag.py:354: ConvergenceWarning: The max_iter was reached which means the coef_ did not converge\n",
      "  ConvergenceWarning,\n"
     ]
    },
    {
     "name": "stdout",
     "output_type": "stream",
     "text": [
      "[CV] END .................................penalty=elasticnet; total time=  17.8s\n"
     ]
    },
    {
     "name": "stderr",
     "output_type": "stream",
     "text": [
      "/usr/local/lib/python3.7/dist-packages/sklearn/linear_model/_sag.py:354: ConvergenceWarning: The max_iter was reached which means the coef_ did not converge\n",
      "  ConvergenceWarning,\n",
      "/usr/local/lib/python3.7/dist-packages/sklearn/linear_model/_logistic.py:1479: UserWarning: l1_ratio parameter is only used when penalty is 'elasticnet'. Got (penalty=none)\n",
      "  \"(penalty={})\".format(self.penalty)\n"
     ]
    },
    {
     "name": "stdout",
     "output_type": "stream",
     "text": [
      "[CV] END .................................penalty=elasticnet; total time=  17.6s\n"
     ]
    },
    {
     "name": "stderr",
     "output_type": "stream",
     "text": [
      "/usr/local/lib/python3.7/dist-packages/sklearn/linear_model/_sag.py:354: ConvergenceWarning: The max_iter was reached which means the coef_ did not converge\n",
      "  ConvergenceWarning,\n"
     ]
    },
    {
     "name": "stdout",
     "output_type": "stream",
     "text": [
      "Fitting 5 folds for each of 4 candidates, totalling 20 fits\n"
     ]
    },
    {
     "name": "stderr",
     "output_type": "stream",
     "text": [
      "/usr/local/lib/python3.7/dist-packages/sklearn/linear_model/_logistic.py:1479: UserWarning: l1_ratio parameter is only used when penalty is 'elasticnet'. Got (penalty=none)\n",
      "  \"(penalty={})\".format(self.penalty)\n",
      "/usr/local/lib/python3.7/dist-packages/sklearn/linear_model/_sag.py:354: ConvergenceWarning: The max_iter was reached which means the coef_ did not converge\n",
      "  ConvergenceWarning,\n",
      "/usr/local/lib/python3.7/dist-packages/sklearn/linear_model/_logistic.py:1479: UserWarning: l1_ratio parameter is only used when penalty is 'elasticnet'. Got (penalty=none)\n",
      "  \"(penalty={})\".format(self.penalty)\n"
     ]
    },
    {
     "name": "stdout",
     "output_type": "stream",
     "text": [
      "[CV] END .......................................penalty=none; total time=  21.2s\n"
     ]
    },
    {
     "name": "stderr",
     "output_type": "stream",
     "text": [
      "/usr/local/lib/python3.7/dist-packages/sklearn/linear_model/_sag.py:354: ConvergenceWarning: The max_iter was reached which means the coef_ did not converge\n",
      "  ConvergenceWarning,\n",
      "/usr/local/lib/python3.7/dist-packages/sklearn/linear_model/_logistic.py:1479: UserWarning: l1_ratio parameter is only used when penalty is 'elasticnet'. Got (penalty=none)\n",
      "  \"(penalty={})\".format(self.penalty)\n"
     ]
    },
    {
     "name": "stdout",
     "output_type": "stream",
     "text": [
      "[CV] END .......................................penalty=none; total time=  21.1s\n"
     ]
    },
    {
     "name": "stderr",
     "output_type": "stream",
     "text": [
      "/usr/local/lib/python3.7/dist-packages/sklearn/linear_model/_sag.py:354: ConvergenceWarning: The max_iter was reached which means the coef_ did not converge\n",
      "  ConvergenceWarning,\n",
      "/usr/local/lib/python3.7/dist-packages/sklearn/linear_model/_logistic.py:1479: UserWarning: l1_ratio parameter is only used when penalty is 'elasticnet'. Got (penalty=none)\n",
      "  \"(penalty={})\".format(self.penalty)\n"
     ]
    },
    {
     "name": "stdout",
     "output_type": "stream",
     "text": [
      "[CV] END .......................................penalty=none; total time=  21.1s\n"
     ]
    },
    {
     "name": "stderr",
     "output_type": "stream",
     "text": [
      "/usr/local/lib/python3.7/dist-packages/sklearn/linear_model/_sag.py:354: ConvergenceWarning: The max_iter was reached which means the coef_ did not converge\n",
      "  ConvergenceWarning,\n",
      "/usr/local/lib/python3.7/dist-packages/sklearn/linear_model/_logistic.py:1479: UserWarning: l1_ratio parameter is only used when penalty is 'elasticnet'. Got (penalty=none)\n",
      "  \"(penalty={})\".format(self.penalty)\n"
     ]
    },
    {
     "name": "stdout",
     "output_type": "stream",
     "text": [
      "[CV] END .......................................penalty=none; total time=  21.2s\n"
     ]
    },
    {
     "name": "stderr",
     "output_type": "stream",
     "text": [
      "/usr/local/lib/python3.7/dist-packages/sklearn/linear_model/_sag.py:354: ConvergenceWarning: The max_iter was reached which means the coef_ did not converge\n",
      "  ConvergenceWarning,\n",
      "/usr/local/lib/python3.7/dist-packages/sklearn/linear_model/_logistic.py:1479: UserWarning: l1_ratio parameter is only used when penalty is 'elasticnet'. Got (penalty=l1)\n",
      "  \"(penalty={})\".format(self.penalty)\n"
     ]
    },
    {
     "name": "stdout",
     "output_type": "stream",
     "text": [
      "[CV] END .......................................penalty=none; total time=  21.1s\n"
     ]
    },
    {
     "name": "stderr",
     "output_type": "stream",
     "text": [
      "/usr/local/lib/python3.7/dist-packages/sklearn/linear_model/_sag.py:354: ConvergenceWarning: The max_iter was reached which means the coef_ did not converge\n",
      "  ConvergenceWarning,\n",
      "/usr/local/lib/python3.7/dist-packages/sklearn/linear_model/_logistic.py:1479: UserWarning: l1_ratio parameter is only used when penalty is 'elasticnet'. Got (penalty=l1)\n",
      "  \"(penalty={})\".format(self.penalty)\n"
     ]
    },
    {
     "name": "stdout",
     "output_type": "stream",
     "text": [
      "[CV] END .........................................penalty=l1; total time=  32.9s\n"
     ]
    },
    {
     "name": "stderr",
     "output_type": "stream",
     "text": [
      "/usr/local/lib/python3.7/dist-packages/sklearn/linear_model/_sag.py:354: ConvergenceWarning: The max_iter was reached which means the coef_ did not converge\n",
      "  ConvergenceWarning,\n",
      "/usr/local/lib/python3.7/dist-packages/sklearn/linear_model/_logistic.py:1479: UserWarning: l1_ratio parameter is only used when penalty is 'elasticnet'. Got (penalty=l1)\n",
      "  \"(penalty={})\".format(self.penalty)\n"
     ]
    },
    {
     "name": "stdout",
     "output_type": "stream",
     "text": [
      "[CV] END .........................................penalty=l1; total time=  32.3s\n"
     ]
    },
    {
     "name": "stderr",
     "output_type": "stream",
     "text": [
      "/usr/local/lib/python3.7/dist-packages/sklearn/linear_model/_sag.py:354: ConvergenceWarning: The max_iter was reached which means the coef_ did not converge\n",
      "  ConvergenceWarning,\n",
      "/usr/local/lib/python3.7/dist-packages/sklearn/linear_model/_logistic.py:1479: UserWarning: l1_ratio parameter is only used when penalty is 'elasticnet'. Got (penalty=l1)\n",
      "  \"(penalty={})\".format(self.penalty)\n"
     ]
    },
    {
     "name": "stdout",
     "output_type": "stream",
     "text": [
      "[CV] END .........................................penalty=l1; total time=  32.4s\n"
     ]
    },
    {
     "name": "stderr",
     "output_type": "stream",
     "text": [
      "/usr/local/lib/python3.7/dist-packages/sklearn/linear_model/_sag.py:354: ConvergenceWarning: The max_iter was reached which means the coef_ did not converge\n",
      "  ConvergenceWarning,\n",
      "/usr/local/lib/python3.7/dist-packages/sklearn/linear_model/_logistic.py:1479: UserWarning: l1_ratio parameter is only used when penalty is 'elasticnet'. Got (penalty=l1)\n",
      "  \"(penalty={})\".format(self.penalty)\n"
     ]
    },
    {
     "name": "stdout",
     "output_type": "stream",
     "text": [
      "[CV] END .........................................penalty=l1; total time=  32.0s\n"
     ]
    },
    {
     "name": "stderr",
     "output_type": "stream",
     "text": [
      "/usr/local/lib/python3.7/dist-packages/sklearn/linear_model/_sag.py:354: ConvergenceWarning: The max_iter was reached which means the coef_ did not converge\n",
      "  ConvergenceWarning,\n",
      "/usr/local/lib/python3.7/dist-packages/sklearn/linear_model/_logistic.py:1479: UserWarning: l1_ratio parameter is only used when penalty is 'elasticnet'. Got (penalty=l2)\n",
      "  \"(penalty={})\".format(self.penalty)\n"
     ]
    },
    {
     "name": "stdout",
     "output_type": "stream",
     "text": [
      "[CV] END .........................................penalty=l1; total time=  42.6s\n"
     ]
    },
    {
     "name": "stderr",
     "output_type": "stream",
     "text": [
      "/usr/local/lib/python3.7/dist-packages/sklearn/linear_model/_sag.py:354: ConvergenceWarning: The max_iter was reached which means the coef_ did not converge\n",
      "  ConvergenceWarning,\n",
      "/usr/local/lib/python3.7/dist-packages/sklearn/linear_model/_logistic.py:1479: UserWarning: l1_ratio parameter is only used when penalty is 'elasticnet'. Got (penalty=l2)\n",
      "  \"(penalty={})\".format(self.penalty)\n"
     ]
    },
    {
     "name": "stdout",
     "output_type": "stream",
     "text": [
      "[CV] END .........................................penalty=l2; total time=  31.0s\n"
     ]
    },
    {
     "name": "stderr",
     "output_type": "stream",
     "text": [
      "/usr/local/lib/python3.7/dist-packages/sklearn/linear_model/_sag.py:354: ConvergenceWarning: The max_iter was reached which means the coef_ did not converge\n",
      "  ConvergenceWarning,\n",
      "/usr/local/lib/python3.7/dist-packages/sklearn/linear_model/_logistic.py:1479: UserWarning: l1_ratio parameter is only used when penalty is 'elasticnet'. Got (penalty=l2)\n",
      "  \"(penalty={})\".format(self.penalty)\n"
     ]
    },
    {
     "name": "stdout",
     "output_type": "stream",
     "text": [
      "[CV] END .........................................penalty=l2; total time=  21.2s\n"
     ]
    },
    {
     "name": "stderr",
     "output_type": "stream",
     "text": [
      "/usr/local/lib/python3.7/dist-packages/sklearn/linear_model/_sag.py:354: ConvergenceWarning: The max_iter was reached which means the coef_ did not converge\n",
      "  ConvergenceWarning,\n",
      "/usr/local/lib/python3.7/dist-packages/sklearn/linear_model/_logistic.py:1479: UserWarning: l1_ratio parameter is only used when penalty is 'elasticnet'. Got (penalty=l2)\n",
      "  \"(penalty={})\".format(self.penalty)\n"
     ]
    },
    {
     "name": "stdout",
     "output_type": "stream",
     "text": [
      "[CV] END .........................................penalty=l2; total time=  21.1s\n"
     ]
    },
    {
     "name": "stderr",
     "output_type": "stream",
     "text": [
      "/usr/local/lib/python3.7/dist-packages/sklearn/linear_model/_sag.py:354: ConvergenceWarning: The max_iter was reached which means the coef_ did not converge\n",
      "  ConvergenceWarning,\n",
      "/usr/local/lib/python3.7/dist-packages/sklearn/linear_model/_logistic.py:1479: UserWarning: l1_ratio parameter is only used when penalty is 'elasticnet'. Got (penalty=l2)\n",
      "  \"(penalty={})\".format(self.penalty)\n"
     ]
    },
    {
     "name": "stdout",
     "output_type": "stream",
     "text": [
      "[CV] END .........................................penalty=l2; total time=  21.1s\n"
     ]
    },
    {
     "name": "stderr",
     "output_type": "stream",
     "text": [
      "/usr/local/lib/python3.7/dist-packages/sklearn/linear_model/_sag.py:354: ConvergenceWarning: The max_iter was reached which means the coef_ did not converge\n",
      "  ConvergenceWarning,\n"
     ]
    },
    {
     "name": "stdout",
     "output_type": "stream",
     "text": [
      "[CV] END .........................................penalty=l2; total time=  21.1s\n"
     ]
    },
    {
     "name": "stderr",
     "output_type": "stream",
     "text": [
      "/usr/local/lib/python3.7/dist-packages/sklearn/linear_model/_sag.py:354: ConvergenceWarning: The max_iter was reached which means the coef_ did not converge\n",
      "  ConvergenceWarning,\n"
     ]
    },
    {
     "name": "stdout",
     "output_type": "stream",
     "text": [
      "[CV] END .................................penalty=elasticnet; total time=  32.4s\n"
     ]
    },
    {
     "name": "stderr",
     "output_type": "stream",
     "text": [
      "/usr/local/lib/python3.7/dist-packages/sklearn/linear_model/_sag.py:354: ConvergenceWarning: The max_iter was reached which means the coef_ did not converge\n",
      "  ConvergenceWarning,\n"
     ]
    },
    {
     "name": "stdout",
     "output_type": "stream",
     "text": [
      "[CV] END .................................penalty=elasticnet; total time=  32.7s\n"
     ]
    },
    {
     "name": "stderr",
     "output_type": "stream",
     "text": [
      "/usr/local/lib/python3.7/dist-packages/sklearn/linear_model/_sag.py:354: ConvergenceWarning: The max_iter was reached which means the coef_ did not converge\n",
      "  ConvergenceWarning,\n"
     ]
    },
    {
     "name": "stdout",
     "output_type": "stream",
     "text": [
      "[CV] END .................................penalty=elasticnet; total time=  32.8s\n"
     ]
    },
    {
     "name": "stderr",
     "output_type": "stream",
     "text": [
      "/usr/local/lib/python3.7/dist-packages/sklearn/linear_model/_sag.py:354: ConvergenceWarning: The max_iter was reached which means the coef_ did not converge\n",
      "  ConvergenceWarning,\n"
     ]
    },
    {
     "name": "stdout",
     "output_type": "stream",
     "text": [
      "[CV] END .................................penalty=elasticnet; total time=  32.9s\n"
     ]
    },
    {
     "name": "stderr",
     "output_type": "stream",
     "text": [
      "/usr/local/lib/python3.7/dist-packages/sklearn/linear_model/_sag.py:354: ConvergenceWarning: The max_iter was reached which means the coef_ did not converge\n",
      "  ConvergenceWarning,\n",
      "/usr/local/lib/python3.7/dist-packages/sklearn/linear_model/_logistic.py:1479: UserWarning: l1_ratio parameter is only used when penalty is 'elasticnet'. Got (penalty=l1)\n",
      "  \"(penalty={})\".format(self.penalty)\n"
     ]
    },
    {
     "name": "stdout",
     "output_type": "stream",
     "text": [
      "[CV] END .................................penalty=elasticnet; total time=  32.5s\n"
     ]
    },
    {
     "name": "stderr",
     "output_type": "stream",
     "text": [
      "/usr/local/lib/python3.7/dist-packages/sklearn/linear_model/_sag.py:354: ConvergenceWarning: The max_iter was reached which means the coef_ did not converge\n",
      "  ConvergenceWarning,\n",
      "/usr/local/lib/python3.7/dist-packages/sklearn/linear_model/_logistic.py:1479: UserWarning: l1_ratio parameter is only used when penalty is 'elasticnet'. Got (penalty=none)\n",
      "  \"(penalty={})\".format(self.penalty)\n"
     ]
    },
    {
     "name": "stdout",
     "output_type": "stream",
     "text": [
      "Fitting 5 folds for each of 4 candidates, totalling 20 fits\n"
     ]
    },
    {
     "name": "stderr",
     "output_type": "stream",
     "text": [
      "/usr/local/lib/python3.7/dist-packages/sklearn/linear_model/_sag.py:354: ConvergenceWarning: The max_iter was reached which means the coef_ did not converge\n",
      "  ConvergenceWarning,\n",
      "/usr/local/lib/python3.7/dist-packages/sklearn/linear_model/_logistic.py:1479: UserWarning: l1_ratio parameter is only used when penalty is 'elasticnet'. Got (penalty=none)\n",
      "  \"(penalty={})\".format(self.penalty)\n"
     ]
    },
    {
     "name": "stdout",
     "output_type": "stream",
     "text": [
      "[CV] END .......................................penalty=none; total time=   4.4s\n"
     ]
    },
    {
     "name": "stderr",
     "output_type": "stream",
     "text": [
      "/usr/local/lib/python3.7/dist-packages/sklearn/linear_model/_sag.py:354: ConvergenceWarning: The max_iter was reached which means the coef_ did not converge\n",
      "  ConvergenceWarning,\n",
      "/usr/local/lib/python3.7/dist-packages/sklearn/linear_model/_logistic.py:1479: UserWarning: l1_ratio parameter is only used when penalty is 'elasticnet'. Got (penalty=none)\n",
      "  \"(penalty={})\".format(self.penalty)\n"
     ]
    },
    {
     "name": "stdout",
     "output_type": "stream",
     "text": [
      "[CV] END .......................................penalty=none; total time=   4.4s\n"
     ]
    },
    {
     "name": "stderr",
     "output_type": "stream",
     "text": [
      "/usr/local/lib/python3.7/dist-packages/sklearn/linear_model/_sag.py:354: ConvergenceWarning: The max_iter was reached which means the coef_ did not converge\n",
      "  ConvergenceWarning,\n",
      "/usr/local/lib/python3.7/dist-packages/sklearn/linear_model/_logistic.py:1479: UserWarning: l1_ratio parameter is only used when penalty is 'elasticnet'. Got (penalty=none)\n",
      "  \"(penalty={})\".format(self.penalty)\n"
     ]
    },
    {
     "name": "stdout",
     "output_type": "stream",
     "text": [
      "[CV] END .......................................penalty=none; total time=   4.4s\n"
     ]
    },
    {
     "name": "stderr",
     "output_type": "stream",
     "text": [
      "/usr/local/lib/python3.7/dist-packages/sklearn/linear_model/_sag.py:354: ConvergenceWarning: The max_iter was reached which means the coef_ did not converge\n",
      "  ConvergenceWarning,\n",
      "/usr/local/lib/python3.7/dist-packages/sklearn/linear_model/_logistic.py:1479: UserWarning: l1_ratio parameter is only used when penalty is 'elasticnet'. Got (penalty=none)\n",
      "  \"(penalty={})\".format(self.penalty)\n"
     ]
    },
    {
     "name": "stdout",
     "output_type": "stream",
     "text": [
      "[CV] END .......................................penalty=none; total time=   4.4s\n"
     ]
    },
    {
     "name": "stderr",
     "output_type": "stream",
     "text": [
      "/usr/local/lib/python3.7/dist-packages/sklearn/linear_model/_sag.py:354: ConvergenceWarning: The max_iter was reached which means the coef_ did not converge\n",
      "  ConvergenceWarning,\n",
      "/usr/local/lib/python3.7/dist-packages/sklearn/linear_model/_logistic.py:1479: UserWarning: l1_ratio parameter is only used when penalty is 'elasticnet'. Got (penalty=l1)\n",
      "  \"(penalty={})\".format(self.penalty)\n"
     ]
    },
    {
     "name": "stdout",
     "output_type": "stream",
     "text": [
      "[CV] END .......................................penalty=none; total time=   4.4s\n"
     ]
    },
    {
     "name": "stderr",
     "output_type": "stream",
     "text": [
      "/usr/local/lib/python3.7/dist-packages/sklearn/linear_model/_sag.py:354: ConvergenceWarning: The max_iter was reached which means the coef_ did not converge\n",
      "  ConvergenceWarning,\n",
      "/usr/local/lib/python3.7/dist-packages/sklearn/linear_model/_logistic.py:1479: UserWarning: l1_ratio parameter is only used when penalty is 'elasticnet'. Got (penalty=l1)\n",
      "  \"(penalty={})\".format(self.penalty)\n"
     ]
    },
    {
     "name": "stdout",
     "output_type": "stream",
     "text": [
      "[CV] END .........................................penalty=l1; total time=   6.1s\n"
     ]
    },
    {
     "name": "stderr",
     "output_type": "stream",
     "text": [
      "/usr/local/lib/python3.7/dist-packages/sklearn/linear_model/_sag.py:354: ConvergenceWarning: The max_iter was reached which means the coef_ did not converge\n",
      "  ConvergenceWarning,\n",
      "/usr/local/lib/python3.7/dist-packages/sklearn/linear_model/_logistic.py:1479: UserWarning: l1_ratio parameter is only used when penalty is 'elasticnet'. Got (penalty=l1)\n",
      "  \"(penalty={})\".format(self.penalty)\n"
     ]
    },
    {
     "name": "stdout",
     "output_type": "stream",
     "text": [
      "[CV] END .........................................penalty=l1; total time=   6.2s\n"
     ]
    },
    {
     "name": "stderr",
     "output_type": "stream",
     "text": [
      "/usr/local/lib/python3.7/dist-packages/sklearn/linear_model/_sag.py:354: ConvergenceWarning: The max_iter was reached which means the coef_ did not converge\n",
      "  ConvergenceWarning,\n",
      "/usr/local/lib/python3.7/dist-packages/sklearn/linear_model/_logistic.py:1479: UserWarning: l1_ratio parameter is only used when penalty is 'elasticnet'. Got (penalty=l1)\n",
      "  \"(penalty={})\".format(self.penalty)\n"
     ]
    },
    {
     "name": "stdout",
     "output_type": "stream",
     "text": [
      "[CV] END .........................................penalty=l1; total time=   6.2s\n"
     ]
    },
    {
     "name": "stderr",
     "output_type": "stream",
     "text": [
      "/usr/local/lib/python3.7/dist-packages/sklearn/linear_model/_sag.py:354: ConvergenceWarning: The max_iter was reached which means the coef_ did not converge\n",
      "  ConvergenceWarning,\n",
      "/usr/local/lib/python3.7/dist-packages/sklearn/linear_model/_logistic.py:1479: UserWarning: l1_ratio parameter is only used when penalty is 'elasticnet'. Got (penalty=l1)\n",
      "  \"(penalty={})\".format(self.penalty)\n"
     ]
    },
    {
     "name": "stdout",
     "output_type": "stream",
     "text": [
      "[CV] END .........................................penalty=l1; total time=   6.1s\n"
     ]
    },
    {
     "name": "stderr",
     "output_type": "stream",
     "text": [
      "/usr/local/lib/python3.7/dist-packages/sklearn/linear_model/_sag.py:354: ConvergenceWarning: The max_iter was reached which means the coef_ did not converge\n",
      "  ConvergenceWarning,\n",
      "/usr/local/lib/python3.7/dist-packages/sklearn/linear_model/_logistic.py:1479: UserWarning: l1_ratio parameter is only used when penalty is 'elasticnet'. Got (penalty=l2)\n",
      "  \"(penalty={})\".format(self.penalty)\n"
     ]
    },
    {
     "name": "stdout",
     "output_type": "stream",
     "text": [
      "[CV] END .........................................penalty=l1; total time=   6.1s\n"
     ]
    },
    {
     "name": "stderr",
     "output_type": "stream",
     "text": [
      "/usr/local/lib/python3.7/dist-packages/sklearn/linear_model/_sag.py:354: ConvergenceWarning: The max_iter was reached which means the coef_ did not converge\n",
      "  ConvergenceWarning,\n",
      "/usr/local/lib/python3.7/dist-packages/sklearn/linear_model/_logistic.py:1479: UserWarning: l1_ratio parameter is only used when penalty is 'elasticnet'. Got (penalty=l2)\n",
      "  \"(penalty={})\".format(self.penalty)\n"
     ]
    },
    {
     "name": "stdout",
     "output_type": "stream",
     "text": [
      "[CV] END .........................................penalty=l2; total time=   4.4s\n"
     ]
    },
    {
     "name": "stderr",
     "output_type": "stream",
     "text": [
      "/usr/local/lib/python3.7/dist-packages/sklearn/linear_model/_sag.py:354: ConvergenceWarning: The max_iter was reached which means the coef_ did not converge\n",
      "  ConvergenceWarning,\n",
      "/usr/local/lib/python3.7/dist-packages/sklearn/linear_model/_logistic.py:1479: UserWarning: l1_ratio parameter is only used when penalty is 'elasticnet'. Got (penalty=l2)\n",
      "  \"(penalty={})\".format(self.penalty)\n"
     ]
    },
    {
     "name": "stdout",
     "output_type": "stream",
     "text": [
      "[CV] END .........................................penalty=l2; total time=   4.4s\n"
     ]
    },
    {
     "name": "stderr",
     "output_type": "stream",
     "text": [
      "/usr/local/lib/python3.7/dist-packages/sklearn/linear_model/_sag.py:354: ConvergenceWarning: The max_iter was reached which means the coef_ did not converge\n",
      "  ConvergenceWarning,\n",
      "/usr/local/lib/python3.7/dist-packages/sklearn/linear_model/_logistic.py:1479: UserWarning: l1_ratio parameter is only used when penalty is 'elasticnet'. Got (penalty=l2)\n",
      "  \"(penalty={})\".format(self.penalty)\n"
     ]
    },
    {
     "name": "stdout",
     "output_type": "stream",
     "text": [
      "[CV] END .........................................penalty=l2; total time=   4.4s\n"
     ]
    },
    {
     "name": "stderr",
     "output_type": "stream",
     "text": [
      "/usr/local/lib/python3.7/dist-packages/sklearn/linear_model/_sag.py:354: ConvergenceWarning: The max_iter was reached which means the coef_ did not converge\n",
      "  ConvergenceWarning,\n",
      "/usr/local/lib/python3.7/dist-packages/sklearn/linear_model/_logistic.py:1479: UserWarning: l1_ratio parameter is only used when penalty is 'elasticnet'. Got (penalty=l2)\n",
      "  \"(penalty={})\".format(self.penalty)\n"
     ]
    },
    {
     "name": "stdout",
     "output_type": "stream",
     "text": [
      "[CV] END .........................................penalty=l2; total time=   4.4s\n"
     ]
    },
    {
     "name": "stderr",
     "output_type": "stream",
     "text": [
      "/usr/local/lib/python3.7/dist-packages/sklearn/linear_model/_sag.py:354: ConvergenceWarning: The max_iter was reached which means the coef_ did not converge\n",
      "  ConvergenceWarning,\n"
     ]
    },
    {
     "name": "stdout",
     "output_type": "stream",
     "text": [
      "[CV] END .........................................penalty=l2; total time=   4.4s\n"
     ]
    },
    {
     "name": "stderr",
     "output_type": "stream",
     "text": [
      "/usr/local/lib/python3.7/dist-packages/sklearn/linear_model/_sag.py:354: ConvergenceWarning: The max_iter was reached which means the coef_ did not converge\n",
      "  ConvergenceWarning,\n"
     ]
    },
    {
     "name": "stdout",
     "output_type": "stream",
     "text": [
      "[CV] END .................................penalty=elasticnet; total time=   6.2s\n"
     ]
    },
    {
     "name": "stderr",
     "output_type": "stream",
     "text": [
      "/usr/local/lib/python3.7/dist-packages/sklearn/linear_model/_sag.py:354: ConvergenceWarning: The max_iter was reached which means the coef_ did not converge\n",
      "  ConvergenceWarning,\n"
     ]
    },
    {
     "name": "stdout",
     "output_type": "stream",
     "text": [
      "[CV] END .................................penalty=elasticnet; total time=   6.2s\n"
     ]
    },
    {
     "name": "stderr",
     "output_type": "stream",
     "text": [
      "/usr/local/lib/python3.7/dist-packages/sklearn/linear_model/_sag.py:354: ConvergenceWarning: The max_iter was reached which means the coef_ did not converge\n",
      "  ConvergenceWarning,\n"
     ]
    },
    {
     "name": "stdout",
     "output_type": "stream",
     "text": [
      "[CV] END .................................penalty=elasticnet; total time=   6.2s\n"
     ]
    },
    {
     "name": "stderr",
     "output_type": "stream",
     "text": [
      "/usr/local/lib/python3.7/dist-packages/sklearn/linear_model/_sag.py:354: ConvergenceWarning: The max_iter was reached which means the coef_ did not converge\n",
      "  ConvergenceWarning,\n"
     ]
    },
    {
     "name": "stdout",
     "output_type": "stream",
     "text": [
      "[CV] END .................................penalty=elasticnet; total time=   6.2s\n"
     ]
    },
    {
     "name": "stderr",
     "output_type": "stream",
     "text": [
      "/usr/local/lib/python3.7/dist-packages/sklearn/linear_model/_sag.py:354: ConvergenceWarning: The max_iter was reached which means the coef_ did not converge\n",
      "  ConvergenceWarning,\n",
      "/usr/local/lib/python3.7/dist-packages/sklearn/linear_model/_logistic.py:1479: UserWarning: l1_ratio parameter is only used when penalty is 'elasticnet'. Got (penalty=none)\n",
      "  \"(penalty={})\".format(self.penalty)\n"
     ]
    },
    {
     "name": "stdout",
     "output_type": "stream",
     "text": [
      "[CV] END .................................penalty=elasticnet; total time=   6.2s\n"
     ]
    },
    {
     "name": "stderr",
     "output_type": "stream",
     "text": [
      "/usr/local/lib/python3.7/dist-packages/sklearn/linear_model/_sag.py:354: ConvergenceWarning: The max_iter was reached which means the coef_ did not converge\n",
      "  ConvergenceWarning,\n",
      "/usr/local/lib/python3.7/dist-packages/sklearn/linear_model/_logistic.py:1479: UserWarning: l1_ratio parameter is only used when penalty is 'elasticnet'. Got (penalty=none)\n",
      "  \"(penalty={})\".format(self.penalty)\n"
     ]
    },
    {
     "name": "stdout",
     "output_type": "stream",
     "text": [
      "Fitting 5 folds for each of 4 candidates, totalling 20 fits\n"
     ]
    },
    {
     "name": "stderr",
     "output_type": "stream",
     "text": [
      "/usr/local/lib/python3.7/dist-packages/sklearn/linear_model/_sag.py:354: ConvergenceWarning: The max_iter was reached which means the coef_ did not converge\n",
      "  ConvergenceWarning,\n",
      "/usr/local/lib/python3.7/dist-packages/sklearn/linear_model/_logistic.py:1479: UserWarning: l1_ratio parameter is only used when penalty is 'elasticnet'. Got (penalty=none)\n",
      "  \"(penalty={})\".format(self.penalty)\n"
     ]
    },
    {
     "name": "stdout",
     "output_type": "stream",
     "text": [
      "[CV] END .......................................penalty=none; total time=   8.1s\n"
     ]
    },
    {
     "name": "stderr",
     "output_type": "stream",
     "text": [
      "/usr/local/lib/python3.7/dist-packages/sklearn/linear_model/_sag.py:354: ConvergenceWarning: The max_iter was reached which means the coef_ did not converge\n",
      "  ConvergenceWarning,\n",
      "/usr/local/lib/python3.7/dist-packages/sklearn/linear_model/_logistic.py:1479: UserWarning: l1_ratio parameter is only used when penalty is 'elasticnet'. Got (penalty=none)\n",
      "  \"(penalty={})\".format(self.penalty)\n"
     ]
    },
    {
     "name": "stdout",
     "output_type": "stream",
     "text": [
      "[CV] END .......................................penalty=none; total time=   8.2s\n"
     ]
    },
    {
     "name": "stderr",
     "output_type": "stream",
     "text": [
      "/usr/local/lib/python3.7/dist-packages/sklearn/linear_model/_sag.py:354: ConvergenceWarning: The max_iter was reached which means the coef_ did not converge\n",
      "  ConvergenceWarning,\n",
      "/usr/local/lib/python3.7/dist-packages/sklearn/linear_model/_logistic.py:1479: UserWarning: l1_ratio parameter is only used when penalty is 'elasticnet'. Got (penalty=none)\n",
      "  \"(penalty={})\".format(self.penalty)\n"
     ]
    },
    {
     "name": "stdout",
     "output_type": "stream",
     "text": [
      "[CV] END .......................................penalty=none; total time=   8.2s\n"
     ]
    },
    {
     "name": "stderr",
     "output_type": "stream",
     "text": [
      "/usr/local/lib/python3.7/dist-packages/sklearn/linear_model/_sag.py:354: ConvergenceWarning: The max_iter was reached which means the coef_ did not converge\n",
      "  ConvergenceWarning,\n",
      "/usr/local/lib/python3.7/dist-packages/sklearn/linear_model/_logistic.py:1479: UserWarning: l1_ratio parameter is only used when penalty is 'elasticnet'. Got (penalty=none)\n",
      "  \"(penalty={})\".format(self.penalty)\n"
     ]
    },
    {
     "name": "stdout",
     "output_type": "stream",
     "text": [
      "[CV] END .......................................penalty=none; total time=   8.2s\n"
     ]
    },
    {
     "name": "stderr",
     "output_type": "stream",
     "text": [
      "/usr/local/lib/python3.7/dist-packages/sklearn/linear_model/_sag.py:354: ConvergenceWarning: The max_iter was reached which means the coef_ did not converge\n",
      "  ConvergenceWarning,\n",
      "/usr/local/lib/python3.7/dist-packages/sklearn/linear_model/_logistic.py:1479: UserWarning: l1_ratio parameter is only used when penalty is 'elasticnet'. Got (penalty=l1)\n",
      "  \"(penalty={})\".format(self.penalty)\n"
     ]
    },
    {
     "name": "stdout",
     "output_type": "stream",
     "text": [
      "[CV] END .......................................penalty=none; total time=   8.2s\n"
     ]
    },
    {
     "name": "stderr",
     "output_type": "stream",
     "text": [
      "/usr/local/lib/python3.7/dist-packages/sklearn/linear_model/_sag.py:354: ConvergenceWarning: The max_iter was reached which means the coef_ did not converge\n",
      "  ConvergenceWarning,\n",
      "/usr/local/lib/python3.7/dist-packages/sklearn/linear_model/_logistic.py:1479: UserWarning: l1_ratio parameter is only used when penalty is 'elasticnet'. Got (penalty=l1)\n",
      "  \"(penalty={})\".format(self.penalty)\n"
     ]
    },
    {
     "name": "stdout",
     "output_type": "stream",
     "text": [
      "[CV] END .........................................penalty=l1; total time=  11.3s\n"
     ]
    },
    {
     "name": "stderr",
     "output_type": "stream",
     "text": [
      "/usr/local/lib/python3.7/dist-packages/sklearn/linear_model/_sag.py:354: ConvergenceWarning: The max_iter was reached which means the coef_ did not converge\n",
      "  ConvergenceWarning,\n",
      "/usr/local/lib/python3.7/dist-packages/sklearn/linear_model/_logistic.py:1479: UserWarning: l1_ratio parameter is only used when penalty is 'elasticnet'. Got (penalty=l1)\n",
      "  \"(penalty={})\".format(self.penalty)\n"
     ]
    },
    {
     "name": "stdout",
     "output_type": "stream",
     "text": [
      "[CV] END .........................................penalty=l1; total time=  11.3s\n"
     ]
    },
    {
     "name": "stderr",
     "output_type": "stream",
     "text": [
      "/usr/local/lib/python3.7/dist-packages/sklearn/linear_model/_sag.py:354: ConvergenceWarning: The max_iter was reached which means the coef_ did not converge\n",
      "  ConvergenceWarning,\n",
      "/usr/local/lib/python3.7/dist-packages/sklearn/linear_model/_logistic.py:1479: UserWarning: l1_ratio parameter is only used when penalty is 'elasticnet'. Got (penalty=l1)\n",
      "  \"(penalty={})\".format(self.penalty)\n"
     ]
    },
    {
     "name": "stdout",
     "output_type": "stream",
     "text": [
      "[CV] END .........................................penalty=l1; total time=  11.4s\n"
     ]
    },
    {
     "name": "stderr",
     "output_type": "stream",
     "text": [
      "/usr/local/lib/python3.7/dist-packages/sklearn/linear_model/_sag.py:354: ConvergenceWarning: The max_iter was reached which means the coef_ did not converge\n",
      "  ConvergenceWarning,\n",
      "/usr/local/lib/python3.7/dist-packages/sklearn/linear_model/_logistic.py:1479: UserWarning: l1_ratio parameter is only used when penalty is 'elasticnet'. Got (penalty=l1)\n",
      "  \"(penalty={})\".format(self.penalty)\n"
     ]
    },
    {
     "name": "stdout",
     "output_type": "stream",
     "text": [
      "[CV] END .........................................penalty=l1; total time=  11.1s\n"
     ]
    },
    {
     "name": "stderr",
     "output_type": "stream",
     "text": [
      "/usr/local/lib/python3.7/dist-packages/sklearn/linear_model/_sag.py:354: ConvergenceWarning: The max_iter was reached which means the coef_ did not converge\n",
      "  ConvergenceWarning,\n",
      "/usr/local/lib/python3.7/dist-packages/sklearn/linear_model/_logistic.py:1479: UserWarning: l1_ratio parameter is only used when penalty is 'elasticnet'. Got (penalty=l2)\n",
      "  \"(penalty={})\".format(self.penalty)\n"
     ]
    },
    {
     "name": "stdout",
     "output_type": "stream",
     "text": [
      "[CV] END .........................................penalty=l1; total time=  11.3s\n"
     ]
    },
    {
     "name": "stderr",
     "output_type": "stream",
     "text": [
      "/usr/local/lib/python3.7/dist-packages/sklearn/linear_model/_sag.py:354: ConvergenceWarning: The max_iter was reached which means the coef_ did not converge\n",
      "  ConvergenceWarning,\n",
      "/usr/local/lib/python3.7/dist-packages/sklearn/linear_model/_logistic.py:1479: UserWarning: l1_ratio parameter is only used when penalty is 'elasticnet'. Got (penalty=l2)\n",
      "  \"(penalty={})\".format(self.penalty)\n"
     ]
    },
    {
     "name": "stdout",
     "output_type": "stream",
     "text": [
      "[CV] END .........................................penalty=l2; total time=   8.2s\n"
     ]
    },
    {
     "name": "stderr",
     "output_type": "stream",
     "text": [
      "/usr/local/lib/python3.7/dist-packages/sklearn/linear_model/_sag.py:354: ConvergenceWarning: The max_iter was reached which means the coef_ did not converge\n",
      "  ConvergenceWarning,\n",
      "/usr/local/lib/python3.7/dist-packages/sklearn/linear_model/_logistic.py:1479: UserWarning: l1_ratio parameter is only used when penalty is 'elasticnet'. Got (penalty=l2)\n",
      "  \"(penalty={})\".format(self.penalty)\n"
     ]
    },
    {
     "name": "stdout",
     "output_type": "stream",
     "text": [
      "[CV] END .........................................penalty=l2; total time=   8.2s\n"
     ]
    },
    {
     "name": "stderr",
     "output_type": "stream",
     "text": [
      "/usr/local/lib/python3.7/dist-packages/sklearn/linear_model/_sag.py:354: ConvergenceWarning: The max_iter was reached which means the coef_ did not converge\n",
      "  ConvergenceWarning,\n",
      "/usr/local/lib/python3.7/dist-packages/sklearn/linear_model/_logistic.py:1479: UserWarning: l1_ratio parameter is only used when penalty is 'elasticnet'. Got (penalty=l2)\n",
      "  \"(penalty={})\".format(self.penalty)\n"
     ]
    },
    {
     "name": "stdout",
     "output_type": "stream",
     "text": [
      "[CV] END .........................................penalty=l2; total time=   8.2s\n"
     ]
    },
    {
     "name": "stderr",
     "output_type": "stream",
     "text": [
      "/usr/local/lib/python3.7/dist-packages/sklearn/linear_model/_sag.py:354: ConvergenceWarning: The max_iter was reached which means the coef_ did not converge\n",
      "  ConvergenceWarning,\n",
      "/usr/local/lib/python3.7/dist-packages/sklearn/linear_model/_logistic.py:1479: UserWarning: l1_ratio parameter is only used when penalty is 'elasticnet'. Got (penalty=l2)\n",
      "  \"(penalty={})\".format(self.penalty)\n"
     ]
    },
    {
     "name": "stdout",
     "output_type": "stream",
     "text": [
      "[CV] END .........................................penalty=l2; total time=   8.2s\n"
     ]
    },
    {
     "name": "stderr",
     "output_type": "stream",
     "text": [
      "/usr/local/lib/python3.7/dist-packages/sklearn/linear_model/_sag.py:354: ConvergenceWarning: The max_iter was reached which means the coef_ did not converge\n",
      "  ConvergenceWarning,\n"
     ]
    },
    {
     "name": "stdout",
     "output_type": "stream",
     "text": [
      "[CV] END .........................................penalty=l2; total time=   8.2s\n"
     ]
    },
    {
     "name": "stderr",
     "output_type": "stream",
     "text": [
      "/usr/local/lib/python3.7/dist-packages/sklearn/linear_model/_sag.py:354: ConvergenceWarning: The max_iter was reached which means the coef_ did not converge\n",
      "  ConvergenceWarning,\n"
     ]
    },
    {
     "name": "stdout",
     "output_type": "stream",
     "text": [
      "[CV] END .................................penalty=elasticnet; total time=  11.4s\n"
     ]
    },
    {
     "name": "stderr",
     "output_type": "stream",
     "text": [
      "/usr/local/lib/python3.7/dist-packages/sklearn/linear_model/_sag.py:354: ConvergenceWarning: The max_iter was reached which means the coef_ did not converge\n",
      "  ConvergenceWarning,\n"
     ]
    },
    {
     "name": "stdout",
     "output_type": "stream",
     "text": [
      "[CV] END .................................penalty=elasticnet; total time=  11.5s\n"
     ]
    },
    {
     "name": "stderr",
     "output_type": "stream",
     "text": [
      "/usr/local/lib/python3.7/dist-packages/sklearn/linear_model/_sag.py:354: ConvergenceWarning: The max_iter was reached which means the coef_ did not converge\n",
      "  ConvergenceWarning,\n"
     ]
    },
    {
     "name": "stdout",
     "output_type": "stream",
     "text": [
      "[CV] END .................................penalty=elasticnet; total time=  11.5s\n"
     ]
    },
    {
     "name": "stderr",
     "output_type": "stream",
     "text": [
      "/usr/local/lib/python3.7/dist-packages/sklearn/linear_model/_sag.py:354: ConvergenceWarning: The max_iter was reached which means the coef_ did not converge\n",
      "  ConvergenceWarning,\n"
     ]
    },
    {
     "name": "stdout",
     "output_type": "stream",
     "text": [
      "[CV] END .................................penalty=elasticnet; total time=  11.3s\n"
     ]
    },
    {
     "name": "stderr",
     "output_type": "stream",
     "text": [
      "/usr/local/lib/python3.7/dist-packages/sklearn/linear_model/_sag.py:354: ConvergenceWarning: The max_iter was reached which means the coef_ did not converge\n",
      "  ConvergenceWarning,\n",
      "/usr/local/lib/python3.7/dist-packages/sklearn/linear_model/_logistic.py:1479: UserWarning: l1_ratio parameter is only used when penalty is 'elasticnet'. Got (penalty=none)\n",
      "  \"(penalty={})\".format(self.penalty)\n"
     ]
    },
    {
     "name": "stdout",
     "output_type": "stream",
     "text": [
      "[CV] END .................................penalty=elasticnet; total time=  11.4s\n"
     ]
    },
    {
     "name": "stderr",
     "output_type": "stream",
     "text": [
      "/usr/local/lib/python3.7/dist-packages/sklearn/linear_model/_sag.py:354: ConvergenceWarning: The max_iter was reached which means the coef_ did not converge\n",
      "  ConvergenceWarning,\n"
     ]
    }
   ],
   "source": [
    "models= {}\n",
    "\n",
    "# Logistic regression on base features with no oversampling\n",
    "hyper_parameters = {\"penalty\" : [\"none\", \"l1\", \"l2\", \"elasticnet\"]}\n",
    "\n",
    "lr_base = GridSearchCV(LogisticRegression(solver=\"saga\", l1_ratio=0.5), param_grid=hyper_parameters, verbose=2)\n",
    "lr_base.fit(base_x_train, base_y_train)\n",
    "models[\"lr_base\"] = lr_base\n",
    "\n",
    "# Logistic regression on base features with oversampling\n",
    "rus = RandomOverSampler(random_state=42)\n",
    "base_x_oversample, base_y_oversample = rus.fit_resample(base_x_train, base_y_train)\n",
    "lr_base_oversample = GridSearchCV(LogisticRegression(solver=\"saga\", l1_ratio=0.5), param_grid=hyper_parameters, verbose=2)\n",
    "lr_base_oversample.fit(base_x_oversample, base_y_oversample)\n",
    "models[\"lr_base_oversample\"] = lr_base_oversample\n",
    "\n",
    "# Logistic regression on base pca features with no oversampling\n",
    "lr_base_pca = GridSearchCV(LogisticRegression(solver=\"saga\", l1_ratio=0.5), param_grid=hyper_parameters, verbose=2)\n",
    "lr_base_pca.fit(base_pca_x_train, base_pca_y_train)\n",
    "models[\"lr_base_pca\"] = lr_base_pca\n",
    "\n",
    "# Logistic regression on base pca features with oversampling\n",
    "rus = RandomOverSampler(random_state=42)\n",
    "base_pca_x_oversample, base_pca_y_oversample = rus.fit_resample(base_pca_x_train, base_pca_y_train)\n",
    "lr_base_pca_oversample = GridSearchCV(LogisticRegression(solver=\"saga\", l1_ratio=0.5), param_grid=hyper_parameters, verbose=2)\n",
    "lr_base_pca_oversample.fit(base_pca_x_oversample, base_pca_y_oversample)\n",
    "models[\"lr_base_pca_oversample\"] = lr_base_pca_oversample\n",
    "\n",
    "# Logistic regression on graph features with no oversampling\n",
    "lr_graph = GridSearchCV(LogisticRegression(solver=\"saga\", l1_ratio=0.5), param_grid=hyper_parameters, verbose=2)\n",
    "lr_graph.fit(graph_x_train, graph_y_train)\n",
    "models[\"lr_graph\"] = lr_graph\n",
    "\n",
    "# Logistic regression on graph features with oversampling\n",
    "rus = RandomOverSampler(random_state=42)\n",
    "graph_x_oversample, graph_y_oversample = rus.fit_resample(graph_x_train, graph_y_train)\n",
    "lr_graph_oversample = GridSearchCV(LogisticRegression(solver=\"saga\", l1_ratio=0.5), param_grid=hyper_parameters, verbose=2)\n",
    "lr_graph_oversample.fit(graph_x_oversample, graph_y_oversample)\n",
    "models[\"lr_graph_oversample\"] = lr_graph_oversample\n",
    "\n",
    "# Logistic regression on graph pca features with no oversampling\n",
    "lr_graph_pca = GridSearchCV(LogisticRegression(solver=\"saga\", l1_ratio=0.5), param_grid=hyper_parameters, verbose=2)\n",
    "lr_graph_pca.fit(graph_pca_x_train, graph_pca_y_train)\n",
    "models[\"lr_graph_pca\"] = lr_graph_pca\n",
    "\n",
    "# Logistic regression on graph pca features with oversampling\n",
    "rus = RandomOverSampler(random_state=42)\n",
    "graph_pca_x_oversample, graph_pca_y_oversample = rus.fit_resample(graph_pca_x_train, graph_pca_y_train)\n",
    "lr_graph_pca_oversample = GridSearchCV(LogisticRegression(solver=\"saga\", l1_ratio=0.5), param_grid=hyper_parameters, verbose=2)\n",
    "lr_graph_pca_oversample.fit(graph_pca_x_oversample, graph_pca_y_oversample)\n",
    "models[\"lr_graph_pca_oversample\"] = lr_graph_pca_oversample\n"
   ]
  },
  {
   "cell_type": "code",
   "execution_count": null,
   "metadata": {
    "colab": {
     "base_uri": "https://localhost:8080/"
    },
    "executionInfo": {
     "elapsed": 12405225,
     "status": "ok",
     "timestamp": 1639872290850,
     "user": {
      "displayName": "David Chong",
      "photoUrl": "https://lh3.googleusercontent.com/a/default-user=s64",
      "userId": "17914885425914453493"
     },
     "user_tz": 0
    },
    "id": "75B3tT2mEyuY",
    "outputId": "7a0a28f2-6ab4-4fe4-d36c-8b8d5162347e"
   },
   "outputs": [
    {
     "name": "stdout",
     "output_type": "stream",
     "text": [
      "Fitting 5 folds for each of 12 candidates, totalling 60 fits\n",
      "[CV] END .criterion=gini, max_features=sqrt, n_estimators=50; total time=  16.0s\n",
      "[CV] END .criterion=gini, max_features=sqrt, n_estimators=50; total time=   8.8s\n",
      "[CV] END .criterion=gini, max_features=sqrt, n_estimators=50; total time=   7.7s\n",
      "[CV] END .criterion=gini, max_features=sqrt, n_estimators=50; total time=   5.8s\n",
      "[CV] END .criterion=gini, max_features=sqrt, n_estimators=50; total time=   5.7s\n",
      "[CV] END criterion=gini, max_features=sqrt, n_estimators=100; total time=  11.4s\n",
      "[CV] END criterion=gini, max_features=sqrt, n_estimators=100; total time=  11.1s\n",
      "[CV] END criterion=gini, max_features=sqrt, n_estimators=100; total time=  11.3s\n",
      "[CV] END criterion=gini, max_features=sqrt, n_estimators=100; total time=  11.3s\n",
      "[CV] END criterion=gini, max_features=sqrt, n_estimators=100; total time=  11.3s\n",
      "[CV] END criterion=gini, max_features=sqrt, n_estimators=150; total time=  18.3s\n",
      "[CV] END criterion=gini, max_features=sqrt, n_estimators=150; total time=  16.7s\n",
      "[CV] END criterion=gini, max_features=sqrt, n_estimators=150; total time=  17.0s\n",
      "[CV] END criterion=gini, max_features=sqrt, n_estimators=150; total time=  17.1s\n",
      "[CV] END criterion=gini, max_features=sqrt, n_estimators=150; total time=  16.6s\n",
      "[CV] END .criterion=gini, max_features=log2, n_estimators=50; total time=   3.5s\n",
      "[CV] END .criterion=gini, max_features=log2, n_estimators=50; total time=   4.5s\n",
      "[CV] END .criterion=gini, max_features=log2, n_estimators=50; total time=   3.4s\n",
      "[CV] END .criterion=gini, max_features=log2, n_estimators=50; total time=   3.5s\n",
      "[CV] END .criterion=gini, max_features=log2, n_estimators=50; total time=   3.4s\n",
      "[CV] END criterion=gini, max_features=log2, n_estimators=100; total time=   7.6s\n",
      "[CV] END criterion=gini, max_features=log2, n_estimators=100; total time=   6.8s\n",
      "[CV] END criterion=gini, max_features=log2, n_estimators=100; total time=   6.9s\n",
      "[CV] END criterion=gini, max_features=log2, n_estimators=100; total time=   6.8s\n",
      "[CV] END criterion=gini, max_features=log2, n_estimators=100; total time=   6.8s\n",
      "[CV] END criterion=gini, max_features=log2, n_estimators=150; total time=  10.4s\n",
      "[CV] END criterion=gini, max_features=log2, n_estimators=150; total time=  10.2s\n",
      "[CV] END criterion=gini, max_features=log2, n_estimators=150; total time=  10.2s\n",
      "[CV] END criterion=gini, max_features=log2, n_estimators=150; total time=  10.4s\n",
      "[CV] END criterion=gini, max_features=log2, n_estimators=150; total time=  10.3s\n",
      "[CV] END criterion=entropy, max_features=sqrt, n_estimators=50; total time=   6.7s\n",
      "[CV] END criterion=entropy, max_features=sqrt, n_estimators=50; total time=   6.4s\n",
      "[CV] END criterion=entropy, max_features=sqrt, n_estimators=50; total time=   6.4s\n",
      "[CV] END criterion=entropy, max_features=sqrt, n_estimators=50; total time=   7.2s\n",
      "[CV] END criterion=entropy, max_features=sqrt, n_estimators=50; total time=   6.4s\n",
      "[CV] END criterion=entropy, max_features=sqrt, n_estimators=100; total time=  13.0s\n",
      "[CV] END criterion=entropy, max_features=sqrt, n_estimators=100; total time=  13.1s\n",
      "[CV] END criterion=entropy, max_features=sqrt, n_estimators=100; total time=  13.2s\n",
      "[CV] END criterion=entropy, max_features=sqrt, n_estimators=100; total time=  13.3s\n",
      "[CV] END criterion=entropy, max_features=sqrt, n_estimators=100; total time=  13.0s\n",
      "[CV] END criterion=entropy, max_features=sqrt, n_estimators=150; total time=  19.7s\n",
      "[CV] END criterion=entropy, max_features=sqrt, n_estimators=150; total time=  19.4s\n",
      "[CV] END criterion=entropy, max_features=sqrt, n_estimators=150; total time=  19.4s\n",
      "[CV] END criterion=entropy, max_features=sqrt, n_estimators=150; total time=  19.5s\n",
      "[CV] END criterion=entropy, max_features=sqrt, n_estimators=150; total time=  19.4s\n",
      "[CV] END criterion=entropy, max_features=log2, n_estimators=50; total time=   4.2s\n",
      "[CV] END criterion=entropy, max_features=log2, n_estimators=50; total time=   4.2s\n",
      "[CV] END criterion=entropy, max_features=log2, n_estimators=50; total time=   4.2s\n",
      "[CV] END criterion=entropy, max_features=log2, n_estimators=50; total time=   4.2s\n",
      "[CV] END criterion=entropy, max_features=log2, n_estimators=50; total time=   4.1s\n",
      "[CV] END criterion=entropy, max_features=log2, n_estimators=100; total time=   8.3s\n",
      "[CV] END criterion=entropy, max_features=log2, n_estimators=100; total time=   8.2s\n",
      "[CV] END criterion=entropy, max_features=log2, n_estimators=100; total time=   8.3s\n",
      "[CV] END criterion=entropy, max_features=log2, n_estimators=100; total time=   8.3s\n",
      "[CV] END criterion=entropy, max_features=log2, n_estimators=100; total time=   8.1s\n",
      "[CV] END criterion=entropy, max_features=log2, n_estimators=150; total time=  12.3s\n",
      "[CV] END criterion=entropy, max_features=log2, n_estimators=150; total time=  12.3s\n",
      "[CV] END criterion=entropy, max_features=log2, n_estimators=150; total time=  12.2s\n",
      "[CV] END criterion=entropy, max_features=log2, n_estimators=150; total time=  12.3s\n",
      "[CV] END criterion=entropy, max_features=log2, n_estimators=150; total time=  12.2s\n",
      "Fitting 5 folds for each of 12 candidates, totalling 60 fits\n",
      "[CV] END .criterion=gini, max_features=sqrt, n_estimators=50; total time=   9.8s\n",
      "[CV] END .criterion=gini, max_features=sqrt, n_estimators=50; total time=   9.6s\n",
      "[CV] END .criterion=gini, max_features=sqrt, n_estimators=50; total time=   9.7s\n",
      "[CV] END .criterion=gini, max_features=sqrt, n_estimators=50; total time=   9.8s\n",
      "[CV] END .criterion=gini, max_features=sqrt, n_estimators=50; total time=   9.7s\n",
      "[CV] END criterion=gini, max_features=sqrt, n_estimators=100; total time=  19.3s\n",
      "[CV] END criterion=gini, max_features=sqrt, n_estimators=100; total time=  19.5s\n",
      "[CV] END criterion=gini, max_features=sqrt, n_estimators=100; total time=  19.3s\n",
      "[CV] END criterion=gini, max_features=sqrt, n_estimators=100; total time=  19.6s\n",
      "[CV] END criterion=gini, max_features=sqrt, n_estimators=100; total time=  19.3s\n",
      "[CV] END criterion=gini, max_features=sqrt, n_estimators=150; total time=  29.2s\n",
      "[CV] END criterion=gini, max_features=sqrt, n_estimators=150; total time=  29.0s\n",
      "[CV] END criterion=gini, max_features=sqrt, n_estimators=150; total time=  28.7s\n",
      "[CV] END criterion=gini, max_features=sqrt, n_estimators=150; total time=  28.9s\n",
      "[CV] END criterion=gini, max_features=sqrt, n_estimators=150; total time=  29.3s\n",
      "[CV] END .criterion=gini, max_features=log2, n_estimators=50; total time=   6.1s\n",
      "[CV] END .criterion=gini, max_features=log2, n_estimators=50; total time=   6.1s\n",
      "[CV] END .criterion=gini, max_features=log2, n_estimators=50; total time=   6.1s\n",
      "[CV] END .criterion=gini, max_features=log2, n_estimators=50; total time=   6.3s\n",
      "[CV] END .criterion=gini, max_features=log2, n_estimators=50; total time=   6.2s\n",
      "[CV] END criterion=gini, max_features=log2, n_estimators=100; total time=  12.1s\n",
      "[CV] END criterion=gini, max_features=log2, n_estimators=100; total time=  12.2s\n",
      "[CV] END criterion=gini, max_features=log2, n_estimators=100; total time=  12.1s\n",
      "[CV] END criterion=gini, max_features=log2, n_estimators=100; total time=  12.3s\n",
      "[CV] END criterion=gini, max_features=log2, n_estimators=100; total time=  12.2s\n",
      "[CV] END criterion=gini, max_features=log2, n_estimators=150; total time=  18.2s\n",
      "[CV] END criterion=gini, max_features=log2, n_estimators=150; total time=  18.3s\n",
      "[CV] END criterion=gini, max_features=log2, n_estimators=150; total time=  18.3s\n",
      "[CV] END criterion=gini, max_features=log2, n_estimators=150; total time=  18.5s\n",
      "[CV] END criterion=gini, max_features=log2, n_estimators=150; total time=  18.4s\n",
      "[CV] END criterion=entropy, max_features=sqrt, n_estimators=50; total time=  10.5s\n",
      "[CV] END criterion=entropy, max_features=sqrt, n_estimators=50; total time=  10.8s\n",
      "[CV] END criterion=entropy, max_features=sqrt, n_estimators=50; total time=  10.5s\n",
      "[CV] END criterion=entropy, max_features=sqrt, n_estimators=50; total time=  10.5s\n",
      "[CV] END criterion=entropy, max_features=sqrt, n_estimators=50; total time=  10.3s\n",
      "[CV] END criterion=entropy, max_features=sqrt, n_estimators=100; total time=  20.9s\n",
      "[CV] END criterion=entropy, max_features=sqrt, n_estimators=100; total time=  20.9s\n",
      "[CV] END criterion=entropy, max_features=sqrt, n_estimators=100; total time=  20.9s\n",
      "[CV] END criterion=entropy, max_features=sqrt, n_estimators=100; total time=  21.2s\n",
      "[CV] END criterion=entropy, max_features=sqrt, n_estimators=100; total time=  21.0s\n",
      "[CV] END criterion=entropy, max_features=sqrt, n_estimators=150; total time=  35.7s\n",
      "[CV] END criterion=entropy, max_features=sqrt, n_estimators=150; total time=  31.7s\n",
      "[CV] END criterion=entropy, max_features=sqrt, n_estimators=150; total time=  31.4s\n",
      "[CV] END criterion=entropy, max_features=sqrt, n_estimators=150; total time=  31.7s\n",
      "[CV] END criterion=entropy, max_features=sqrt, n_estimators=150; total time=  31.0s\n",
      "[CV] END criterion=entropy, max_features=log2, n_estimators=50; total time=   6.8s\n",
      "[CV] END criterion=entropy, max_features=log2, n_estimators=50; total time=   6.8s\n",
      "[CV] END criterion=entropy, max_features=log2, n_estimators=50; total time=   6.9s\n",
      "[CV] END criterion=entropy, max_features=log2, n_estimators=50; total time=   6.7s\n",
      "[CV] END criterion=entropy, max_features=log2, n_estimators=50; total time=   6.7s\n",
      "[CV] END criterion=entropy, max_features=log2, n_estimators=100; total time=  13.7s\n",
      "[CV] END criterion=entropy, max_features=log2, n_estimators=100; total time=  13.7s\n",
      "[CV] END criterion=entropy, max_features=log2, n_estimators=100; total time=  13.6s\n",
      "[CV] END criterion=entropy, max_features=log2, n_estimators=100; total time=  13.6s\n",
      "[CV] END criterion=entropy, max_features=log2, n_estimators=100; total time=  13.5s\n",
      "[CV] END criterion=entropy, max_features=log2, n_estimators=150; total time=  20.3s\n",
      "[CV] END criterion=entropy, max_features=log2, n_estimators=150; total time=  20.5s\n",
      "[CV] END criterion=entropy, max_features=log2, n_estimators=150; total time=  20.3s\n",
      "[CV] END criterion=entropy, max_features=log2, n_estimators=150; total time=  20.4s\n",
      "[CV] END criterion=entropy, max_features=log2, n_estimators=150; total time=  20.1s\n",
      "Fitting 5 folds for each of 12 candidates, totalling 60 fits\n",
      "[CV] END .criterion=gini, max_features=sqrt, n_estimators=50; total time=   9.5s\n",
      "[CV] END .criterion=gini, max_features=sqrt, n_estimators=50; total time=   9.5s\n",
      "[CV] END .criterion=gini, max_features=sqrt, n_estimators=50; total time=   9.5s\n",
      "[CV] END .criterion=gini, max_features=sqrt, n_estimators=50; total time=   9.5s\n",
      "[CV] END .criterion=gini, max_features=sqrt, n_estimators=50; total time=   9.4s\n",
      "[CV] END criterion=gini, max_features=sqrt, n_estimators=100; total time=  18.9s\n",
      "[CV] END criterion=gini, max_features=sqrt, n_estimators=100; total time=  18.9s\n",
      "[CV] END criterion=gini, max_features=sqrt, n_estimators=100; total time=  18.9s\n",
      "[CV] END criterion=gini, max_features=sqrt, n_estimators=100; total time=  18.7s\n",
      "[CV] END criterion=gini, max_features=sqrt, n_estimators=100; total time=  18.9s\n",
      "[CV] END criterion=gini, max_features=sqrt, n_estimators=150; total time=  28.4s\n",
      "[CV] END criterion=gini, max_features=sqrt, n_estimators=150; total time=  28.6s\n",
      "[CV] END criterion=gini, max_features=sqrt, n_estimators=150; total time=  28.2s\n",
      "[CV] END criterion=gini, max_features=sqrt, n_estimators=150; total time=  28.2s\n",
      "[CV] END criterion=gini, max_features=sqrt, n_estimators=150; total time=  28.0s\n",
      "[CV] END .criterion=gini, max_features=log2, n_estimators=50; total time=   6.8s\n",
      "[CV] END .criterion=gini, max_features=log2, n_estimators=50; total time=   6.9s\n",
      "[CV] END .criterion=gini, max_features=log2, n_estimators=50; total time=   6.8s\n",
      "[CV] END .criterion=gini, max_features=log2, n_estimators=50; total time=   6.8s\n",
      "[CV] END .criterion=gini, max_features=log2, n_estimators=50; total time=   6.8s\n",
      "[CV] END criterion=gini, max_features=log2, n_estimators=100; total time=  13.5s\n",
      "[CV] END criterion=gini, max_features=log2, n_estimators=100; total time=  13.5s\n",
      "[CV] END criterion=gini, max_features=log2, n_estimators=100; total time=  13.6s\n",
      "[CV] END criterion=gini, max_features=log2, n_estimators=100; total time=  13.5s\n",
      "[CV] END criterion=gini, max_features=log2, n_estimators=100; total time=  13.4s\n",
      "[CV] END criterion=gini, max_features=log2, n_estimators=150; total time=  20.4s\n",
      "[CV] END criterion=gini, max_features=log2, n_estimators=150; total time=  20.4s\n",
      "[CV] END criterion=gini, max_features=log2, n_estimators=150; total time=  20.3s\n",
      "[CV] END criterion=gini, max_features=log2, n_estimators=150; total time=  20.3s\n",
      "[CV] END criterion=gini, max_features=log2, n_estimators=150; total time=  20.2s\n",
      "[CV] END criterion=entropy, max_features=sqrt, n_estimators=50; total time=  12.6s\n",
      "[CV] END criterion=entropy, max_features=sqrt, n_estimators=50; total time=  12.9s\n",
      "[CV] END criterion=entropy, max_features=sqrt, n_estimators=50; total time=  12.8s\n",
      "[CV] END criterion=entropy, max_features=sqrt, n_estimators=50; total time=  12.7s\n",
      "[CV] END criterion=entropy, max_features=sqrt, n_estimators=50; total time=  12.7s\n",
      "[CV] END criterion=entropy, max_features=sqrt, n_estimators=100; total time=  25.5s\n",
      "[CV] END criterion=entropy, max_features=sqrt, n_estimators=100; total time=  25.7s\n",
      "[CV] END criterion=entropy, max_features=sqrt, n_estimators=100; total time=  25.7s\n",
      "[CV] END criterion=entropy, max_features=sqrt, n_estimators=100; total time=  25.8s\n",
      "[CV] END criterion=entropy, max_features=sqrt, n_estimators=100; total time=  25.6s\n",
      "[CV] END criterion=entropy, max_features=sqrt, n_estimators=150; total time=  38.2s\n",
      "[CV] END criterion=entropy, max_features=sqrt, n_estimators=150; total time=  38.5s\n",
      "[CV] END criterion=entropy, max_features=sqrt, n_estimators=150; total time=  38.5s\n",
      "[CV] END criterion=entropy, max_features=sqrt, n_estimators=150; total time=  38.5s\n",
      "[CV] END criterion=entropy, max_features=sqrt, n_estimators=150; total time=  38.5s\n",
      "[CV] END criterion=entropy, max_features=log2, n_estimators=50; total time=   9.6s\n",
      "[CV] END criterion=entropy, max_features=log2, n_estimators=50; total time=   9.6s\n",
      "[CV] END criterion=entropy, max_features=log2, n_estimators=50; total time=   9.7s\n",
      "[CV] END criterion=entropy, max_features=log2, n_estimators=50; total time=   9.5s\n",
      "[CV] END criterion=entropy, max_features=log2, n_estimators=50; total time=   9.6s\n",
      "[CV] END criterion=entropy, max_features=log2, n_estimators=100; total time=  19.1s\n",
      "[CV] END criterion=entropy, max_features=log2, n_estimators=100; total time=  19.2s\n",
      "[CV] END criterion=entropy, max_features=log2, n_estimators=100; total time=  19.2s\n",
      "[CV] END criterion=entropy, max_features=log2, n_estimators=100; total time=  19.1s\n",
      "[CV] END criterion=entropy, max_features=log2, n_estimators=100; total time=  19.1s\n",
      "[CV] END criterion=entropy, max_features=log2, n_estimators=150; total time=  28.6s\n",
      "[CV] END criterion=entropy, max_features=log2, n_estimators=150; total time=  28.7s\n",
      "[CV] END criterion=entropy, max_features=log2, n_estimators=150; total time=  28.9s\n",
      "[CV] END criterion=entropy, max_features=log2, n_estimators=150; total time=  28.6s\n",
      "[CV] END criterion=entropy, max_features=log2, n_estimators=150; total time=  28.8s\n",
      "Fitting 5 folds for each of 12 candidates, totalling 60 fits\n",
      "[CV] END .criterion=gini, max_features=sqrt, n_estimators=50; total time=  19.5s\n",
      "[CV] END .criterion=gini, max_features=sqrt, n_estimators=50; total time=  19.8s\n",
      "[CV] END .criterion=gini, max_features=sqrt, n_estimators=50; total time=  19.7s\n",
      "[CV] END .criterion=gini, max_features=sqrt, n_estimators=50; total time=  19.9s\n",
      "[CV] END .criterion=gini, max_features=sqrt, n_estimators=50; total time=  19.7s\n",
      "[CV] END criterion=gini, max_features=sqrt, n_estimators=100; total time=  38.4s\n",
      "[CV] END criterion=gini, max_features=sqrt, n_estimators=100; total time=  39.7s\n",
      "[CV] END criterion=gini, max_features=sqrt, n_estimators=100; total time=  39.2s\n",
      "[CV] END criterion=gini, max_features=sqrt, n_estimators=100; total time=  39.2s\n",
      "[CV] END criterion=gini, max_features=sqrt, n_estimators=100; total time=  39.2s\n",
      "[CV] END criterion=gini, max_features=sqrt, n_estimators=150; total time=  58.0s\n",
      "[CV] END criterion=gini, max_features=sqrt, n_estimators=150; total time=  59.8s\n",
      "[CV] END criterion=gini, max_features=sqrt, n_estimators=150; total time= 1.0min\n",
      "[CV] END criterion=gini, max_features=sqrt, n_estimators=150; total time= 1.0min\n",
      "[CV] END criterion=gini, max_features=sqrt, n_estimators=150; total time=  57.8s\n",
      "[CV] END .criterion=gini, max_features=log2, n_estimators=50; total time=  13.8s\n",
      "[CV] END .criterion=gini, max_features=log2, n_estimators=50; total time=  14.2s\n",
      "[CV] END .criterion=gini, max_features=log2, n_estimators=50; total time=  14.4s\n",
      "[CV] END .criterion=gini, max_features=log2, n_estimators=50; total time=  15.8s\n",
      "[CV] END .criterion=gini, max_features=log2, n_estimators=50; total time=  14.2s\n",
      "[CV] END criterion=gini, max_features=log2, n_estimators=100; total time=  28.4s\n",
      "[CV] END criterion=gini, max_features=log2, n_estimators=100; total time=  28.5s\n",
      "[CV] END criterion=gini, max_features=log2, n_estimators=100; total time=  28.5s\n",
      "[CV] END criterion=gini, max_features=log2, n_estimators=100; total time=  28.8s\n",
      "[CV] END criterion=gini, max_features=log2, n_estimators=100; total time=  28.4s\n",
      "[CV] END criterion=gini, max_features=log2, n_estimators=150; total time=  42.2s\n",
      "[CV] END criterion=gini, max_features=log2, n_estimators=150; total time=  42.7s\n",
      "[CV] END criterion=gini, max_features=log2, n_estimators=150; total time=  43.1s\n",
      "[CV] END criterion=gini, max_features=log2, n_estimators=150; total time=  42.4s\n",
      "[CV] END criterion=gini, max_features=log2, n_estimators=150; total time=  42.4s\n",
      "[CV] END criterion=entropy, max_features=sqrt, n_estimators=50; total time=  22.4s\n",
      "[CV] END criterion=entropy, max_features=sqrt, n_estimators=50; total time=  22.3s\n",
      "[CV] END criterion=entropy, max_features=sqrt, n_estimators=50; total time=  22.7s\n",
      "[CV] END criterion=entropy, max_features=sqrt, n_estimators=50; total time=  22.7s\n",
      "[CV] END criterion=entropy, max_features=sqrt, n_estimators=50; total time=  22.4s\n",
      "[CV] END criterion=entropy, max_features=sqrt, n_estimators=100; total time=  44.1s\n",
      "[CV] END criterion=entropy, max_features=sqrt, n_estimators=100; total time=  44.5s\n",
      "[CV] END criterion=entropy, max_features=sqrt, n_estimators=100; total time=  44.8s\n",
      "[CV] END criterion=entropy, max_features=sqrt, n_estimators=100; total time=  44.6s\n",
      "[CV] END criterion=entropy, max_features=sqrt, n_estimators=100; total time=  44.2s\n",
      "[CV] END criterion=entropy, max_features=sqrt, n_estimators=150; total time= 1.1min\n",
      "[CV] END criterion=entropy, max_features=sqrt, n_estimators=150; total time= 1.1min\n",
      "[CV] END criterion=entropy, max_features=sqrt, n_estimators=150; total time= 1.1min\n",
      "[CV] END criterion=entropy, max_features=sqrt, n_estimators=150; total time= 1.1min\n",
      "[CV] END criterion=entropy, max_features=sqrt, n_estimators=150; total time= 1.1min\n",
      "[CV] END criterion=entropy, max_features=log2, n_estimators=50; total time=  16.7s\n",
      "[CV] END criterion=entropy, max_features=log2, n_estimators=50; total time=  16.6s\n",
      "[CV] END criterion=entropy, max_features=log2, n_estimators=50; total time=  16.8s\n",
      "[CV] END criterion=entropy, max_features=log2, n_estimators=50; total time=  16.8s\n",
      "[CV] END criterion=entropy, max_features=log2, n_estimators=50; total time=  16.7s\n",
      "[CV] END criterion=entropy, max_features=log2, n_estimators=100; total time=  32.9s\n",
      "[CV] END criterion=entropy, max_features=log2, n_estimators=100; total time=  33.1s\n",
      "[CV] END criterion=entropy, max_features=log2, n_estimators=100; total time=  33.1s\n",
      "[CV] END criterion=entropy, max_features=log2, n_estimators=100; total time=  33.1s\n",
      "[CV] END criterion=entropy, max_features=log2, n_estimators=100; total time=  33.2s\n",
      "[CV] END criterion=entropy, max_features=log2, n_estimators=150; total time=  49.4s\n",
      "[CV] END criterion=entropy, max_features=log2, n_estimators=150; total time=  49.9s\n",
      "[CV] END criterion=entropy, max_features=log2, n_estimators=150; total time=  50.1s\n",
      "[CV] END criterion=entropy, max_features=log2, n_estimators=150; total time=  50.8s\n",
      "[CV] END criterion=entropy, max_features=log2, n_estimators=150; total time=  50.1s\n",
      "Fitting 5 folds for each of 12 candidates, totalling 60 fits\n",
      "[CV] END .criterion=gini, max_features=sqrt, n_estimators=50; total time=   9.9s\n",
      "[CV] END .criterion=gini, max_features=sqrt, n_estimators=50; total time=  10.2s\n",
      "[CV] END .criterion=gini, max_features=sqrt, n_estimators=50; total time=  10.0s\n",
      "[CV] END .criterion=gini, max_features=sqrt, n_estimators=50; total time=  10.4s\n",
      "[CV] END .criterion=gini, max_features=sqrt, n_estimators=50; total time=  10.1s\n",
      "[CV] END criterion=gini, max_features=sqrt, n_estimators=100; total time=  20.2s\n",
      "[CV] END criterion=gini, max_features=sqrt, n_estimators=100; total time=  20.2s\n",
      "[CV] END criterion=gini, max_features=sqrt, n_estimators=100; total time=  19.9s\n",
      "[CV] END criterion=gini, max_features=sqrt, n_estimators=100; total time=  20.1s\n",
      "[CV] END criterion=gini, max_features=sqrt, n_estimators=100; total time=  29.5s\n",
      "[CV] END criterion=gini, max_features=sqrt, n_estimators=150; total time=  45.0s\n",
      "[CV] END criterion=gini, max_features=sqrt, n_estimators=150; total time=  43.1s\n",
      "[CV] END criterion=gini, max_features=sqrt, n_estimators=150; total time=  31.0s\n",
      "[CV] END criterion=gini, max_features=sqrt, n_estimators=150; total time=  35.2s\n",
      "[CV] END criterion=gini, max_features=sqrt, n_estimators=150; total time=  42.2s\n",
      "[CV] END .criterion=gini, max_features=log2, n_estimators=50; total time=   6.1s\n",
      "[CV] END .criterion=gini, max_features=log2, n_estimators=50; total time=   5.6s\n",
      "[CV] END .criterion=gini, max_features=log2, n_estimators=50; total time=   6.5s\n",
      "[CV] END .criterion=gini, max_features=log2, n_estimators=50; total time=   8.1s\n",
      "[CV] END .criterion=gini, max_features=log2, n_estimators=50; total time=   5.4s\n",
      "[CV] END criterion=gini, max_features=log2, n_estimators=100; total time=  10.0s\n",
      "[CV] END criterion=gini, max_features=log2, n_estimators=100; total time=  12.1s\n",
      "[CV] END criterion=gini, max_features=log2, n_estimators=100; total time=  15.2s\n",
      "[CV] END criterion=gini, max_features=log2, n_estimators=100; total time=  13.3s\n",
      "[CV] END criterion=gini, max_features=log2, n_estimators=100; total time=  13.8s\n",
      "[CV] END criterion=gini, max_features=log2, n_estimators=150; total time=  26.2s\n",
      "[CV] END criterion=gini, max_features=log2, n_estimators=150; total time=  19.9s\n",
      "[CV] END criterion=gini, max_features=log2, n_estimators=150; total time=  19.7s\n",
      "[CV] END criterion=gini, max_features=log2, n_estimators=150; total time=  19.5s\n",
      "[CV] END criterion=gini, max_features=log2, n_estimators=150; total time=  20.6s\n",
      "[CV] END criterion=entropy, max_features=sqrt, n_estimators=50; total time=  17.2s\n",
      "[CV] END criterion=entropy, max_features=sqrt, n_estimators=50; total time=  17.2s\n",
      "[CV] END criterion=entropy, max_features=sqrt, n_estimators=50; total time=  18.0s\n",
      "[CV] END criterion=entropy, max_features=sqrt, n_estimators=50; total time=  20.8s\n",
      "[CV] END criterion=entropy, max_features=sqrt, n_estimators=50; total time=  10.9s\n",
      "[CV] END criterion=entropy, max_features=sqrt, n_estimators=100; total time=  33.5s\n",
      "[CV] END criterion=entropy, max_features=sqrt, n_estimators=100; total time=  33.1s\n",
      "[CV] END criterion=entropy, max_features=sqrt, n_estimators=100; total time=  21.4s\n",
      "[CV] END criterion=entropy, max_features=sqrt, n_estimators=100; total time=  24.6s\n",
      "[CV] END criterion=entropy, max_features=sqrt, n_estimators=100; total time=  22.4s\n",
      "[CV] END criterion=entropy, max_features=sqrt, n_estimators=150; total time=  32.0s\n",
      "[CV] END criterion=entropy, max_features=sqrt, n_estimators=150; total time=  31.9s\n",
      "[CV] END criterion=entropy, max_features=sqrt, n_estimators=150; total time=  32.7s\n",
      "[CV] END criterion=entropy, max_features=sqrt, n_estimators=150; total time=  31.9s\n",
      "[CV] END criterion=entropy, max_features=sqrt, n_estimators=150; total time=  31.8s\n",
      "[CV] END criterion=entropy, max_features=log2, n_estimators=50; total time=   5.3s\n",
      "[CV] END criterion=entropy, max_features=log2, n_estimators=50; total time=   5.3s\n",
      "[CV] END criterion=entropy, max_features=log2, n_estimators=50; total time=   5.2s\n",
      "[CV] END criterion=entropy, max_features=log2, n_estimators=50; total time=   5.4s\n",
      "[CV] END criterion=entropy, max_features=log2, n_estimators=50; total time=   5.4s\n",
      "[CV] END criterion=entropy, max_features=log2, n_estimators=100; total time=  13.6s\n",
      "[CV] END criterion=entropy, max_features=log2, n_estimators=100; total time=  10.5s\n",
      "[CV] END criterion=entropy, max_features=log2, n_estimators=100; total time=  10.6s\n",
      "[CV] END criterion=entropy, max_features=log2, n_estimators=100; total time=  10.6s\n",
      "[CV] END criterion=entropy, max_features=log2, n_estimators=100; total time=  10.6s\n",
      "[CV] END criterion=entropy, max_features=log2, n_estimators=150; total time=  15.7s\n",
      "[CV] END criterion=entropy, max_features=log2, n_estimators=150; total time=  15.7s\n",
      "[CV] END criterion=entropy, max_features=log2, n_estimators=150; total time=  15.9s\n",
      "[CV] END criterion=entropy, max_features=log2, n_estimators=150; total time=  15.9s\n",
      "[CV] END criterion=entropy, max_features=log2, n_estimators=150; total time=  15.7s\n",
      "Fitting 5 folds for each of 12 candidates, totalling 60 fits\n",
      "[CV] END .criterion=gini, max_features=sqrt, n_estimators=50; total time=  16.8s\n",
      "[CV] END .criterion=gini, max_features=sqrt, n_estimators=50; total time=  16.6s\n",
      "[CV] END .criterion=gini, max_features=sqrt, n_estimators=50; total time=  16.4s\n",
      "[CV] END .criterion=gini, max_features=sqrt, n_estimators=50; total time=  17.1s\n",
      "[CV] END .criterion=gini, max_features=sqrt, n_estimators=50; total time=  16.8s\n",
      "[CV] END criterion=gini, max_features=sqrt, n_estimators=100; total time=  32.9s\n",
      "[CV] END criterion=gini, max_features=sqrt, n_estimators=100; total time=  33.2s\n",
      "[CV] END criterion=gini, max_features=sqrt, n_estimators=100; total time=  32.4s\n",
      "[CV] END criterion=gini, max_features=sqrt, n_estimators=100; total time=  33.4s\n",
      "[CV] END criterion=gini, max_features=sqrt, n_estimators=100; total time=  32.3s\n",
      "[CV] END criterion=gini, max_features=sqrt, n_estimators=150; total time=  49.1s\n",
      "[CV] END criterion=gini, max_features=sqrt, n_estimators=150; total time=  50.4s\n",
      "[CV] END criterion=gini, max_features=sqrt, n_estimators=150; total time=  49.6s\n",
      "[CV] END criterion=gini, max_features=sqrt, n_estimators=150; total time=  50.0s\n",
      "[CV] END criterion=gini, max_features=sqrt, n_estimators=150; total time=  49.4s\n",
      "[CV] END .criterion=gini, max_features=log2, n_estimators=50; total time=   8.1s\n",
      "[CV] END .criterion=gini, max_features=log2, n_estimators=50; total time=   8.2s\n",
      "[CV] END .criterion=gini, max_features=log2, n_estimators=50; total time=   8.1s\n",
      "[CV] END .criterion=gini, max_features=log2, n_estimators=50; total time=   8.4s\n",
      "[CV] END .criterion=gini, max_features=log2, n_estimators=50; total time=   8.2s\n",
      "[CV] END criterion=gini, max_features=log2, n_estimators=100; total time=  16.3s\n",
      "[CV] END criterion=gini, max_features=log2, n_estimators=100; total time=  16.4s\n",
      "[CV] END criterion=gini, max_features=log2, n_estimators=100; total time=  16.4s\n",
      "[CV] END criterion=gini, max_features=log2, n_estimators=100; total time=  16.4s\n",
      "[CV] END criterion=gini, max_features=log2, n_estimators=100; total time=  16.5s\n",
      "[CV] END criterion=gini, max_features=log2, n_estimators=150; total time=  23.9s\n",
      "[CV] END criterion=gini, max_features=log2, n_estimators=150; total time=  24.4s\n",
      "[CV] END criterion=gini, max_features=log2, n_estimators=150; total time=  24.5s\n",
      "[CV] END criterion=gini, max_features=log2, n_estimators=150; total time=  24.5s\n",
      "[CV] END criterion=gini, max_features=log2, n_estimators=150; total time=  24.6s\n",
      "[CV] END criterion=entropy, max_features=sqrt, n_estimators=50; total time=  17.3s\n",
      "[CV] END criterion=entropy, max_features=sqrt, n_estimators=50; total time=  17.4s\n",
      "[CV] END criterion=entropy, max_features=sqrt, n_estimators=50; total time=  17.2s\n",
      "[CV] END criterion=entropy, max_features=sqrt, n_estimators=50; total time=  17.4s\n",
      "[CV] END criterion=entropy, max_features=sqrt, n_estimators=50; total time=  17.3s\n",
      "[CV] END criterion=entropy, max_features=sqrt, n_estimators=100; total time=  34.3s\n",
      "[CV] END criterion=entropy, max_features=sqrt, n_estimators=100; total time=  34.4s\n",
      "[CV] END criterion=entropy, max_features=sqrt, n_estimators=100; total time=  33.8s\n",
      "[CV] END criterion=entropy, max_features=sqrt, n_estimators=100; total time=  34.1s\n",
      "[CV] END criterion=entropy, max_features=sqrt, n_estimators=100; total time=  33.9s\n",
      "[CV] END criterion=entropy, max_features=sqrt, n_estimators=150; total time=  51.0s\n",
      "[CV] END criterion=entropy, max_features=sqrt, n_estimators=150; total time=  51.4s\n",
      "[CV] END criterion=entropy, max_features=sqrt, n_estimators=150; total time=  50.0s\n",
      "[CV] END criterion=entropy, max_features=sqrt, n_estimators=150; total time=  50.5s\n",
      "[CV] END criterion=entropy, max_features=sqrt, n_estimators=150; total time=  50.4s\n",
      "[CV] END criterion=entropy, max_features=log2, n_estimators=50; total time=   8.9s\n",
      "[CV] END criterion=entropy, max_features=log2, n_estimators=50; total time=   8.8s\n",
      "[CV] END criterion=entropy, max_features=log2, n_estimators=50; total time=   8.7s\n",
      "[CV] END criterion=entropy, max_features=log2, n_estimators=50; total time=   8.8s\n",
      "[CV] END criterion=entropy, max_features=log2, n_estimators=50; total time=   8.8s\n",
      "[CV] END criterion=entropy, max_features=log2, n_estimators=100; total time=  17.5s\n",
      "[CV] END criterion=entropy, max_features=log2, n_estimators=100; total time=  17.7s\n",
      "[CV] END criterion=entropy, max_features=log2, n_estimators=100; total time=  17.3s\n",
      "[CV] END criterion=entropy, max_features=log2, n_estimators=100; total time=  17.4s\n",
      "[CV] END criterion=entropy, max_features=log2, n_estimators=100; total time=  17.2s\n",
      "[CV] END criterion=entropy, max_features=log2, n_estimators=150; total time=  26.2s\n",
      "[CV] END criterion=entropy, max_features=log2, n_estimators=150; total time=  25.8s\n",
      "[CV] END criterion=entropy, max_features=log2, n_estimators=150; total time=  25.9s\n",
      "[CV] END criterion=entropy, max_features=log2, n_estimators=150; total time=  26.0s\n",
      "[CV] END criterion=entropy, max_features=log2, n_estimators=150; total time=  25.8s\n",
      "Fitting 5 folds for each of 12 candidates, totalling 60 fits\n",
      "[CV] END .criterion=gini, max_features=sqrt, n_estimators=50; total time=  14.1s\n",
      "[CV] END .criterion=gini, max_features=sqrt, n_estimators=50; total time=  14.1s\n",
      "[CV] END .criterion=gini, max_features=sqrt, n_estimators=50; total time=  14.0s\n",
      "[CV] END .criterion=gini, max_features=sqrt, n_estimators=50; total time=  14.0s\n",
      "[CV] END .criterion=gini, max_features=sqrt, n_estimators=50; total time=  14.1s\n",
      "[CV] END criterion=gini, max_features=sqrt, n_estimators=100; total time=  28.2s\n",
      "[CV] END criterion=gini, max_features=sqrt, n_estimators=100; total time=  28.3s\n",
      "[CV] END criterion=gini, max_features=sqrt, n_estimators=100; total time=  28.0s\n",
      "[CV] END criterion=gini, max_features=sqrt, n_estimators=100; total time=  27.9s\n",
      "[CV] END criterion=gini, max_features=sqrt, n_estimators=100; total time=  27.8s\n",
      "[CV] END criterion=gini, max_features=sqrt, n_estimators=150; total time=  41.6s\n",
      "[CV] END criterion=gini, max_features=sqrt, n_estimators=150; total time=  42.1s\n",
      "[CV] END criterion=gini, max_features=sqrt, n_estimators=150; total time=  41.9s\n",
      "[CV] END criterion=gini, max_features=sqrt, n_estimators=150; total time=  42.2s\n",
      "[CV] END criterion=gini, max_features=sqrt, n_estimators=150; total time=  41.9s\n",
      "[CV] END .criterion=gini, max_features=log2, n_estimators=50; total time=   8.4s\n",
      "[CV] END .criterion=gini, max_features=log2, n_estimators=50; total time=   8.5s\n",
      "[CV] END .criterion=gini, max_features=log2, n_estimators=50; total time=   8.4s\n",
      "[CV] END .criterion=gini, max_features=log2, n_estimators=50; total time=   8.5s\n",
      "[CV] END .criterion=gini, max_features=log2, n_estimators=50; total time=   8.5s\n",
      "[CV] END criterion=gini, max_features=log2, n_estimators=100; total time=  16.8s\n",
      "[CV] END criterion=gini, max_features=log2, n_estimators=100; total time=  16.9s\n",
      "[CV] END criterion=gini, max_features=log2, n_estimators=100; total time=  17.0s\n",
      "[CV] END criterion=gini, max_features=log2, n_estimators=100; total time=  17.0s\n",
      "[CV] END criterion=gini, max_features=log2, n_estimators=100; total time=  16.9s\n",
      "[CV] END criterion=gini, max_features=log2, n_estimators=150; total time=  25.1s\n",
      "[CV] END criterion=gini, max_features=log2, n_estimators=150; total time=  25.6s\n",
      "[CV] END criterion=gini, max_features=log2, n_estimators=150; total time=  25.3s\n",
      "[CV] END criterion=gini, max_features=log2, n_estimators=150; total time=  25.3s\n",
      "[CV] END criterion=gini, max_features=log2, n_estimators=150; total time=  25.3s\n",
      "[CV] END criterion=entropy, max_features=sqrt, n_estimators=50; total time=  18.9s\n",
      "[CV] END criterion=entropy, max_features=sqrt, n_estimators=50; total time=  18.9s\n",
      "[CV] END criterion=entropy, max_features=sqrt, n_estimators=50; total time=  18.8s\n",
      "[CV] END criterion=entropy, max_features=sqrt, n_estimators=50; total time=  18.9s\n",
      "[CV] END criterion=entropy, max_features=sqrt, n_estimators=50; total time=  18.8s\n",
      "[CV] END criterion=entropy, max_features=sqrt, n_estimators=100; total time=  37.6s\n",
      "[CV] END criterion=entropy, max_features=sqrt, n_estimators=100; total time=  37.9s\n",
      "[CV] END criterion=entropy, max_features=sqrt, n_estimators=100; total time=  37.8s\n",
      "[CV] END criterion=entropy, max_features=sqrt, n_estimators=100; total time=  37.9s\n",
      "[CV] END criterion=entropy, max_features=sqrt, n_estimators=100; total time=  38.0s\n",
      "[CV] END criterion=entropy, max_features=sqrt, n_estimators=150; total time=  56.3s\n",
      "[CV] END criterion=entropy, max_features=sqrt, n_estimators=150; total time=  57.2s\n",
      "[CV] END criterion=entropy, max_features=sqrt, n_estimators=150; total time=  56.7s\n",
      "[CV] END criterion=entropy, max_features=sqrt, n_estimators=150; total time=  56.8s\n",
      "[CV] END criterion=entropy, max_features=sqrt, n_estimators=150; total time=  56.4s\n",
      "[CV] END criterion=entropy, max_features=log2, n_estimators=50; total time=  12.0s\n",
      "[CV] END criterion=entropy, max_features=log2, n_estimators=50; total time=  12.3s\n",
      "[CV] END criterion=entropy, max_features=log2, n_estimators=50; total time=  12.2s\n",
      "[CV] END criterion=entropy, max_features=log2, n_estimators=50; total time=  12.3s\n",
      "[CV] END criterion=entropy, max_features=log2, n_estimators=50; total time=  12.1s\n",
      "[CV] END criterion=entropy, max_features=log2, n_estimators=100; total time=  24.1s\n",
      "[CV] END criterion=entropy, max_features=log2, n_estimators=100; total time=  24.3s\n",
      "[CV] END criterion=entropy, max_features=log2, n_estimators=100; total time=  24.4s\n",
      "[CV] END criterion=entropy, max_features=log2, n_estimators=100; total time=  24.2s\n",
      "[CV] END criterion=entropy, max_features=log2, n_estimators=100; total time=  24.3s\n",
      "[CV] END criterion=entropy, max_features=log2, n_estimators=150; total time=  36.0s\n",
      "[CV] END criterion=entropy, max_features=log2, n_estimators=150; total time=  36.5s\n",
      "[CV] END criterion=entropy, max_features=log2, n_estimators=150; total time=  36.3s\n",
      "[CV] END criterion=entropy, max_features=log2, n_estimators=150; total time=  36.5s\n",
      "[CV] END criterion=entropy, max_features=log2, n_estimators=150; total time=  36.5s\n",
      "Fitting 5 folds for each of 12 candidates, totalling 60 fits\n",
      "[CV] END .criterion=gini, max_features=sqrt, n_estimators=50; total time=  28.4s\n",
      "[CV] END .criterion=gini, max_features=sqrt, n_estimators=50; total time=  28.0s\n",
      "[CV] END .criterion=gini, max_features=sqrt, n_estimators=50; total time=  28.2s\n",
      "[CV] END .criterion=gini, max_features=sqrt, n_estimators=50; total time=  28.5s\n",
      "[CV] END .criterion=gini, max_features=sqrt, n_estimators=50; total time=  28.3s\n",
      "[CV] END criterion=gini, max_features=sqrt, n_estimators=100; total time=  56.5s\n",
      "[CV] END criterion=gini, max_features=sqrt, n_estimators=100; total time=  56.5s\n",
      "[CV] END criterion=gini, max_features=sqrt, n_estimators=100; total time=  56.6s\n",
      "[CV] END criterion=gini, max_features=sqrt, n_estimators=100; total time=  57.4s\n",
      "[CV] END criterion=gini, max_features=sqrt, n_estimators=100; total time=  57.0s\n",
      "[CV] END criterion=gini, max_features=sqrt, n_estimators=150; total time= 1.4min\n",
      "[CV] END criterion=gini, max_features=sqrt, n_estimators=150; total time= 1.4min\n",
      "[CV] END criterion=gini, max_features=sqrt, n_estimators=150; total time= 1.4min\n",
      "[CV] END criterion=gini, max_features=sqrt, n_estimators=150; total time= 1.4min\n",
      "[CV] END criterion=gini, max_features=sqrt, n_estimators=150; total time= 1.4min\n",
      "[CV] END .criterion=gini, max_features=log2, n_estimators=50; total time=  16.9s\n",
      "[CV] END .criterion=gini, max_features=log2, n_estimators=50; total time=  17.2s\n",
      "[CV] END .criterion=gini, max_features=log2, n_estimators=50; total time=  17.2s\n",
      "[CV] END .criterion=gini, max_features=log2, n_estimators=50; total time=  17.1s\n",
      "[CV] END .criterion=gini, max_features=log2, n_estimators=50; total time=  16.9s\n",
      "[CV] END criterion=gini, max_features=log2, n_estimators=100; total time=  34.0s\n",
      "[CV] END criterion=gini, max_features=log2, n_estimators=100; total time=  34.5s\n",
      "[CV] END criterion=gini, max_features=log2, n_estimators=100; total time=  34.3s\n",
      "[CV] END criterion=gini, max_features=log2, n_estimators=100; total time=  34.3s\n",
      "[CV] END criterion=gini, max_features=log2, n_estimators=100; total time=  34.2s\n",
      "[CV] END criterion=gini, max_features=log2, n_estimators=150; total time=  51.0s\n",
      "[CV] END criterion=gini, max_features=log2, n_estimators=150; total time=  51.4s\n",
      "[CV] END criterion=gini, max_features=log2, n_estimators=150; total time=  51.8s\n",
      "[CV] END criterion=gini, max_features=log2, n_estimators=150; total time=  51.9s\n",
      "[CV] END criterion=gini, max_features=log2, n_estimators=150; total time=  51.4s\n",
      "[CV] END criterion=entropy, max_features=sqrt, n_estimators=50; total time=  31.6s\n",
      "[CV] END criterion=entropy, max_features=sqrt, n_estimators=50; total time=  31.8s\n",
      "[CV] END criterion=entropy, max_features=sqrt, n_estimators=50; total time=  32.2s\n",
      "[CV] END criterion=entropy, max_features=sqrt, n_estimators=50; total time=  32.0s\n",
      "[CV] END criterion=entropy, max_features=sqrt, n_estimators=50; total time=  31.8s\n",
      "[CV] END criterion=entropy, max_features=sqrt, n_estimators=100; total time= 1.1min\n",
      "[CV] END criterion=entropy, max_features=sqrt, n_estimators=100; total time= 1.1min\n",
      "[CV] END criterion=entropy, max_features=sqrt, n_estimators=100; total time= 1.1min\n",
      "[CV] END criterion=entropy, max_features=sqrt, n_estimators=100; total time= 1.1min\n",
      "[CV] END criterion=entropy, max_features=sqrt, n_estimators=100; total time= 1.1min\n",
      "[CV] END criterion=entropy, max_features=sqrt, n_estimators=150; total time= 1.6min\n",
      "[CV] END criterion=entropy, max_features=sqrt, n_estimators=150; total time= 1.6min\n",
      "[CV] END criterion=entropy, max_features=sqrt, n_estimators=150; total time= 1.6min\n",
      "[CV] END criterion=entropy, max_features=sqrt, n_estimators=150; total time= 1.6min\n",
      "[CV] END criterion=entropy, max_features=sqrt, n_estimators=150; total time= 1.6min\n",
      "[CV] END criterion=entropy, max_features=log2, n_estimators=50; total time=  20.3s\n",
      "[CV] END criterion=entropy, max_features=log2, n_estimators=50; total time=  20.4s\n",
      "[CV] END criterion=entropy, max_features=log2, n_estimators=50; total time=  20.4s\n",
      "[CV] END criterion=entropy, max_features=log2, n_estimators=50; total time=  20.6s\n",
      "[CV] END criterion=entropy, max_features=log2, n_estimators=50; total time=  20.2s\n",
      "[CV] END criterion=entropy, max_features=log2, n_estimators=100; total time=  40.4s\n",
      "[CV] END criterion=entropy, max_features=log2, n_estimators=100; total time=  40.7s\n",
      "[CV] END criterion=entropy, max_features=log2, n_estimators=100; total time=  41.3s\n",
      "[CV] END criterion=entropy, max_features=log2, n_estimators=100; total time=  40.8s\n",
      "[CV] END criterion=entropy, max_features=log2, n_estimators=100; total time=  40.9s\n",
      "[CV] END criterion=entropy, max_features=log2, n_estimators=150; total time= 1.0min\n",
      "[CV] END criterion=entropy, max_features=log2, n_estimators=150; total time= 1.0min\n",
      "[CV] END criterion=entropy, max_features=log2, n_estimators=150; total time= 1.0min\n",
      "[CV] END criterion=entropy, max_features=log2, n_estimators=150; total time= 1.0min\n",
      "[CV] END criterion=entropy, max_features=log2, n_estimators=150; total time= 1.0min\n"
     ]
    }
   ],
   "source": [
    "# Random forest on base features with no oversampling\n",
    "hyper_parameters = {\"max_features\" : [\"sqrt\", \"log2\"],\n",
    "                    \"criterion\" : [\"gini\", \"entropy\"],\n",
    "                    \"n_estimators\" : [50, 100, 150]}\n",
    "\n",
    "rf_base = GridSearchCV(RandomForestClassifier(), param_grid=hyper_parameters, verbose=2)\n",
    "rf_base.fit(base_x_train, base_y_train)\n",
    "models[\"rf_base\"] = rf_base\n",
    "\n",
    "# Random forest on base features with oversampling\n",
    "rus = RandomOverSampler(random_state=42)\n",
    "base_x_oversample, base_y_oversample = rus.fit_resample(base_x_train, base_y_train)\n",
    "rf_base_oversample = GridSearchCV(RandomForestClassifier(), param_grid=hyper_parameters, verbose=2)\n",
    "rf_base_oversample.fit(base_x_oversample, base_y_oversample)\n",
    "models[\"rf_base_oversample\"] = rf_base_oversample\n",
    "\n",
    "# Random forest on base pca features with no oversampling\n",
    "rf_base_pca = GridSearchCV(RandomForestClassifier(), param_grid=hyper_parameters, verbose=2)\n",
    "rf_base_pca.fit(base_pca_x_train, base_pca_y_train)\n",
    "models[\"rf_base_pca\"] = rf_base_pca\n",
    "\n",
    "# Random forest on base pca features with oversampling\n",
    "rus = RandomOverSampler(random_state=42)\n",
    "base_pca_x_oversample, base_pca_y_oversample = rus.fit_resample(base_pca_x_train, base_pca_y_train)\n",
    "rf_base_pca_oversample = GridSearchCV(RandomForestClassifier(), param_grid=hyper_parameters, verbose=2)\n",
    "rf_base_pca_oversample.fit(base_pca_x_oversample, base_pca_y_oversample)\n",
    "models[\"rf_base_pca_oversample\"] = rf_base_pca_oversample\n",
    "\n",
    "# Random forest on graph features with no oversampling\n",
    "rf_graph = GridSearchCV(RandomForestClassifier(), param_grid=hyper_parameters, verbose=2)\n",
    "rf_graph.fit(graph_x_train, graph_y_train)\n",
    "models[\"rf_graph\"] = rf_graph\n",
    "\n",
    "# Random forest on graph features with oversampling\n",
    "rus = RandomOverSampler(random_state=42)\n",
    "graph_x_oversample, graph_y_oversample = rus.fit_resample(graph_x_train, graph_y_train)\n",
    "rf_graph_oversample = GridSearchCV(RandomForestClassifier(), param_grid=hyper_parameters, verbose=2)\n",
    "rf_graph_oversample.fit(graph_x_oversample, graph_y_oversample)\n",
    "models[\"rf_graph_oversample\"] = rf_graph_oversample\n",
    "\n",
    "# Random forest on graph pca features with no oversampling\n",
    "rf_graph_pca = GridSearchCV(RandomForestClassifier(), param_grid=hyper_parameters, verbose=2)\n",
    "rf_graph_pca.fit(graph_pca_x_train, graph_pca_y_train)\n",
    "models[\"rf_graph_pca\"] = rf_graph_pca\n",
    "\n",
    "# Random forest on graph pca features with oversampling\n",
    "rus = RandomOverSampler(random_state=42)\n",
    "graph_pca_x_oversample, graph_pca_y_oversample = rus.fit_resample(graph_pca_x_train, graph_pca_y_train)\n",
    "rf_graph_pca_oversample = GridSearchCV(RandomForestClassifier(), param_grid=hyper_parameters, verbose=2)\n",
    "rf_graph_pca_oversample.fit(graph_pca_x_oversample, graph_pca_y_oversample)\n",
    "models[\"rf_graph_pca_oversample\"] = rf_graph_pca_oversample\n"
   ]
  },
  {
   "cell_type": "code",
   "execution_count": null,
   "metadata": {
    "id": "YRVdk8SL9k9G"
   },
   "outputs": [],
   "source": [
    "class GCN(torch.nn.Module):\n",
    "    def __init__(self, out_c):\n",
    "        super().__init__()\n",
    "        self.conv1 = GCNConv(dl_data.num_node_features, out_c)\n",
    "        self.conv2 = GCNConv(out_c, 2)\n",
    "\n",
    "    def forward(self, data):\n",
    "        x, edge_index = data.x, data.edge_index\n",
    "\n",
    "        x = self.conv1(x, edge_index)\n",
    "        x = F.relu(x)\n",
    "        x = F.dropout(x, training=self.training)\n",
    "        x = self.conv2(x, edge_index)\n",
    "\n",
    "        return F.log_softmax(x, dim=1)\n",
    "\n",
    "lrs = [0.01, 0.001, 0.0001]\n",
    "out_cs = [16, 32, 48]\n",
    "dl_models = []\n",
    "for lr in lrs:\n",
    "    for out_c in out_cs:\n",
    "        print(\"Training model with out_c={} and learning rate={}\".format(out_c, lr))\n",
    "        scores = {}\n",
    "        scores[\"lr\"] = lr\n",
    "        scores[\"out_c\"] = out_c\n",
    "        device = torch.device('cuda' if torch.cuda.is_available() else 'cpu')\n",
    "        model = GCN(out_c).to(device)\n",
    "        data = dl_data.to(device)\n",
    "        optimizer = torch.optim.Adam(model.parameters(), lr=lr, weight_decay=5e-4)\n",
    "\n",
    "        model.train()\n",
    "        for epoch in range(200):\n",
    "            optimizer.zero_grad()\n",
    "            out = model(data)\n",
    "            loss = F.nll_loss(out[train_mask], data.y[train_mask])\n",
    "            loss.backward()\n",
    "            optimizer.step()\n",
    "\n",
    "        model.eval()\n",
    "        pred = model(data).argmax(dim=1)\n",
    "        scores[\"test_acc\"] = accuracy_score(pred[test_mask], data.y[test_mask])\n",
    "        scores[\"test_recall\"] = recall_score(pred[test_mask], data.y[test_mask])\n",
    "        scores[\"test_precision\"] = precision_score(pred[test_mask], data.y[test_mask])\n",
    "        scores[\"test_f1\"] = f1_score(pred[test_mask], data.y[test_mask])\n",
    "        dl_models.append(scores)\n",
    "dl_models = pd.DataFrame(dl_models)"
   ]
  },
  {
   "cell_type": "code",
   "execution_count": null,
   "metadata": {
    "id": "2lMVUkvQNz22"
   },
   "outputs": [],
   "source": [
    "evaluations = []\n",
    "for k,v in models.items():\n",
    "    scores = {}\n",
    "    scores[\"clf\"] = k\n",
    "    scores[\"params\"] = v.best_params_\n",
    "    if k.find(\"base_pca\") > -1:\n",
    "        ypred = v.best_estimator_.predict(base_pca_x_test[:,:base_pca_x_train.shape[1]])\n",
    "        scores[\"test_acc\"] = accuracy_score(ypred, base_y_test)\n",
    "        scores[\"test_recall\"] = recall_score(ypred, base_y_test)\n",
    "        scores[\"test_precision\"] = precision_score(ypred, base_y_test)\n",
    "        scores[\"test_f1\"] = precision_score(ypred, base_y_test)\n",
    "    elif k.find(\"base\") > -1:\n",
    "        ypred = v.best_estimator_.predict(base_x_test)\n",
    "        scores[\"test_acc\"] = accuracy_score(ypred, base_y_test)\n",
    "        scores[\"test_recall\"] = recall_score(ypred, base_y_test)\n",
    "        scores[\"test_precision\"] = precision_score(ypred, base_y_test)\n",
    "        scores[\"test_f1\"] = precision_score(ypred, base_y_test)\n",
    "    elif k.find(\"graph_pca\") > -1:\n",
    "        ypred = v.best_estimator_.predict(graph_pca_x_test[:,:graph_pca_x_train.shape[1]])\n",
    "        scores[\"test_acc\"] = accuracy_score(ypred, base_y_test)\n",
    "        scores[\"test_recall\"] = recall_score(ypred, base_y_test)\n",
    "        scores[\"test_precision\"] = precision_score(ypred, base_y_test)\n",
    "        scores[\"test_f1\"] = precision_score(ypred, base_y_test)\n",
    "    elif k.find(\"graph\") > -1:\n",
    "        ypred = v.best_estimator_.predict(graph_x_test)\n",
    "        scores[\"test_acc\"] = accuracy_score(ypred, base_y_test)\n",
    "        scores[\"test_recall\"] = recall_score(ypred, base_y_test)\n",
    "        scores[\"test_precision\"] = precision_score(ypred, base_y_test)\n",
    "        scores[\"test_f1\"] = precision_score(ypred, base_y_test)\n",
    "    evaluations.append(scores)\n",
    "evaluation_df = pd.DataFrame(evaluations)"
   ]
  },
  {
   "cell_type": "markdown",
   "metadata": {
    "id": "L1sOxR0ZIpFM"
   },
   "source": [
    "## Results\n",
    "### Deep learning model scores"
   ]
  },
  {
   "cell_type": "code",
   "execution_count": null,
   "metadata": {
    "colab": {
     "base_uri": "https://localhost:8080/",
     "height": 332
    },
    "executionInfo": {
     "elapsed": 241,
     "status": "ok",
     "timestamp": 1639874382024,
     "user": {
      "displayName": "David Chong",
      "photoUrl": "https://lh3.googleusercontent.com/a/default-user=s64",
      "userId": "17914885425914453493"
     },
     "user_tz": 0
    },
    "id": "SCVcFZSXBjGA",
    "outputId": "6f2e7610-1874-4005-d323-26221e3dd2f9"
   },
   "outputs": [
    {
     "data": {
      "text/html": [
       "<div>\n",
       "<style scoped>\n",
       "    .dataframe tbody tr th:only-of-type {\n",
       "        vertical-align: middle;\n",
       "    }\n",
       "\n",
       "    .dataframe tbody tr th {\n",
       "        vertical-align: top;\n",
       "    }\n",
       "\n",
       "    .dataframe thead th {\n",
       "        text-align: right;\n",
       "    }\n",
       "</style>\n",
       "<table border=\"1\" class=\"dataframe\">\n",
       "  <thead>\n",
       "    <tr style=\"text-align: right;\">\n",
       "      <th></th>\n",
       "      <th>lr</th>\n",
       "      <th>out_c</th>\n",
       "      <th>test_acc</th>\n",
       "      <th>test_recall</th>\n",
       "      <th>test_precision</th>\n",
       "      <th>test_f1</th>\n",
       "    </tr>\n",
       "  </thead>\n",
       "  <tbody>\n",
       "    <tr>\n",
       "      <th>2</th>\n",
       "      <td>0.0100</td>\n",
       "      <td>48</td>\n",
       "      <td>0.968130</td>\n",
       "      <td>0.972072</td>\n",
       "      <td>0.993129</td>\n",
       "      <td>0.982488</td>\n",
       "    </tr>\n",
       "    <tr>\n",
       "      <th>1</th>\n",
       "      <td>0.0100</td>\n",
       "      <td>32</td>\n",
       "      <td>0.965467</td>\n",
       "      <td>0.969003</td>\n",
       "      <td>0.993415</td>\n",
       "      <td>0.981057</td>\n",
       "    </tr>\n",
       "    <tr>\n",
       "      <th>0</th>\n",
       "      <td>0.0100</td>\n",
       "      <td>16</td>\n",
       "      <td>0.964007</td>\n",
       "      <td>0.968081</td>\n",
       "      <td>0.992747</td>\n",
       "      <td>0.980259</td>\n",
       "    </tr>\n",
       "    <tr>\n",
       "      <th>5</th>\n",
       "      <td>0.0010</td>\n",
       "      <td>48</td>\n",
       "      <td>0.959024</td>\n",
       "      <td>0.962456</td>\n",
       "      <td>0.993225</td>\n",
       "      <td>0.977598</td>\n",
       "    </tr>\n",
       "    <tr>\n",
       "      <th>4</th>\n",
       "      <td>0.0010</td>\n",
       "      <td>32</td>\n",
       "      <td>0.955502</td>\n",
       "      <td>0.959159</td>\n",
       "      <td>0.992843</td>\n",
       "      <td>0.975710</td>\n",
       "    </tr>\n",
       "    <tr>\n",
       "      <th>3</th>\n",
       "      <td>0.0010</td>\n",
       "      <td>16</td>\n",
       "      <td>0.953784</td>\n",
       "      <td>0.955967</td>\n",
       "      <td>0.994465</td>\n",
       "      <td>0.974836</td>\n",
       "    </tr>\n",
       "    <tr>\n",
       "      <th>8</th>\n",
       "      <td>0.0001</td>\n",
       "      <td>48</td>\n",
       "      <td>0.909114</td>\n",
       "      <td>0.913021</td>\n",
       "      <td>0.993702</td>\n",
       "      <td>0.951654</td>\n",
       "    </tr>\n",
       "    <tr>\n",
       "      <th>7</th>\n",
       "      <td>0.0001</td>\n",
       "      <td>32</td>\n",
       "      <td>0.900180</td>\n",
       "      <td>0.902393</td>\n",
       "      <td>0.996946</td>\n",
       "      <td>0.947316</td>\n",
       "    </tr>\n",
       "    <tr>\n",
       "      <th>6</th>\n",
       "      <td>0.0001</td>\n",
       "      <td>16</td>\n",
       "      <td>0.565072</td>\n",
       "      <td>0.969650</td>\n",
       "      <td>0.533543</td>\n",
       "      <td>0.688335</td>\n",
       "    </tr>\n",
       "  </tbody>\n",
       "</table>\n",
       "</div>"
      ],
      "text/plain": [
       "       lr  out_c  test_acc  test_recall  test_precision   test_f1\n",
       "2  0.0100     48  0.968130     0.972072        0.993129  0.982488\n",
       "1  0.0100     32  0.965467     0.969003        0.993415  0.981057\n",
       "0  0.0100     16  0.964007     0.968081        0.992747  0.980259\n",
       "5  0.0010     48  0.959024     0.962456        0.993225  0.977598\n",
       "4  0.0010     32  0.955502     0.959159        0.992843  0.975710\n",
       "3  0.0010     16  0.953784     0.955967        0.994465  0.974836\n",
       "8  0.0001     48  0.909114     0.913021        0.993702  0.951654\n",
       "7  0.0001     32  0.900180     0.902393        0.996946  0.947316\n",
       "6  0.0001     16  0.565072     0.969650        0.533543  0.688335"
      ]
     },
     "execution_count": 236,
     "metadata": {},
     "output_type": "execute_result"
    }
   ],
   "source": [
    "dl_models.sort_values(\"test_f1\", ascending=False)"
   ]
  },
  {
   "cell_type": "markdown",
   "metadata": {
    "id": "WXVGdQ1uIsa_"
   },
   "source": [
    "### Classical model scores"
   ]
  },
  {
   "cell_type": "code",
   "execution_count": null,
   "metadata": {
    "colab": {
     "base_uri": "https://localhost:8080/",
     "height": 551
    },
    "executionInfo": {
     "elapsed": 230,
     "status": "ok",
     "timestamp": 1639874395382,
     "user": {
      "displayName": "David Chong",
      "photoUrl": "https://lh3.googleusercontent.com/a/default-user=s64",
      "userId": "17914885425914453493"
     },
     "user_tz": 0
    },
    "id": "JFdKYmwxBDXv",
    "outputId": "69c02344-9a36-4bcc-8211-5b10c80888c7"
   },
   "outputs": [
    {
     "data": {
      "text/html": [
       "<div>\n",
       "<style scoped>\n",
       "    .dataframe tbody tr th:only-of-type {\n",
       "        vertical-align: middle;\n",
       "    }\n",
       "\n",
       "    .dataframe tbody tr th {\n",
       "        vertical-align: top;\n",
       "    }\n",
       "\n",
       "    .dataframe thead th {\n",
       "        text-align: right;\n",
       "    }\n",
       "</style>\n",
       "<table border=\"1\" class=\"dataframe\">\n",
       "  <thead>\n",
       "    <tr style=\"text-align: right;\">\n",
       "      <th></th>\n",
       "      <th>clf</th>\n",
       "      <th>params</th>\n",
       "      <th>test_acc</th>\n",
       "      <th>test_recall</th>\n",
       "      <th>test_precision</th>\n",
       "      <th>test_f1</th>\n",
       "    </tr>\n",
       "  </thead>\n",
       "  <tbody>\n",
       "    <tr>\n",
       "      <th>8</th>\n",
       "      <td>rf_base</td>\n",
       "      <td>{'criterion': 'entropy', 'max_features': 'sqrt...</td>\n",
       "      <td>0.987630</td>\n",
       "      <td>0.986628</td>\n",
       "      <td>0.999809</td>\n",
       "      <td>0.999809</td>\n",
       "    </tr>\n",
       "    <tr>\n",
       "      <th>12</th>\n",
       "      <td>rf_graph</td>\n",
       "      <td>{'criterion': 'entropy', 'max_features': 'sqrt...</td>\n",
       "      <td>0.987115</td>\n",
       "      <td>0.986345</td>\n",
       "      <td>0.999523</td>\n",
       "      <td>0.999523</td>\n",
       "    </tr>\n",
       "    <tr>\n",
       "      <th>13</th>\n",
       "      <td>rf_graph_oversample</td>\n",
       "      <td>{'criterion': 'gini', 'max_features': 'log2', ...</td>\n",
       "      <td>0.987544</td>\n",
       "      <td>0.986993</td>\n",
       "      <td>0.999332</td>\n",
       "      <td>0.999332</td>\n",
       "    </tr>\n",
       "    <tr>\n",
       "      <th>9</th>\n",
       "      <td>rf_base_oversample</td>\n",
       "      <td>{'criterion': 'gini', 'max_features': 'sqrt', ...</td>\n",
       "      <td>0.988747</td>\n",
       "      <td>0.988390</td>\n",
       "      <td>0.999237</td>\n",
       "      <td>0.999237</td>\n",
       "    </tr>\n",
       "    <tr>\n",
       "      <th>14</th>\n",
       "      <td>rf_graph_pca</td>\n",
       "      <td>{'criterion': 'entropy', 'max_features': 'sqrt...</td>\n",
       "      <td>0.964264</td>\n",
       "      <td>0.964546</td>\n",
       "      <td>0.996946</td>\n",
       "      <td>0.996946</td>\n",
       "    </tr>\n",
       "    <tr>\n",
       "      <th>15</th>\n",
       "      <td>rf_graph_pca_oversample</td>\n",
       "      <td>{'criterion': 'entropy', 'max_features': 'log2...</td>\n",
       "      <td>0.967700</td>\n",
       "      <td>0.968904</td>\n",
       "      <td>0.996087</td>\n",
       "      <td>0.996087</td>\n",
       "    </tr>\n",
       "    <tr>\n",
       "      <th>10</th>\n",
       "      <td>rf_base_pca</td>\n",
       "      <td>{'criterion': 'entropy', 'max_features': 'sqrt...</td>\n",
       "      <td>0.962718</td>\n",
       "      <td>0.964315</td>\n",
       "      <td>0.995419</td>\n",
       "      <td>0.995419</td>\n",
       "    </tr>\n",
       "    <tr>\n",
       "      <th>11</th>\n",
       "      <td>rf_base_pca_oversample</td>\n",
       "      <td>{'criterion': 'gini', 'max_features': 'log2', ...</td>\n",
       "      <td>0.960914</td>\n",
       "      <td>0.962960</td>\n",
       "      <td>0.994847</td>\n",
       "      <td>0.994847</td>\n",
       "    </tr>\n",
       "    <tr>\n",
       "      <th>0</th>\n",
       "      <td>lr_base</td>\n",
       "      <td>{'penalty': 'l2'}</td>\n",
       "      <td>0.911691</td>\n",
       "      <td>0.917779</td>\n",
       "      <td>0.990648</td>\n",
       "      <td>0.990648</td>\n",
       "    </tr>\n",
       "    <tr>\n",
       "      <th>4</th>\n",
       "      <td>lr_graph</td>\n",
       "      <td>{'penalty': 'none'}</td>\n",
       "      <td>0.934370</td>\n",
       "      <td>0.940510</td>\n",
       "      <td>0.989694</td>\n",
       "      <td>0.989694</td>\n",
       "    </tr>\n",
       "    <tr>\n",
       "      <th>6</th>\n",
       "      <td>lr_graph_pca</td>\n",
       "      <td>{'penalty': 'none'}</td>\n",
       "      <td>0.918306</td>\n",
       "      <td>0.925813</td>\n",
       "      <td>0.988453</td>\n",
       "      <td>0.988453</td>\n",
       "    </tr>\n",
       "    <tr>\n",
       "      <th>2</th>\n",
       "      <td>lr_base_pca</td>\n",
       "      <td>{'penalty': 'l2'}</td>\n",
       "      <td>0.925092</td>\n",
       "      <td>0.964510</td>\n",
       "      <td>0.951808</td>\n",
       "      <td>0.951808</td>\n",
       "    </tr>\n",
       "    <tr>\n",
       "      <th>5</th>\n",
       "      <td>lr_graph_oversample</td>\n",
       "      <td>{'penalty': 'l1'}</td>\n",
       "      <td>0.853964</td>\n",
       "      <td>0.990721</td>\n",
       "      <td>0.845691</td>\n",
       "      <td>0.845691</td>\n",
       "    </tr>\n",
       "    <tr>\n",
       "      <th>7</th>\n",
       "      <td>lr_graph_pca_oversample</td>\n",
       "      <td>{'penalty': 'none'}</td>\n",
       "      <td>0.835323</td>\n",
       "      <td>0.989705</td>\n",
       "      <td>0.825651</td>\n",
       "      <td>0.825651</td>\n",
       "    </tr>\n",
       "    <tr>\n",
       "      <th>1</th>\n",
       "      <td>lr_base_oversample</td>\n",
       "      <td>{'penalty': 'l2'}</td>\n",
       "      <td>0.818229</td>\n",
       "      <td>0.987638</td>\n",
       "      <td>0.808188</td>\n",
       "      <td>0.808188</td>\n",
       "    </tr>\n",
       "    <tr>\n",
       "      <th>3</th>\n",
       "      <td>lr_base_pca_oversample</td>\n",
       "      <td>{'penalty': 'none'}</td>\n",
       "      <td>0.609656</td>\n",
       "      <td>0.995492</td>\n",
       "      <td>0.568947</td>\n",
       "      <td>0.568947</td>\n",
       "    </tr>\n",
       "  </tbody>\n",
       "</table>\n",
       "</div>"
      ],
      "text/plain": [
       "                        clf  ...   test_f1\n",
       "8                   rf_base  ...  0.999809\n",
       "12                 rf_graph  ...  0.999523\n",
       "13      rf_graph_oversample  ...  0.999332\n",
       "9        rf_base_oversample  ...  0.999237\n",
       "14             rf_graph_pca  ...  0.996946\n",
       "15  rf_graph_pca_oversample  ...  0.996087\n",
       "10              rf_base_pca  ...  0.995419\n",
       "11   rf_base_pca_oversample  ...  0.994847\n",
       "0                   lr_base  ...  0.990648\n",
       "4                  lr_graph  ...  0.989694\n",
       "6              lr_graph_pca  ...  0.988453\n",
       "2               lr_base_pca  ...  0.951808\n",
       "5       lr_graph_oversample  ...  0.845691\n",
       "7   lr_graph_pca_oversample  ...  0.825651\n",
       "1        lr_base_oversample  ...  0.808188\n",
       "3    lr_base_pca_oversample  ...  0.568947\n",
       "\n",
       "[16 rows x 6 columns]"
      ]
     },
     "execution_count": 237,
     "metadata": {},
     "output_type": "execute_result"
    }
   ],
   "source": [
    "evaluation_df.sort_values(\"test_f1\", ascending=False)"
   ]
  },
  {
   "cell_type": "markdown",
   "metadata": {
    "id": "YFY1cFuxImFv"
   },
   "source": [
    "## Discussion\n",
    "\n",
    "### Overall ranking\n",
    "Overall the best classifiers are random forest classifiers, which is in keeping with the findings published along with the original dataset. Logistic regression performs remarkably well, outcompeting the graph convolutional networks. However, optimising the graph convolutional network hyperparameters is likely more challenging that for logistic regression and the random forest. Based on the space sampled thus far, it appears that there is still room for improvement, as increasing the output channel dimensions has a positive effect on the F1 score, and it has not yet reached a plateau. Additionally, the models may not have completed training, as the increase in learning rate for 200 epochs still provides increased performance.\n",
    "\n",
    "### Effect of oversampling\n",
    "In all cases the use of oversampling to during training results in worse performance.\n",
    "\n",
    "### Effect of dimensionality reduction\n",
    "In all cases the use of PCA to construct orthogonal features and reduce dimensionality results in worse performance.\n",
    "\n",
    "### Effect of manual graph features\n",
    "In most cases, the addition of graph features as created by taking the mean of each feature of a nodes first degree neighbours did not result in significant improvement in F1 score. This is likely because the existing features already include some graph related features such as in and out degree."
   ]
  },
  {
   "cell_type": "markdown",
   "metadata": {
    "id": "IaKZYXJYLknt"
   },
   "source": [
    "## Limitations\n",
    "\n",
    "Due to time limitations, full exploration of each model was not possible, particularly for the deep learning approach. Furthermore, the fact that random forests can perform at such a high level on this data set also suggests that any classifier would be hitting some hard limit of performance ceiling, as the difference in performance between each classifier is minimal."
   ]
  },
  {
   "cell_type": "code",
   "execution_count": null,
   "metadata": {
    "id": "MC19bDzeLil2"
   },
   "outputs": [],
   "source": []
  }
 ],
 "metadata": {
  "colab": {
   "collapsed_sections": [],
   "name": "Copy of CIS545 Project.ipynb",
   "provenance": [
    {
     "file_id": "1rAnX3NntPez0z0lzBv0CpvwJ6XqKi9_p",
     "timestamp": 1639876638510
    }
   ],
   "toc_visible": true
  },
  "kernelspec": {
   "display_name": "Python 3",
   "language": "python",
   "name": "python3"
  },
  "language_info": {
   "codemirror_mode": {
    "name": "ipython",
    "version": 3
   },
   "file_extension": ".py",
   "mimetype": "text/x-python",
   "name": "python",
   "nbconvert_exporter": "python",
   "pygments_lexer": "ipython3",
   "version": "3.8.5"
  }
 },
 "nbformat": 4,
 "nbformat_minor": 1
}
